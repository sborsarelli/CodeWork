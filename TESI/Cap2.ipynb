{
 "cells": [
  {
   "cell_type": "markdown",
   "metadata": {},
   "source": [
    "# Estimator design with state variables\n",
    "The control law assumes that all the state variables are available for feed back. In most cases, not all the state variables are measured. The cost of the required sensors may be prohibitive, or it may be physically impossible to measure all of the state variables.\n",
    "One method of estimating the state is to construct a full order model of the plant dynamics:"
   ]
  },
  {
   "cell_type": "markdown",
   "metadata": {},
   "source": [
    "\\begin{equation}\n",
    "\\dot{\\hat{\\pmb x}} = \\pmb F \\pmb{\\hat x} + \\pmb G u\n",
    "\\label{eq:xhat} \n",
    "\\end{equation}"
   ]
  },
  {
   "cell_type": "markdown",
   "metadata": {},
   "source": [
    "where $\\pmb{\\hat x}$ is the estimate of the actual state $\\pmb x$. To study the dynamics of this estimator, we define the error in the estimate to be:"
   ]
  },
  {
   "cell_type": "markdown",
   "metadata": {},
   "source": [
    "\\begin{equation}\n",
    "\\tilde{\\pmb x} = \\pmb x - \\pmb{\\hat x}\n",
    "\\end{equation}"
   ]
  },
  {
   "cell_type": "markdown",
   "metadata": {},
   "source": [
    "Then the dynamics of this error system are given by:"
   ]
  },
  {
   "cell_type": "markdown",
   "metadata": {},
   "source": [
    "\\begin{equation}\n",
    "\\dot{\\tilde{\\pmb x}} = \\pmb F \\tilde{\\pmb x}, \\space  \\tilde{\\pmb x}(0)= \\pmb x(0) - \\hat{\\pmb x}(0)\n",
    "\\end{equation}"
   ]
  },
  {
   "cell_type": "markdown",
   "metadata": {},
   "source": [
    "The error convergences to zero for a stable system (**F** stable), but we have no ability to influence the rate at which the state estimate converges to the true state. Furthermore, the error is converging to zero at the same rate as the natural dynamics of **F**. If this convergence rate were satisfactory, no control or estimation would be required. The golden rule is: when in trouble use feedback. Consider the feedback the difference between the measured and estimate outputs and correcting the model continuously with this error signal. The equation for this scheme is: "
   ]
  },
  {
   "cell_type": "markdown",
   "metadata": {},
   "source": [
    "\\begin{equation}\n",
    "\\dot{\\hat{\\pmb x}} = \\pmb F \\hat{\\pmb x} + \\pmb G u + \\pmb L(y - \\pmb H \\hat{\\pmb x})\n",
    "\\label{eq:dot_hat_x} \n",
    "\\end{equation}"
   ]
  },
  {
   "cell_type": "markdown",
   "metadata": {},
   "source": [
    "Here **L** is a proportional gain defined as:\n",
    "\\begin{equation}\n",
    "\\pmb L = [l_1,l_2,.....,l_n]^T\n",
    "\\end{equation}"
   ]
  },
  {
   "cell_type": "markdown",
   "metadata": {},
   "source": [
    "and is chosen to achieve satisfactory error characteristics. The dynamics of the error can be obtained by subtracting the estimate $\\eqref{eq:dot_hat_x}$ from $\\eqref{eq:stat-form}$ to get the error equation:"
   ]
  },
  {
   "cell_type": "markdown",
   "metadata": {},
   "source": [
    "\\begin{equation}\n",
    "    \\dot{\\tilde{\\pmb x}} = (\\pmb F - \\pmb LH)\\tilde{\\pmb x}\n",
    "\\end{equation}"
   ]
  },
  {
   "cell_type": "markdown",
   "metadata": {},
   "source": [
    "and the characteristic equation of the error is now given by:\n",
    "\n",
    "\\begin{equation}\n",
    "    det[s \\pmb I - (\\pmb{F - LH})] = 0\n",
    "    \\label{eq:det_est} \n",
    "\\end{equation}"
   ]
  },
  {
   "cell_type": "markdown",
   "metadata": {},
   "source": [
    "If we can choose $\\pmb L$ so that $\\pmb F - \\pmb{LH}$ has stable and reasonably fast eigenvalues, then $\\tilde{\\pmb x}$ will decay to zero and remain there independent of the known forcing function $u(t)$ and its effect on the state $x(t)$ and irrespective on the initial condition $\\tilde{\\pmb x}(0)$. This means that $\\hat{\\pmb x(t)}$ will converge to $\\pmb{x}(t)$, regardless of the value of $\\hat{\\pmb x}(0)$. However we can typically choose $\\pmb L$ so that the error system is still at least stable and the error remains acceptably small, even with modeling errors and disturbing inputs. The selection of $\\pmb L$ can be approached in exactly the same fashion as $\\pmb K$ is selected in the control law design. If we specify the desired location of the estimator error poles as:"
   ]
  },
  {
   "cell_type": "markdown",
   "metadata": {},
   "source": [
    "\\begin{equation}\n",
    "    s_i = \\beta_1, \\beta_2,....\\beta_n\n",
    "\\end{equation}"
   ]
  },
  {
   "cell_type": "markdown",
   "metadata": {},
   "source": [
    "then the desired estimator characteristic equation is:"
   ]
  },
  {
   "cell_type": "markdown",
   "metadata": {},
   "source": [
    "\\begin{equation}\n",
    "    \\alpha_e(s) = (s-\\beta_1)(s-\\beta_2)....(s-\\beta_n)\n",
    "    \\label{eq:char_eq} \n",
    "\\end{equation}"
   ]
  },
  {
   "cell_type": "markdown",
   "metadata": {},
   "source": [
    "We can then solve for $\\pmb L$ by comparing coefficients in Eqs. $\\eqref{eq:det_est}$ and $\\eqref{eq:char_eq}$."
   ]
  },
  {
   "cell_type": "markdown",
   "metadata": {},
   "source": [
    "## The observability\n",
    "As begun in the introduction it's time to spent some raw talking about the **observability** of state variables. In a development exactly parallel with the control-law case, we can find a transformation to take a given system to observer canonical form if and only if the system has structural properties that in this case we call as mention just like above. Roughly speaking, observability refers to our ability to deduce information about all the modes of the system by monitoring only the sensed outputs. Not observability results when some mode or subsystem is disconnected physically from the output and therefore no longer appears in the measurements. The mathematical test for determining observability is that the **observability matrix**:  "
   ]
  },
  {
   "cell_type": "markdown",
   "metadata": {},
   "source": [
    "\\begin{equation}\n",
    "\\mathcal{O} = \\begin{bmatrix}\n",
    "\\pmb H\\\\\n",
    "\\pmb{HF}\\\\\n",
    "..\\\\\n",
    "..\\\\\n",
    "\\pmb{HF}^{n-1}\n",
    "\\end{bmatrix}\n",
    "\\label{eq:obs_mat}\n",
    "\\end{equation}"
   ]
  },
  {
   "cell_type": "markdown",
   "metadata": {},
   "source": [
    "must have independent columns. In general, we can find a transformation to observer canonical form if and only if the observability matrix is nonsingular (full rank).Note that is analogous to our earlier conclusion for transforming system matrices to control canonical form.\n",
    "As with control law design, we could find the transformation to observer form, compute the gains from the equivalent of $\\pmb F_o - \\pmb L \\pmb H_o$ and transform back. An alternative method of computing $\\pmb L$ is to use the Ackermann's formula in estimator form: "
   ]
  },
  {
   "cell_type": "markdown",
   "metadata": {},
   "source": [
    "\\begin{equation}\n",
    "\\pmb L = \\alpha_e(\\pmb F)\\mathcal{O}^{-1}\n",
    "\\begin{bmatrix}\n",
    "0 \\\\\n",
    "0 \\\\\n",
    ".. \\\\\n",
    ".. \\\\\n",
    "1 \\\\\n",
    "\\end{bmatrix} \n",
    "\\end{equation}"
   ]
  },
  {
   "cell_type": "markdown",
   "metadata": {},
   "source": [
    "where $\\mathcal{O}$ is the observability matrix given in $\\eqref{eq:obs_mat}$."
   ]
  },
  {
   "cell_type": "markdown",
   "metadata": {},
   "source": [
    "### Hand-on labs of observability of the cart-pendulum\n",
    "This code snippet goes to calculate the observability matrix when the measurement matrix **H** (in the code is C) select a sensor related to x cart position and then reply the calculation for $\\theta$ measurement. It can be highlighted that the determinant is nonzero (full rank) in the first trial and zero in the second one. In particular  tuns out that in the second is impossible to reconstruct the x position because that coordinate does not affect the others; equations of cart pendulum are invariant for translations in x position. It's important reconstruct the cart position to have full estimate of state variable putting them in the LQR block for resulting compensator placed in the feed back (as it will see later).\n",
    "\n",
    "```\n",
    "clear all, close all, clc\n",
    "\n",
    "m = 1;\n",
    "M = 5;\n",
    "L = 2;\n",
    "g = -10;\n",
    "d = 1;\n",
    "\n",
    "s = -1; % pendulum up (s=1)\n",
    "\n",
    "A = [0 1 0 0;\n",
    "    0 -d/M -m*g/M 0;\n",
    "    0 0 0 1;\n",
    "    0 -s*d/(M*L) -s*(m+M)*g/(M*L) 0];\n",
    "\n",
    "B = [0; 1/M; 0; s*1/(M*L)];\n",
    "\n",
    "C = [1 0 0 0]; \n",
    "\n",
    "obsv(A,C)\n",
    "det(obsv(A,C))\n",
    "\n",
    "%%  only observable if x measured... because x can't be\n",
    "%% reconstructed\n",
    "C = [0 0 1 0];\n",
    "\n",
    "obsv(A,C)\n",
    "det(obsv(A,C))\n",
    "```\n",
    "The terminal result:\n",
    "```\n",
    "ans =\n",
    "\n",
    "    1.0000         0         0         0\n",
    "         0    1.0000         0         0\n",
    "         0   -0.2000    2.0000         0\n",
    "         0    0.0400   -0.4000    2.0000\n",
    "\n",
    "\n",
    "ans =\n",
    "\n",
    "     4\n",
    "\n",
    "\n",
    "ans =\n",
    "\n",
    "         0         0    1.0000         0\n",
    "         0         0         0    1.0000\n",
    "         0    0.1000   -6.0000         0\n",
    "         0   -0.0200    0.2000   -6.0000\n",
    "\n",
    "\n",
    "ans =\n",
    "\n",
    "     0\n",
    "```\n",
    "---"
   ]
  },
  {
   "cell_type": "markdown",
   "metadata": {},
   "source": [
    "## Estimator poles selection. The optimal full-state estimation \n",
    "In comparison with the selection of controllers poles, estimator poles selection require to be concerned with a much different relationship than with control effort. As in controller, there is a feedback term in the estimator that grows in magnitude as the requested speed of response increases. However this feedback is in the form of an electronic signal or a digital word in a computer, so its growth causes no special difficulty. The important consequence of increasing the speed of response of an estimator is that the bandwidth of the estimator becomes higher, thus causing more sensor noise to pass on to the control actuator. Like the controller the estimator design (and the poles selection) is a balance between good transient response and low-enough bandwidth that sensor noise does not significantly impact the actuator activity.   \n",
    "When deriving the optimal full-state estimator, it is necessary to re-introduce disturbances to the state, $\\pmb w_d$ , and sensor noise, $\\pmb w_n$ :"
   ]
  },
  {
   "cell_type": "markdown",
   "metadata": {},
   "source": [
    "\\begin{align}\\label{eq:augsys} \n",
    "\\dot{\\pmb x} &= \\pmb{Fx} + \\pmb{Gu} + \\pmb{w}_d\\\\\n",
    "\\pmb y &= \\pmb Hx + \\pmb Ju + \\pmb{w}_n \n",
    "\\end{align}"
   ]
  },
  {
   "cell_type": "markdown",
   "metadata": {},
   "source": [
    "By hypothesis is assumed that disturbance and noise are zero-mean Gaussian processes with known covariances:"
   ]
  },
  {
   "cell_type": "markdown",
   "metadata": {},
   "source": [
    "\\begin{align}\n",
    "E(\\pmb{w}_d(t) \\pmb{w}_d(\\tau)^*) &= Q \\delta (t - \\tau)\\\\\n",
    "E(\\pmb{w}_n(t) \\pmb{w}_n(\\tau)^*) &= R \\delta (t - \\tau)\n",
    "\\end{align}"
   ]
  },
  {
   "cell_type": "markdown",
   "metadata": {},
   "source": [
    "Here $E$ is the expected value and $\\delta (.)$ is the Dirac delta function. The matrices $Q$ and $R$ are positive semi-definite with entries containing the covariances of the disturbance and noise terms. It is possible to obtain an estimate $\\hat{\\pmb x}$ of the full-state $\\pmb x$ from measurements of the input $\\pmb u$ and output $\\pmb y$, via the following estimator dynamical system:"
   ]
  },
  {
   "cell_type": "markdown",
   "metadata": {},
   "source": [
    "\\begin{align}\\label{eq:estimator}\n",
    "\\dot{\\hat{\\pmb x}} &= \\pmb F \\hat{\\pmb x} + \\pmb Gu + \\pmb L (\\pmb y - \\hat{\\pmb y})\\\\\n",
    "\\hat{\\pmb y} &= \\pmb H \\hat{\\pmb x} + \\pmb Ju\n",
    "\\end{align}"
   ]
  },
  {
   "cell_type": "markdown",
   "metadata": {},
   "source": [
    "The matrices $\\pmb F, \\pmb G, \\pmb H, \\pmb J$ are obtained from the system model and the filter\n",
    "gain $\\pmb L$ is determined via a similar procedure as in LQR. $\\pmb L$ is given by:"
   ]
  },
  {
   "cell_type": "markdown",
   "metadata": {},
   "source": [
    "\\begin{equation}\n",
    "\\pmb L = \\pmb Y \\pmb H^* \\pmb R\n",
    "\\end{equation}"
   ]
  },
  {
   "cell_type": "markdown",
   "metadata": {},
   "source": [
    "where $\\pmb Y$ is the solution to another algebraic Riccati equation:"
   ]
  },
  {
   "cell_type": "markdown",
   "metadata": {},
   "source": [
    "\\begin{equation}\n",
    "    \\pmb YF^* + \\pmb FY - \\pmb{YH}^* \\pmb R^{-1} \\pmb H \\pmb Y + \\pmb Q = \\pmb 0\n",
    "\\end{equation}"
   ]
  },
  {
   "cell_type": "markdown",
   "metadata": {},
   "source": [
    "This solution is commonly referred to as the Kalman filter, and it is the optimal full-state estimator with respect to the following cost function:"
   ]
  },
  {
   "cell_type": "markdown",
   "metadata": {},
   "source": [
    "\\begin{equation}\n",
    "    J = \\lim\\limits_{t \\to \\infty} {E[\\tilde x(t)^* \\tilde x(t)]}\n",
    "\\end{equation}"
   ]
  },
  {
   "cell_type": "markdown",
   "metadata": {},
   "source": [
    "This cost function implicitly includes the effects of disturbance and noise, which are required to determine the optimal balance between aggressive estimation and noise attenuation. Thus, the Kalman filter is referred to as linear quadratic estimation (LQE), and has a dual formulation to the LQR optimization.\n",
    "The estimator dynamical system is expressed in terms of the estimate $\\hat{\\pmb x}$ with inputs $\\pmb y$ and $\\pmb u$. If the system is observable it is possible to place the eigenvalues of $\\pmb F - \\pmb L \\pmb H$ arbitrarily with choice of $\\pmb L$ . When the eigenvalues of the estimator are stable, then the state estimate $\\hat{\\pmb x}$ converges to the full-state $\\pmb x$ asymptotically, as long as the model faithfully captures the true system dynamics. To see this convergence, consider the dynamics of the estimation error $\\pmb{\\epsilon} = \\pmb x - \\pmb{\\hat x}$:"
   ]
  },
  {
   "cell_type": "markdown",
   "metadata": {},
   "source": [
    "\\begin{align}\n",
    "\\dot{\\pmb{\\epsilon}} &= {\\pmb{x}} - \\hat{\\pmb{x}} \\nonumber\\\\\n",
    "                     &= [\\pmb{Fx} + \\pmb{Gu} + \\pmb{w}_d] - [(\\pmb F - \\pmb{LH}) \\hat{\\pmb x} + \\pmb{Ly} + (\\pmb G - \\pmb{LJ})\\pmb u]\\\\\n",
    "                     &= (\\pmb F - \\pmb{LH}) \\epsilon + \\pmb w_d - \\pmb L \\pmb w_n \\nonumber\n",
    "\\end{align}"
   ]
  },
  {
   "cell_type": "markdown",
   "metadata": {},
   "source": [
    "Therefore, the estimate $\\hat{\\pmb x}$ will converge to the true full state when $\\pmb F - \\pmb L \\pmb H$ has stable eigenvalues. As with LQR, there is a trade-off between over-stabilization of these eigenvalues and the amplification of sensor noise. This is similar to the behavior of an inexperienced driver who may hold the steering wheel too tightly and will overreact to every minor bump and disturbance on the road."
   ]
  },
  {
   "cell_type": "markdown",
   "metadata": {},
   "source": [
    "### Plant disturbance and Noise measurement. Hand-on labs\n",
    "To give a demostration of best choise of $L \\equiv K_f$ it's considered a system with $J=0$ in $\\eqref{eq:augsys}$ and pendulum in bottom position. It's better create a practical solution around a stable equilibrium point because the algebra is the same. The system represented in the <a href=#fig5>picture</a> shows the linearized system with input $u$ to be the force applied to the cart pendulum, $w_d$ the gaussian zero-mean disturbance applied to the model and the cart position ($\\pmb H=[1 0 0 0]$) noised as output of state variable observed. The goal is reconstruct the full state estimate. To do it is necessary to re-represent the system like 2 *augmented* blocks to feed in Matlab functions:     "
   ]
  },
  {
   "cell_type": "markdown",
   "metadata": {},
   "source": [
    "\\begin{align}\n",
    "\\pmb Q &= 0.1 \\pmb{I} & \\pmb x = \\begin{bmatrix} x\\\\ \\dot x\\\\ \\theta\\\\      \\dot{\\theta} \\end{bmatrix}\\\\\n",
    "R &= 1   \n",
    "\\end{align}"
   ]
  },
  {
   "cell_type": "markdown",
   "metadata": {},
   "source": [
    "\\begin{equation} \\label{eq:aug-eqs}\n",
    "\\begin{split}\n",
    "\\pmb{G}_A & = \\begin{bmatrix}\\pmb G & \\pmb Q & \\pmb{\\underline{0}}x \\pmb B\\end{bmatrix}\\\\\n",
    "\\pmb{F}_A & = \\pmb{F}\\\\\n",
    "\\pmb{H}_A & = \\pmb H\\\\\n",
    "\\pmb{J}_A & = \\begin{bmatrix} 0 & 0 & 0 & 0 & 0 & R \\end{bmatrix}\n",
    "\\end{split}\n",
    "\\end{equation}"
   ]
  },
  {
   "cell_type": "markdown",
   "metadata": {},
   "source": [
    "---"
   ]
  },
  {
   "cell_type": "markdown",
   "metadata": {},
   "source": [
    "|       | \n",
    "|:-------:|\n",
    "|![fig5](images/kfscheme.png)|"
   ]
  },
  {
   "cell_type": "markdown",
   "metadata": {},
   "source": [
    "<p><a name=\"fig11\">Fig 11</a> A scheme of Kalman Filter; d and n are disturbance of state system and noise measurement introduced in the simulation</p>"
   ]
  },
  {
   "cell_type": "markdown",
   "metadata": {},
   "source": [
    "According to the equations $\\eqref{eq:estimator}$, by inspecting $\\eqref{eq:stat-form}$ and $\\eqref{eq:output}$ the *new* estimator-system matrices are:"
   ]
  },
  {
   "cell_type": "markdown",
   "metadata": {},
   "source": [
    "\\begin{equation}\n",
    "\\label{eq:kalman-system}\n",
    "\\begin{split}\n",
    "\\pmb{F}_k &= \\pmb F - \\pmb{K}_f \\pmb H\\\\\n",
    "\\pmb{G}_k &= \\begin{bmatrix}\\pmb G \\pmb{K}_f \\end{bmatrix}\\\\\n",
    "\\pmb{H}_k &= \\pmb I\\\\\n",
    "\\pmb{J}_k &= \\pmb{0}\n",
    "\\end{split}\n",
    "\\end{equation}"
   ]
  },
  {
   "cell_type": "markdown",
   "metadata": {},
   "source": [
    "The input $u$ is augmented also to taking into account of disturbance plant and noise measurement:"
   ]
  },
  {
   "cell_type": "markdown",
   "metadata": {},
   "source": [
    "\\begin{equation}\n",
    "\\label{eq:u_noise}\n",
    "\\pmb{u}_{aug} = \\begin{bmatrix} u & {Q}^2 * \\pmb{u}_{dist} & u_{noise}\\end{bmatrix}\n",
    "\\end{equation}"
   ]
  },
  {
   "cell_type": "markdown",
   "metadata": {},
   "source": [
    "The code:\n",
    "```\n",
    "clear all, close all, clc\n",
    "\n",
    "m = 1;\n",
    "M = 5;\n",
    "L = 2;\n",
    "g = -10;\n",
    "d = 1;\n",
    "\n",
    "s = -1; % pendulum up (s=1)\n",
    "\n",
    "% y = [x; dx; theta; dtheta];\n",
    "F = [0 1 0 0;\n",
    "    0 -d/M -m*g/M 0;\n",
    "    0 0 0 1;\n",
    "    0 -s*d/(M*L) -s*(m+M)*g/(M*L) 0];\n",
    "\n",
    "G = [0; 1/M; 0; s*1/(M*L)];\n",
    "\n",
    "H = [1 0 0 0];  \n",
    "\n",
    "J = zeros(size(H,1),size(G,2));\n",
    "\n",
    "%%  Augment system with disturbances and noise\n",
    "Q = .1*eye(4);  % disturbance covariance\n",
    "R = 1;       % noise covariance\n",
    "\n",
    "GA = [G Q 0*G];  % augment inputs to include disturbance and noise\n",
    "\n",
    "sysH = ss(F,GA,H,[0 0 0 0 0 R]);  % build big state space system... with single output\n",
    "\n",
    "% system with full state output, disturbance, no noise\n",
    "sysFullOutput = ss(F,GA,eye(4),zeros(4,size(GA,2)));  \n",
    "\n",
    "%%  Build Kalman filter\n",
    "[L,P,E] = lqe(F,Q,H,Q,R);  % design Kalman filter\n",
    "Kf = (lqr(F',H',Q,R))';   % alternatively, possible to design using \"LQR\" code\n",
    "\n",
    "sysKF = ss(F-L*H,[G L],eye(4),0*[G L]);  % Kalman filter estimator\n",
    "\n",
    "%%  Estimate linearized system in \"down\" position (Gantry crane)\n",
    "dt = .01;\n",
    "t = dt:dt:50;\n",
    "\n",
    "uDIST = randn(4,size(t,2));\n",
    "uNOISE = randn(size(t));\n",
    "u = 0*t;\n",
    "u(100:120) = 100;     % impulse\n",
    "u(1500:1520) = -100;  % impulse\n",
    "\n",
    "uAUG = [u; Q*Q*uDIST; uNOISE];\n",
    "\n",
    "[y,t] = lsim(sysH,uAUG,t);\n",
    "[xtrue,t] = lsim(sysFullOutput,uAUG,t);\n",
    "\n",
    "\n",
    "[x,t] = lsim(sysKF,[u; y'],t);\n",
    "\n",
    "plot(t,xtrue,'-',t,x,'--','LineWidth',2)\n",
    "\n",
    "figure\n",
    "plot(t,y)\n",
    "hold on\n",
    "plot(t,xtrue(:,1),'r')\n",
    "plot(t,x(:,1),'k--')\n",
    "```\n",
    "---"
   ]
  },
  {
   "cell_type": "markdown",
   "metadata": {},
   "source": [
    "|         |\n",
    "|:---------:|\n",
    "|![graph](images/cartpendxpos.png)|\n",
    "<p> <a name=\"simnoise\"> Fig. 12 </a> Simulation of a noise position from an impulse system. Estimate position \"cover\" the true</p>\n",
    "\n",
    "|         |\n",
    "|:---------:|\n",
    "|![graph-est](images/true-estimate.png)|\n",
    "<p> <a name=\"true-estimate\"> Fig. 13 </a> Showing the state variable \"true\" and estimate</p>"
   ]
  },
  {
   "cell_type": "markdown",
   "metadata": {},
   "source": [
    "With the estimate state, it's the time to \"*feedback*\" it in a Linear Quadratic Regulator to combine control and estimation together. "
   ]
  },
  {
   "cell_type": "markdown",
   "metadata": {},
   "source": [
    "## Optimal sensor-based control: Linear quadratic Gaussian (LQG)\n",
    "The full-state estimate from the Kalman filter is generally used in conjunction\n",
    "with the full-state feedback control law from LQR, resulting in optimal sensor-\n",
    "based feedback. Remarkably, the LQR gain $K_r$ and the Kalman filter gain $K_f$\n",
    "may be designed separately, and the resulting sensor-based feedback will re-\n",
    "main optimal and retain the closed-loop eigenvalues when combined.\n",
    "Combining the LQR full-state feedback with the Kalman filter full-state estimator results in the linear-quadratic Gaussian (LQG) controller. The LQG controller is a dynamical system with input y, output u, and internal state $\\hat{\\pmb x}$:"
   ]
  },
  {
   "cell_type": "markdown",
   "metadata": {},
   "source": [
    "\\begin{equation} \\label{eq:LQGsys}\n",
    "\\begin{split}\n",
    "\\frac{d}{dt}\\hat{\\pmb x} =& (\\pmb F - \\pmb{K}_f \\pmb H - \\pmb G \\pmb{K}_r) \\hat{\\pmb x} + \\pmb{K}_f \\pmb y\\\\\n",
    "\\pmb u =& -\\pmb K_r \\hat{\\pmb x} \n",
    "\\end{split}\n",
    "\\end{equation}"
   ]
  },
  {
   "cell_type": "markdown",
   "metadata": {},
   "source": [
    "The LQG controller is optimal with respect to the following ensemble-averaged\n",
    "version of the cost function from $\\eqref{eq:costfunc}$:"
   ]
  },
  {
   "cell_type": "markdown",
   "metadata": {},
   "source": [
    "\\begin{equation}\n",
    "\\label{eq:costfunc2}\n",
    "J(t) = \\left\\langle \n",
    "\\int\\limits_0^{t} [\\pmb x(\\tau)^* \\pmb Q \\pmb x(\\tau) + \\pmb u(\\tau)^* \\pmb R \\pmb u(\\tau)  d\\tau]  \n",
    "\\right\\rangle.\n",
    "\\end{equation}"
   ]
  },
  {
   "cell_type": "markdown",
   "metadata": {},
   "source": [
    "The controller $\\pmb u = \\pmb K_r \\hat{\\pmb x}$ is in terms of the state estimate, and so this cost\n",
    "function must be averaged over many realizations of the disturbance and noise.\n",
    "Applying LQR to $\\hat{\\pmb x}$ results in the following state dynamics:"
   ]
  },
  {
   "cell_type": "markdown",
   "metadata": {},
   "source": [
    "\\begin{equation}\n",
    "\\begin{split}\n",
    "\\frac{d}{dt} \\pmb x =& \\pmb F \\pmb x - \\pmb G \\pmb K_r \\hat{\\pmb x} + \\pmb w_d\\\\\n",
    "                    =& \\pmb F \\pmb x - \\pmb G \\pmb K_r {\\pmb x} + \\pmb G \\pmb K_r(\\pmb{x-\\hat x}) + \\pmb w_d\\\\\n",
    "                    =& \\pmb F \\pmb x - \\pmb G \\pmb K_r {\\pmb x} + \\pmb G \\pmb K_r \\pmb \\epsilon + \\pmb w_d\n",
    "\\end{split}\n",
    "\\end{equation}"
   ]
  },
  {
   "cell_type": "markdown",
   "metadata": {},
   "source": [
    "Again $\\pmb \\epsilon = \\pmb{x - \\hat x}$ as before. Finally the closed-loop system may be written as"
   ]
  },
  {
   "cell_type": "markdown",
   "metadata": {},
   "source": [
    "\\begin{align}\n",
    "\\label{eq:clsys}\n",
    "\\frac{d}{dt}\n",
    "\\begin{bmatrix} \n",
    "\\pmb x\\\\\n",
    "\\pmb \\epsilon   \n",
    "\\end{bmatrix} = \n",
    "\\begin{bmatrix}\n",
    "\\pmb F - \\pmb G \\pmb K_r & \\pmb{GK}_r\\\\\n",
    "\\pmb 0 & \\pmb F - \\pmb K_f \\pmb H\n",
    "\\end{bmatrix}\n",
    "\\begin{bmatrix}\n",
    "\\pmb x\\\\\n",
    "\\pmb \\epsilon \n",
    "\\end{bmatrix}\n",
    "+\n",
    "\\begin{bmatrix}\n",
    "\\pmb I & \\pmb 0\\\\\n",
    "\\pmb I & -\\pmb K_f\n",
    "\\end{bmatrix}\n",
    "\\begin{bmatrix}\n",
    "\\pmb w_d\\\\\n",
    "\\pmb w_n\n",
    "\\end{bmatrix}\n",
    "\\end{align}\n"
   ]
  },
  {
   "cell_type": "markdown",
   "metadata": {},
   "source": [
    "Thus, the closed-loop eigenvalues of the LQG regulated system are given by\n",
    "the **eigenvalues** of $\\pmb F - \\pmb{GK}_r$ and $\\pmb F - \\pmb K_f \\pmb H$, which were optimally chosen by the\n",
    "LQR and Kalman filter gain matrices, respectively. This in control theory is called **the separation principle** which essentially means it's possible design the LQR and LQE separately and when they are combined together the system retains the desirable properties of each of them.  "
   ]
  },
  {
   "cell_type": "markdown",
   "metadata": {},
   "source": [
    "|           |\n",
    "|:---------:|\n",
    "|![Here LQG](images/LQGblock.png)|\n",
    "\n",
    "<p><a name=\"LQG\">Fig 14</a> Schematic illustrating the linear quadratic Gaussian (LQG) controller for optimal closed-loop feedback based on noisy measurements y. The optimal LQR and Kalman filter gain matrices $K_r$ and $K_f$ may be designed independently, based on two different algebraic Riccati equations. When combined,the resulting sensor-based feedback remains optimal.</p>"
   ]
  },
  {
   "cell_type": "markdown",
   "metadata": {},
   "source": [
    "It's worthwhile to mention that LQG framework relies on an accurate model of the system and knowledge of the magnitudes of the disturbances and measurement noise, which are assumed to be Gaussian processes. In real-world\n",
    "systems, each of these assumptions may be invalid, and even small time delays and model uncertainty may destroy the robustness of LQG and result in instability. The lack of robustness of LQG regulators to model uncertainty\n",
    "motivates the introduction of *robust control*. For example, it is possible to robustify LQG regulators through a process known as *loop-transfer recovery*. However, despite robustness issues, LQG control is extremely effective\n",
    "for many systems, and is among the most common control paradigms."
   ]
  },
  {
   "cell_type": "markdown",
   "metadata": {},
   "source": [
    "### Apply LQG to put all togheter. Hand-on lab\n",
    "\n",
    "To apply an LQG regulator to the inverted pendulum on a cart, we will simulate the full nonlinear system in Simulink, as shown in <a href=\"#LQG\">figure 15</a>.\n",
    "The non-linear cart pendulum is connected by the force $u$ in addiction to a gaussian random noise disturbance that affected the model. The output of the cart-pendulum is the state-variable vector connected with $\\pmb H$ matrix to go input in the estimator block only with the position-cart sensor noise measurement gaussian distributed also; the relation is $y = \\pmb H \\pmb x + w_n$. The Kalman filter reconstruct the full state variable for the compensator block.  "
   ]
  },
  {
   "cell_type": "markdown",
   "metadata": {},
   "source": [
    "|           |\n",
    "|:---------:|\n",
    "|![fig9](images/LQG.png)|\n",
    "\n",
    "<p><a id=\"LQG\">Fig. 15 </a> Matlab Simulink model for sensor-based LQG feedback control.</p>"
   ]
  },
  {
   "cell_type": "markdown",
   "metadata": {},
   "source": [
    "The system starts near the vertical equilibrium, at $\\pmb x_0 = [0, 0, 3.14, 0]$, and **it's commanded a step** in the cart position from x = 0 to x = 1 at t = 10. The resulting response is shown in <a href=\"#stateLQG\">figure 16</a>. Despite noisy measurements (<a href=\"#positionLQG\">figure 17</a>) and disturbances (<a href=\"#noiseLQG\">figure 18</a>), the controller is able to effectively track the reference cart position while stabilizing the inverted pendulum."
   ]
  },
  {
   "cell_type": "markdown",
   "metadata": {},
   "source": [
    "|           |\n",
    "|:---------:|\n",
    "|![figure10](images/stateLQG.png)|\n",
    "<p><a id=\"stateLQG\">Fig. 16</a> Output response using LQG feedback control.</p>\n",
    "\n",
    "|           |\n",
    "|:---------:|\n",
    "|![figure11](images/positionLQG.png)|\n",
    "<p><a id=\"positionLQG\">Fig. 17</a> Noisy measurement used for the Kalman filter, along with the underlying noiseless signal and the Kalman filter estimate.</p>\n",
    "\n",
    "|           |\n",
    "|:---------:|\n",
    "|![figure12](images/noiseLQG.png)|\n",
    "<p><a id=\"noiseLQG\">Fig. 18</a> Noisy measurement used for the Kalman filter, along with the underlying noiseless signal and the Kalman filter estimate</p>"
   ]
  },
  {
   "cell_type": "markdown",
   "metadata": {},
   "source": [
    "The m-code set some values needed for the simulation\n",
    "```\n",
    "clear all, close all, clc\n",
    "\n",
    "%% Set cart-pendulum parameters\n",
    "m = 1;\n",
    "M = 5;\n",
    "L = 2;\n",
    "g = -10;\n",
    "d = 1;\n",
    "\n",
    "s = 1; % pendulum up (s=1)\n",
    "%% Base system Matrices\n",
    "F = [0 1 0 0;\n",
    "    0 -d/M -m*g/M 0;\n",
    "    0 0 0 1;\n",
    "    0 -s*d/(M*L) -s*(m+M)*g/(M*L) 0];\n",
    "\n",
    "G = [0; 1/M; 0; s*1/(M*L)];\n",
    "\n",
    "% Set cart-position\n",
    "H = [1 0 0 0];  \n",
    "\n",
    "J = zeros(size(H,1),size(G,2));\n",
    "\n",
    "%% Linear Quadratic Regulator\n",
    "Q = [1 0 0 0;\n",
    "    0 1 0 0;\n",
    "    0 0 1 0;\n",
    "    0 0 0 1];\n",
    "R = .000001;\n",
    "K = lqr(F,G,Q,R);  % design controller u = -K*x\n",
    "\n",
    "\n",
    "%% Augmented system\n",
    "%  Augment system with disturbances and noise\n",
    "Vdmag = .04;\n",
    "Vd = Vdmag*eye(4);  % disturbance covariance\n",
    "Vn = .0002;       % noise covariance\n",
    "\n",
    "% GF sysC sysFulloutput not used in Simulink\n",
    "GF = [G Vd 0*G];  % augment inputs to include disturbance and noise\n",
    "sysH = ss(F,GF,H,[0 0 0 0 0 Vn]);  % build big state space system... with single output\n",
    " % system with full state output, disturbance, no noise\n",
    "sysFullOutput = ss(F,GF,eye(4),zeros(4,size(GF,2))); \n",
    "\n",
    "%  Build Kalman filter 2 alternatives\n",
    "[L,P,E] = lqe(F,eye(4),H,Vd,Vn);  % design Kalman filter\n",
    "Kf = (lqr(F',H',Vd,Vn))';   % alternatively, possible to design using \"LQR\" code\n",
    "\n",
    "% The system matrices for LQE. Used in Simulink\n",
    "sysKF = ss(F-Kf*H,[G Kf],eye(4),0*[G Kf]);  % Kalman filter estimator\n",
    "\n",
    "```"
   ]
  },
  {
   "cell_type": "markdown",
   "metadata": {},
   "source": [
    "Here the m-code to print the result\n",
    "```\n",
    "CC = [0    0.4470    0.7410\n",
    "    0.8500    0.3250    0.0980\n",
    "    0.9290    0.6940    0.1250\n",
    "    0.4940    0.1840    0.5560\n",
    "    0.4660    0.6740    0.1880\n",
    "    0.3010    0.7450    0.9330\n",
    "    0.6350    0.0780    0.1840];\n",
    "\n",
    "figure(1)\n",
    "plot(yn.Time,yn.Data(:,2),'Color',[.5 .5 .5])\n",
    "hold on\n",
    "plot(x.Time,x.Data(:,1),'Color',[0 0 0],'LineWidth',2)\n",
    "plot(yKF.Time,yKF.Data(:,1),'--','Color',CC(1,:),'LineWidth',2)\n",
    "set(gcf,'Position',[100 100 500 200])\n",
    "xlabel('Time')\n",
    "ylabel('Measurement')\n",
    "l1 = legend('y (measured)','y (no noise)','y (KF estimate)');\n",
    "set(l1,'Location','SouthEast')\n",
    "grid on\n",
    "\n",
    "%%\n",
    "figure(2)\n",
    "subplot(3,1,1)\n",
    "plot(wd.Time(1:100:end),wd.Data(1:100:end,1),'LineWidth',1.2)\n",
    "xlim([45 50])\n",
    "ylabel('Disturbance, d')\n",
    "subplot(3,1,2)\n",
    "plot(wn.Time(1:100:end),wn.Data(1:100:end,1),'LineWidth',1.2)\n",
    "xlim([45 50])\n",
    "ylabel('Noise measurement, n')\n",
    "subplot(3,1,3)\n",
    "plot(yn.Time(1:100:end),yn.Data(1:100:end,1),'LineWidth',1.2)\n",
    "xlim([45 50])\n",
    "set(gcf,'Position',[100 100 500 200])\n",
    "xlabel('Time')\n",
    "ylabel('Actuation, u')\n",
    "grid on\n",
    "\n",
    "%%\n",
    "figure(3)\n",
    "plot(x.Time,x.Data,'LineWidth',2)\n",
    "l1 = legend('x','v','\\theta','\\omega')\n",
    "set(gcf,'Position',[100 100 500 200])\n",
    "xlabel('Time')\n",
    "ylabel('State')\n",
    "grid on\n",
    "\n",
    "```"
   ]
  }
 ],
 "metadata": {
  "hide_input": false,
  "kernelspec": {
   "display_name": "Python 3",
   "language": "python",
   "name": "python3"
  },
  "language_info": {
   "codemirror_mode": {
    "name": "ipython",
    "version": 3
   },
   "file_extension": ".py",
   "mimetype": "text/x-python",
   "name": "python",
   "nbconvert_exporter": "python",
   "pygments_lexer": "ipython3",
   "version": "3.7.3"
  },
  "latex_envs": {
   "LaTeX_envs_menu_present": true,
   "autoclose": true,
   "autocomplete": true,
   "bibliofile": "biblio.bib",
   "cite_by": "apalike",
   "current_citInitial": 1,
   "eqLabelWithNumbers": true,
   "eqNumInitial": 1,
   "hotkeys": {
    "equation": "Ctrl-E",
    "itemize": "Ctrl-I"
   },
   "labels_anchors": false,
   "latex_user_defs": false,
   "report_style_numbering": false,
   "user_envs_cfg": false
  },
  "nbTranslate": {
   "displayLangs": [
    "*"
   ],
   "hotkey": "alt-t",
   "langInMainMenu": true,
   "sourceLang": "en",
   "targetLang": "fr",
   "useGoogleTranslate": true
  },
  "toc": {
   "base_numbering": 1,
   "nav_menu": {},
   "number_sections": true,
   "sideBar": true,
   "skip_h1_title": false,
   "title_cell": "Table of Contents",
   "title_sidebar": "Contents",
   "toc_cell": false,
   "toc_position": {},
   "toc_section_display": true,
   "toc_window_display": false
  }
 },
 "nbformat": 4,
 "nbformat_minor": 2
}
