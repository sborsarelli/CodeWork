{
 "cells": [
  {
   "cell_type": "markdown",
   "metadata": {},
   "source": [
    "# Estimator design with state variable\n",
    "The control law assumes that all the state variables are available for feed back. In most cases, not all the state variables are measured. The cost of the required sensors may be prohibitive, or it may be physically impossible to measure all of the state variables.\n",
    "One method of estimating the state is to construct a full order model of the plant dynamics:"
   ]
  },
  {
   "cell_type": "markdown",
   "metadata": {},
   "source": [
    "$$\n",
    "\\dot{\\hat{\\pmb x}} = \\pmb F \\pmb{\\hat x} + \\pmb G u\n",
    "\\label{eq:xhat} \\tag{2.1}\n",
    "$$"
   ]
  },
  {
   "cell_type": "markdown",
   "metadata": {},
   "source": [
    "where $\\pmb{\\hat x}$ is the estimate of the actual state $\\pmb x$. To study the dynamics of this estimator, we define the error in the estimate to be:"
   ]
  },
  {
   "cell_type": "markdown",
   "metadata": {},
   "source": [
    "$$\n",
    "\\tilde{\\pmb x} = \\pmb x - \\pmb{\\hat x}\n",
    "$$"
   ]
  },
  {
   "cell_type": "markdown",
   "metadata": {},
   "source": [
    "Then the dynamics of this error system are given by:"
   ]
  },
  {
   "cell_type": "markdown",
   "metadata": {},
   "source": [
    "$$\n",
    "\\dot{\\tilde{\\pmb x}} = \\pmb F \\tilde{\\pmb x}, \\space  \\tilde{\\pmb x}(0) - \\hat{\\pmb x}(0)\n",
    "$$"
   ]
  },
  {
   "cell_type": "markdown",
   "metadata": {},
   "source": [
    "The error convergences to zero for a stable system system (**F** stable), but we have no ability to influence the rate at which the state estimate converges to the true state. Furthermore, the error is converging to zero at the same rate as the natural dynamics of **F**. if this convergence rate were satisfactory, no control or estimation would be required. The golden rule is: when in trouble use feedback. Consider the feedback the difference between the measured and estimate outputs and correcting the model continuously with this error signal. The equation for this scheme is: "
   ]
  },
  {
   "cell_type": "markdown",
   "metadata": {},
   "source": [
    "$$\n",
    "\\dot{\\hat{\\pmb x}} = \\pmb F \\hat{\\pmb x} + \\pmb G u + \\pmb L(y - \\pmb H \\hat{\\pmb x})\n",
    "\\label{eq:dot_hat_x} \\tag{2.2}\n",
    "$$"
   ]
  },
  {
   "cell_type": "markdown",
   "metadata": {},
   "source": [
    "Here **L** is a proportional gain defined as:\n",
    "$$\n",
    "\\pmb L = [l_1,l_2,.....,l_n]^T\n",
    "$$"
   ]
  },
  {
   "cell_type": "markdown",
   "metadata": {},
   "source": [
    "and is chosen to achieve satisfactory error characteristics. The dynamics of the error can be obtained by subtracting the estimate $\\eqref{eq:dot_hat_x}$ from $\\eqref{eq:state_eq}$ to get the error equation:"
   ]
  },
  {
   "cell_type": "markdown",
   "metadata": {},
   "source": [
    "$$\n",
    "    \\dot{\\tilde{\\pmb x}} = (\\pmb F - \\pmb LH)\\tilde{\\pmb x}\n",
    "$$"
   ]
  },
  {
   "cell_type": "markdown",
   "metadata": {},
   "source": [
    "and the characteristic equation of the error is now given by:\n",
    "\n",
    "$$\n",
    "    det[s \\pmb I - (\\pmb{F - LH})] = 0\n",
    "    \\label{eq:det_est} \\tag{2.3}\n",
    "$$"
   ]
  },
  {
   "cell_type": "markdown",
   "metadata": {},
   "source": [
    "If we can choose $\\pmb L$ so that $\\pmb F - \\pmb{LH}$ has stable and reasonably fast eigenvalues, then $\\tilde{\\pmb x}$ will decay to zero and remain there independent of the known forcing function $u(t)$ and its effect on the state $x(t)$ and irrespective on the initial condition $\\tilde{\\pmb x}(0)$. This means that $\\hat{\\pmb x(t)}$ will converge to $\\pmb{x}(t)$, regardless of the value of $\\hat{\\pmb x}(0)$. However we can typically choose $\\pmb L$ so that the error system is still at least stable and the error remains acceptably small, even with modeling errors and disturbing inputs. The selection of $\\pmb L$ can be approached in exactly the same fashion as $\\pmb K$ is selected in the control law design. If we specify the desired location of the estimator error poles as:"
   ]
  },
  {
   "cell_type": "markdown",
   "metadata": {},
   "source": [
    "$$\n",
    "    s_i = \\beta_1, \\beta_2,....\\beta_n\n",
    "$$"
   ]
  },
  {
   "cell_type": "markdown",
   "metadata": {},
   "source": [
    "then the desired estimator characteristic equation is:"
   ]
  },
  {
   "cell_type": "markdown",
   "metadata": {},
   "source": [
    "$$\n",
    "    \\alpha_e(s) = (s-\\beta_1)(s-\\beta_2)....(s-\\beta_n)\n",
    "    \\label{eq:char_eq} \\tag{2.4}\n",
    "$$"
   ]
  },
  {
   "cell_type": "markdown",
   "metadata": {},
   "source": [
    "We can then solve for $\\pmb L$ by comparing coefficients in Eqs. $\\eqref{eq:det_est}$ and $\\eqref{eq:char_eq}$."
   ]
  },
  {
   "cell_type": "markdown",
   "metadata": {},
   "source": [
    "## The observability\n",
    "As begun in the introduction it's time to spent some raw talking about the **observability** of state variables. In a development exactly parallel with the control-law case, we can find a transformation to take a given system to observer canonical form if and only if the system has structural properties that in this case we call as mention just like above. Roughly speaking, observability refers to our ability to deduce information about all the modes of the system by monitoring only the sensed outputs. Not observability results when some mode or subsystem is disconnected physically from the output and therefore no longer appears in the measurements. The mathematical test for determining observability is that the **observability matrix**:  "
   ]
  },
  {
   "cell_type": "markdown",
   "metadata": {},
   "source": [
    "$$\n",
    "\\mathcal{O} = \\begin{bmatrix}\n",
    "\\pmb H\\\\\n",
    "\\pmb{HF}\\\\\n",
    "..\\\\\n",
    "..\\\\\n",
    "\\pmb{HF}^{n-1}\n",
    "\\end{bmatrix}\n",
    "\\label{eq:obs_mat} \\tag{2.5}\n",
    "$$"
   ]
  },
  {
   "cell_type": "markdown",
   "metadata": {},
   "source": [
    "must have independent columns. In general, we can find a transformation to observer canonical form if and only if the observability matrix is nonsingular (full rank).Note that is analogous to our earlier conclusion for transforming system matrices to control canonical form.\n",
    "As with control law design, we could find the transformation to observer form, compute the gains from the equivalent of $\\pmb F_o - \\pmb L \\pmb H_o$ and transform back. An alternative method of computing $\\pmb L$ is to use the Ackermann's formula in estimator form: "
   ]
  },
  {
   "cell_type": "markdown",
   "metadata": {},
   "source": [
    "$$\n",
    "\\pmb L = \\alpha_e(\\pmb F)\\mathcal{O}^{-1}\n",
    "\\begin{bmatrix}\n",
    "0 \\\\\n",
    "0 \\\\\n",
    ".. \\\\\n",
    ".. \\\\\n",
    "1 \\\\\n",
    "\\end{bmatrix} \n",
    "$$"
   ]
  },
  {
   "cell_type": "markdown",
   "metadata": {},
   "source": [
    "where $\\mathcal{O}$ is the observability matrix given in $\\eqref{eq:obs_mat}$."
   ]
  },
  {
   "cell_type": "markdown",
   "metadata": {},
   "source": [
    "### Hand-on labs of observability of the cart-pendulum\n",
    "This code snippet goes to calculate the observability matrix when our measurement matrix **H** (in the code is C) select a sensor related to x cart position and then reply the calculation for $\\theta$ measurement. It can be note the determinant is nonzero (full rank) in the first trial and zero in the second one. in particular  tuns out that in the second is impossible to reconstruct the x position because that coordinate does not affect the others; equations of cart pendulum are invariant for translations in x position. It's important reconstruct the cart position to have full estimate of state variable putting them in the LQR block for resulting compensator placed in the feed back (as it will see later).\n",
    "```\n",
    "clear all, close all, clc\n",
    "\n",
    "m = 1;\n",
    "M = 5;\n",
    "L = 2;\n",
    "g = -10;\n",
    "d = 1;\n",
    "\n",
    "s = -1; % pendulum up (s=1)\n",
    "\n",
    "A = [0 1 0 0;\n",
    "    0 -d/M -m*g/M 0;\n",
    "    0 0 0 1;\n",
    "    0 -s*d/(M*L) -s*(m+M)*g/(M*L) 0];\n",
    "\n",
    "B = [0; 1/M; 0; s*1/(M*L)];\n",
    "\n",
    "C = [1 0 0 0]; \n",
    "\n",
    "obsv(A,C)\n",
    "det(obsv(A,C))\n",
    "\n",
    "%%  only observable if x measured... because x can't be\n",
    "%% reconstructed\n",
    "C = [0 0 1 0];\n",
    "\n",
    "obsv(A,C)\n",
    "det(obsv(A,C))\n",
    "```\n",
    "The terminal result:\n",
    "```\n",
    "ans =\n",
    "\n",
    "    1.0000         0         0         0\n",
    "         0    1.0000         0         0\n",
    "         0   -0.2000    2.0000         0\n",
    "         0    0.0400   -0.4000    2.0000\n",
    "\n",
    "\n",
    "ans =\n",
    "\n",
    "     4\n",
    "\n",
    "\n",
    "ans =\n",
    "\n",
    "         0         0    1.0000         0\n",
    "         0         0         0    1.0000\n",
    "         0    0.1000   -6.0000         0\n",
    "         0   -0.0200    0.2000   -6.0000\n",
    "\n",
    "\n",
    "ans =\n",
    "\n",
    "     0\n",
    "```"
   ]
  },
  {
   "cell_type": "markdown",
   "metadata": {},
   "source": [
    "## Estimator pole selection. The optimal full-state estimation \n",
    "In comparison with the selection of controllers poles, estimator pole selection require us to be concerned with a much different relationship than with control effort. As in controller, there is a feedback term in the estimator that grows in magnitude as the requested speed of response increases. However this feedback is in the form of an electronic signal or a digital word in a computer, so its growth causes no special difficulty. The important consequence of increasing the speed of response of an estimator is that the bandwidth of the estimator becomes higher, thus causing more sensor noise to pass on to the control actuator. Like the controller the estimator design (and the poles selection) is a balance between good transient response and low-enough bandwidth that sensor noise does not significantly impair the actuator activity.   \n",
    "When deriving the optimal full-state estimator, it is necessary to re-introduce disturbances to the state, $\\pmb w_d$ , and sensor noise, $\\pmb w_n$ :"
   ]
  },
  {
   "cell_type": "markdown",
   "metadata": {},
   "source": [
    "$$\n",
    "\\begin{array}{cc}\n",
    "\\dot{\\pmb x} &= \\pmb{Fx} + \\pmb{Gu} + \\pmb{w}_d\\\\\n",
    "\\pmb y &= \\pmb Cx + \\pmb Du + \\pmb{w}_n\\\\ \n",
    "\\end{array}\n",
    "$$"
   ]
  },
  {
   "cell_type": "markdown",
   "metadata": {},
   "source": [
    "By hypothesis is assumed that disturbance and noise are zero-mean Gaussian processes with known covariances:"
   ]
  },
  {
   "cell_type": "markdown",
   "metadata": {},
   "source": [
    "$$\n",
    "\\begin{array}{cc}\n",
    "E(\\pmb{w}_d(t) \\pmb{w}_d(\\tau)^*) &= Q \\delta (t - \\tau)\\\\\n",
    "E(\\pmb{w}_n(t) \\pmb{w}_n(\\tau)^*) &= R \\delta (t - \\tau)\\\\\n",
    "\\end{array}\n",
    "$$"
   ]
  },
  {
   "cell_type": "markdown",
   "metadata": {},
   "source": [
    "Here $E$ is the expected value and $\\delta (.)$ is the Dirac delta function. The matrices $Q$ and $R$ are positive semi-definite with entries containing the covariances of the disturbance and noise terms. It is possible to obtain an estimate $\\hat{\\pmb x}$ of the full-state $\\pmb x$ from measurements of the input $\\pmb u$ and output $\\pmb y$, via the following estimator dynamical system:"
   ]
  },
  {
   "cell_type": "markdown",
   "metadata": {},
   "source": [
    "$$\n",
    "\\begin{array}{cc}\n",
    "\\dot{\\hat{\\pmb x}} &= \\pmb F \\hat{\\pmb x} + \\pmb Gu + \\pmb L (\\pmb y - \\hat{\\pmb y})\\\\\n",
    "\\hat{\\pmb y} &= \\pmb H \\hat{\\pmb x} + \\pmb Ju\\\\\n",
    "\\end{array}\n",
    "$$"
   ]
  },
  {
   "cell_type": "markdown",
   "metadata": {},
   "source": [
    "The matrices $\\pmb F, \\pmb G, \\pmb H, \\pmb J$ are obtained from the system model and the filter\n",
    "gain $\\pmb L$ f is determined via a similar procedure as in LQR. $\\pmb L$ is given by:"
   ]
  },
  {
   "cell_type": "markdown",
   "metadata": {},
   "source": [
    "$$\n",
    "\\pmb L = \\pmb Y \\pmb H^* \\pmb R\n",
    "$$"
   ]
  },
  {
   "cell_type": "markdown",
   "metadata": {},
   "source": [
    "where $\\pmb Y$ is the solution to another algebraic Riccati equation:"
   ]
  },
  {
   "cell_type": "markdown",
   "metadata": {},
   "source": [
    "$$\n",
    "    \\pmb YF^* + \\pmb FY - \\pmb{YH}^* \\pmb R^{-1} \\pmb H \\pmb Y + \\pmb Q = \\pmb 0\n",
    "$$"
   ]
  },
  {
   "cell_type": "markdown",
   "metadata": {},
   "source": [
    "This solution is commonly referred to as the Kalman filter, and it is the optimal full-state estimator with respect to the following cost function:"
   ]
  },
  {
   "cell_type": "markdown",
   "metadata": {},
   "source": [
    "$$\n",
    "    J = \\lim\\limits_{t \\to \\infty} {E[\\tilde x(t)^* \\tilde x(t)]}\n",
    "$$"
   ]
  },
  {
   "cell_type": "markdown",
   "metadata": {},
   "source": [
    "This cost function implicitly includes the effects of disturbance and noise, which are required to determine the optimal balance between aggressive estimation and noise attenuation. Thus, the Kalman filter is referred to as linear quadratic estimation (LQE), and has a dual formulation to the LQR optimization.\n",
    "The estimator dynamical system is expressed in terms of the estimate $\\hat{\\pmb x}$ with inputs $\\pmb y$ and $\\pmb u$. If the system is observable it is possible to place the eigenvalues of $\\pmb F − \\pmb L \\pmb H$ arbitrarily with choice of $\\pmb L$ . When the eigenvalues of the estimator are stable, then the state estimate $\\hat{\\pmb x}$ converges to the full-state $\\pmb x$ asymptotically, as long as the model faithfully captures the true system dynamics. To see this convergence, consider the dynamics of the estimation error $\\pmb{\\epsilon} = \\pmb x − \\pmb{\\hat x}$:"
   ]
  },
  {
   "cell_type": "markdown",
   "metadata": {},
   "source": [
    "$$\n",
    "\\begin{array}{cc}\n",
    "\\dot{\\pmb{\\epsilon}} = {\\pmb{x}} - \\hat{\\pmb{x}}\\\\\n",
    "                     = [\\pmb{Fx} + \\pmb{Gu} + \\pmb{w}_d] - [(\\pmb F - \\pmb{LH}) \\hat{\\pmb x} + \\pmb{Ly} + (\\pmb G - \\pmb{LJ})\\pmb u]\\\\\n",
    "                     = (\\pmb F - \\pmb{LH}) \\epsilon + \\pmb w_d - \\pmb L \\pmb w_n\n",
    "\\end{array}\n",
    "$$"
   ]
  },
  {
   "cell_type": "markdown",
   "metadata": {},
   "source": [
    "Therefore, the estimate $\\hat{\\pmb x}$ will converge to the true full state when $\\pmb F − \\pmb L \\pmb H$ has stable eigenvalues. As with LQR, there is a trade-off between over-stabilization of these eigenvalues and the amplification of sensor noise. This is similar to the behavior of an inexperienced driver who may hold the steering wheel too tightly and will overreact to every minor bump and disturbance on the road."
   ]
  },
  {
   "cell_type": "code",
   "execution_count": null,
   "metadata": {},
   "outputs": [],
   "source": []
  }
 ],
 "metadata": {
  "kernelspec": {
   "display_name": "Python 3",
   "language": "python",
   "name": "python3"
  },
  "language_info": {
   "codemirror_mode": {
    "name": "ipython",
    "version": 3
   },
   "file_extension": ".py",
   "mimetype": "text/x-python",
   "name": "python",
   "nbconvert_exporter": "python",
   "pygments_lexer": "ipython3",
   "version": "3.7.3"
  }
 },
 "nbformat": 4,
 "nbformat_minor": 2
}
