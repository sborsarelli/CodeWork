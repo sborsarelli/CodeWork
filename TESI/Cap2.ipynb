{
 "cells": [
  {
   "cell_type": "markdown",
   "metadata": {},
   "source": [
    "# Estimator design with state variables\n",
    "\n",
    "|          |     \n",
    "|:----------:|\n",
    "|![estimator\\label{estimator}](images/estimator.png)|"
   ]
  },
  {
   "cell_type": "markdown",
   "metadata": {},
   "source": [
    "<p><a name=\"fig8\">Fig 8</a> Open and close loop estimator block scheme</p>"
   ]
  },
  {
   "cell_type": "markdown",
   "metadata": {},
   "source": [
    "The control law assumes that all the state variables are available for feed back. In most cases, not all the state variables are measured. The cost of the required sensors may be prohibitive, or it may be physically impossible to measure all of the state variables.\n",
    "One method of estimating the state is to construct a full order model of the plant dynamics; by observing the above open-loop block scheme it's possible write:"
   ]
  },
  {
   "cell_type": "markdown",
   "metadata": {},
   "source": [
    "\\begin{equation}\n",
    "\\dot{\\hat{\\pmb x}} = \\pmb F \\pmb{\\hat x} + \\pmb G u\n",
    "\\label{eq:xhat} \n",
    "\\end{equation}"
   ]
  },
  {
   "cell_type": "markdown",
   "metadata": {},
   "source": [
    "where $\\pmb{\\hat x}$ is the estimate of the actual state $\\pmb x$. To study the dynamics of this estimator, we define the error in the estimate to be:"
   ]
  },
  {
   "cell_type": "markdown",
   "metadata": {},
   "source": [
    "\\begin{equation}\n",
    "\\tilde{\\pmb x} = \\pmb x - \\pmb{\\hat x}\n",
    "\\end{equation}"
   ]
  },
  {
   "cell_type": "markdown",
   "metadata": {},
   "source": [
    "Then the dynamics of this error system are given by:"
   ]
  },
  {
   "cell_type": "markdown",
   "metadata": {},
   "source": [
    "\\begin{equation}\n",
    "\\dot{\\tilde{\\pmb x}} = \\pmb F \\tilde{\\pmb x}, \\space  \\tilde{\\pmb x}(0)= \\pmb x(0) - \\hat{\\pmb x}(0)\n",
    "\\end{equation}"
   ]
  },
  {
   "cell_type": "markdown",
   "metadata": {},
   "source": [
    "The error convergences to zero for a stable system (**F** stable), but we have no ability to influence the rate at which the state estimate converges to the true state. Furthermore, the error is converging to zero at the same rate as the natural dynamics of **F**. If this convergence rate were satisfactory, no control or estimation would be required. The golden rule is: when in trouble use feedback. Looking the close loop observer block scheme, consider the feedback difference between the measured and estimate outputs and correcting the model continuously with this error signal. The equation for this scheme is: "
   ]
  },
  {
   "cell_type": "markdown",
   "metadata": {},
   "source": [
    "\\begin{equation}\n",
    "\\dot{\\hat{\\pmb x}} = \\pmb F \\hat{\\pmb x} + \\pmb G u + \\pmb L(y - \\pmb H \\hat{\\pmb x})\n",
    "\\label{eq:dot_hat_x} \n",
    "\\end{equation}"
   ]
  },
  {
   "cell_type": "markdown",
   "metadata": {},
   "source": [
    "Here **L** is a proportional gain defined as:\n",
    "\\begin{equation}\n",
    "\\pmb L = [l_1,l_2,.....,l_n]^T\n",
    "\\end{equation}"
   ]
  },
  {
   "cell_type": "markdown",
   "metadata": {},
   "source": [
    "and is chosen to achieve satisfactory error characteristics. The dynamics of the error can be obtained by subtracting the estimate $\\eqref{eq:dot_hat_x}$ from $\\eqref{eq:stat-form}$ to get the error equation:"
   ]
  },
  {
   "cell_type": "markdown",
   "metadata": {},
   "source": [
    "\\begin{equation}\n",
    "    \\dot{\\tilde{\\pmb x}} = (\\pmb F - \\pmb LH)\\tilde{\\pmb x}\n",
    "\\end{equation}"
   ]
  },
  {
   "cell_type": "markdown",
   "metadata": {},
   "source": [
    "and the characteristic equation of the error is now given by:\n",
    "\n",
    "\\begin{equation}\n",
    "    det[s \\pmb I - (\\pmb{F - LH})] = 0\n",
    "    \\label{eq:det_est} \n",
    "\\end{equation}"
   ]
  },
  {
   "cell_type": "markdown",
   "metadata": {},
   "source": [
    "If we can choose $\\pmb L$ so that $\\pmb F - \\pmb{LH}$ has stable and reasonably fast eigenvalues, then $\\tilde{\\pmb x}$ will decay to zero and remain there independent of the known forcing function $u(t)$ and its effect on the state $x(t)$ and irrespective on the initial condition $\\tilde{\\pmb x}(0)$. This means that $\\hat{\\pmb x}(t)$ will converge to $\\pmb{x}(t)$, regardless of the value of $\\hat{\\pmb x}(0)$. However we can typically choose $\\pmb L$ so that the error system is still at least stable and the error remains acceptably small, even with modeling errors and disturbing inputs. The selection of $\\pmb L$ can be approached in exactly the same fashion as $\\pmb K$ is selected in the control law design. If we specify the desired location of the estimator error poles as:"
   ]
  },
  {
   "cell_type": "markdown",
   "metadata": {},
   "source": [
    "\\begin{equation}\n",
    "    s_i = \\beta_1, \\beta_2,....\\beta_n\n",
    "\\end{equation}"
   ]
  },
  {
   "cell_type": "markdown",
   "metadata": {},
   "source": [
    "then the desired estimator characteristic equation is:"
   ]
  },
  {
   "cell_type": "markdown",
   "metadata": {},
   "source": [
    "\\begin{equation}\n",
    "    \\alpha_e(s) = (s-\\beta_1)(s-\\beta_2)....(s-\\beta_n)\n",
    "    \\label{eq:char_eq} \n",
    "\\end{equation}"
   ]
  },
  {
   "cell_type": "markdown",
   "metadata": {},
   "source": [
    "We can then solve for $\\pmb L$ by comparing coefficients in Eqs. $\\eqref{eq:det_est}$ and $\\eqref{eq:char_eq}$."
   ]
  },
  {
   "cell_type": "markdown",
   "metadata": {},
   "source": [
    "## The observability\n",
    "As begun in the introduction it's time to spent some raw talking about the **observability** of state variables. In a development exactly parallel with the control-law case, we can find a transformation to take a given system to observer canonical form if and only if the system has structural properties that in this case we call as mention just like above. Roughly speaking, observability refers to our ability to deduce information about all the modes of the system by monitoring only the sensed outputs. Not observability results when some mode or subsystem is disconnected physically from the output and therefore no longer appears in the measurements. The mathematical test for determining observability is that the **observability matrix**:  "
   ]
  },
  {
   "cell_type": "markdown",
   "metadata": {},
   "source": [
    "\\begin{equation}\n",
    "\\mathcal{O} = \\begin{bmatrix}\n",
    "\\pmb H\\\\\n",
    "\\pmb{HF}\\\\\n",
    "..\\\\\n",
    "..\\\\\n",
    "\\pmb{HF}^{n-1}\n",
    "\\end{bmatrix}\n",
    "\\label{eq:obs_mat}\n",
    "\\end{equation}"
   ]
  },
  {
   "cell_type": "markdown",
   "metadata": {},
   "source": [
    "must have independent columns. In general, we can find a transformation to observer canonical form if and only if the observability matrix is nonsingular (full rank).Note that is analogous to our earlier conclusion for transforming system matrices to control canonical form.\n",
    "As with control law design, we could find the transformation to observer form, compute the gains from the equivalent of $\\pmb F_o - \\pmb L \\pmb H_o$ and transform back. An alternative method of computing $\\pmb L$ is to use the Ackermann's formula in estimator form: "
   ]
  },
  {
   "cell_type": "markdown",
   "metadata": {},
   "source": [
    "\\begin{equation}\n",
    "\\pmb L = \\alpha_e(\\pmb F)\\mathcal{O}^{-1}\n",
    "\\begin{bmatrix}\n",
    "0 \\\\\n",
    "0 \\\\\n",
    ".. \\\\\n",
    ".. \\\\\n",
    "1 \\\\\n",
    "\\end{bmatrix} \n",
    "\\end{equation}"
   ]
  },
  {
   "cell_type": "markdown",
   "metadata": {},
   "source": [
    "where $\\mathcal{O}$ is the observability matrix given in $\\eqref{eq:obs_mat}$. once again $\\alpha_e(\\pmb F)$ follows the rule just mentioned in the control law section."
   ]
  },
  {
   "cell_type": "markdown",
   "metadata": {},
   "source": [
    "## Estimator poles selection. The optimal full-state estimation \n",
    "In comparison with the selection of controllers poles, estimator poles selection require to be concerned with a much different relationship than with control effort. As in controller, there is a feedback term in the estimator that grows in magnitude as the requested speed of response increases. However this feedback is in the form of an electronic signal or a digital word in a computer, so its growth causes no special difficulty. The important consequence of increasing the speed of response of an estimator is that the bandwidth of the estimator becomes higher, thus causing more sensor noise to pass on to the control actuator. Like the controller the estimator design (and the poles selection) is a balance between good transient response and low-enough bandwidth that sensor noise does not significantly impact the actuator activity.   \n",
    "When deriving the optimal full-state estimator, it is necessary to re-introduce disturbances to the state, $\\pmb w_d$ , and sensor noise, $\\pmb w_n$ :"
   ]
  },
  {
   "cell_type": "markdown",
   "metadata": {},
   "source": [
    "\\begin{align}\\label{eq:augsys} \n",
    "\\dot{\\pmb x} &= \\pmb{Fx} + \\pmb{Gu} + \\pmb{w}_d\\\\\n",
    "\\label{eq:augsys2}\n",
    "\\pmb y &= \\pmb Hx + \\pmb Ju + \\pmb{w}_n \n",
    "\\end{align}"
   ]
  },
  {
   "cell_type": "markdown",
   "metadata": {},
   "source": [
    "By hypothesis is assumed that disturbance and noise are zero-mean Gaussian processes with known covariances:"
   ]
  },
  {
   "cell_type": "markdown",
   "metadata": {},
   "source": [
    "\\begin{align}\n",
    "E(\\pmb{w}_d(t) \\pmb{w}_d(\\tau)^*) &= Q \\delta (t - \\tau)\\\\\n",
    "E(\\pmb{w}_n(t) \\pmb{w}_n(\\tau)^*) &= R \\delta (t - \\tau)\n",
    "\\end{align}"
   ]
  },
  {
   "cell_type": "markdown",
   "metadata": {},
   "source": [
    "Here $E$ is the expected value and $\\delta (.)$ is the Dirac delta function. The matrices $Q$ and $R$ are positive semi-definite with entries containing the covariances of the disturbance and noise terms. It is possible to obtain an estimate $\\hat{\\pmb x}$ of the full-state $\\pmb x$ from measurements of the input $\\pmb u$ and output $\\pmb y$, via the following estimator dynamical system:"
   ]
  },
  {
   "cell_type": "markdown",
   "metadata": {},
   "source": [
    "\\begin{align}\\label{eq:estimator}\n",
    "\\dot{\\hat{\\pmb x}} &= \\pmb F \\hat{\\pmb x} + \\pmb Gu + \\pmb L (\\pmb y - \\hat{\\pmb y})\\\\\n",
    "\\hat{\\pmb y} &= \\pmb H \\hat{\\pmb x} + \\pmb Ju\n",
    "\\end{align}"
   ]
  },
  {
   "cell_type": "markdown",
   "metadata": {},
   "source": [
    "The matrices $\\pmb F, \\pmb G, \\pmb H, \\pmb J$ are obtained from the system model and the filter\n",
    "gain $\\pmb L$ is determined via a similar procedure as in LQR. $\\pmb L$ is given by:"
   ]
  },
  {
   "cell_type": "markdown",
   "metadata": {},
   "source": [
    "\\begin{equation}\n",
    "\\pmb L = \\pmb Y \\pmb H^* \\pmb R\n",
    "\\end{equation}"
   ]
  },
  {
   "cell_type": "markdown",
   "metadata": {},
   "source": [
    "where $\\pmb Y$ is the solution to another algebraic Riccati equation:"
   ]
  },
  {
   "cell_type": "markdown",
   "metadata": {},
   "source": [
    "\\begin{equation}\n",
    "    \\pmb YF^* + \\pmb FY - \\pmb{YH}^* \\pmb R^{-1} \\pmb H \\pmb Y + \\pmb Q = \\pmb 0\n",
    "\\end{equation}"
   ]
  },
  {
   "cell_type": "markdown",
   "metadata": {},
   "source": [
    "Refer to <cite data-cite=\"brunton2019data\"></cite> for insights.\n",
    "\n",
    "This solution is commonly referred to as the Kalman filter, and it is the optimal full-state estimator with respect to the following cost function:"
   ]
  },
  {
   "cell_type": "markdown",
   "metadata": {},
   "source": [
    "\\begin{equation}\n",
    "    J = \\lim\\limits_{t \\to \\infty} {E[\\tilde x(t)^* \\tilde x(t)]}\n",
    "\\end{equation}"
   ]
  },
  {
   "cell_type": "markdown",
   "metadata": {},
   "source": [
    "This cost function implicitly includes the effects of disturbance and noise, which are required to determine the optimal balance between aggressive estimation and noise attenuation. Thus, the Kalman filter is referred to as linear quadratic estimation (LQE), and has a dual formulation to the LQR optimization.\n",
    "The estimator dynamical system is expressed in terms of the estimate $\\hat{\\pmb x}$ with inputs $\\pmb y$ and $\\pmb u$. If the system is observable it is possible to place the eigenvalues of $\\pmb F - \\pmb L \\pmb H$ arbitrarily with choice of $\\pmb L$ . When the eigenvalues of the estimator are stable, then the state estimate $\\hat{\\pmb x}$ converges to the full-state $\\pmb x$ asymptotically, as long as the model faithfully captures the true system dynamics. To see this convergence, consider the dynamics of the estimation error $\\pmb{\\epsilon} = \\pmb x - \\pmb{\\hat x}$:"
   ]
  },
  {
   "cell_type": "markdown",
   "metadata": {},
   "source": [
    "\\begin{align}\n",
    "\\dot{\\pmb{\\epsilon}} &= \\dot{\\pmb{x}} - \\dot{\\hat{\\pmb{x}}} \\nonumber\\\\\n",
    "                     &= [\\pmb{Fx} + \\pmb{Gu} + \\pmb{w}_d] - [(\\pmb F - \\pmb{LH}) \\hat{\\pmb x} + \\pmb{Ly} + (\\pmb G - \\pmb{LJ})\\pmb u]\\\\\n",
    "                     &= (\\pmb F - \\pmb{LH}) \\epsilon + \\pmb w_d - \\pmb L \\pmb w_n \\nonumber\n",
    "\\end{align}"
   ]
  },
  {
   "cell_type": "markdown",
   "metadata": {},
   "source": [
    "where it has been used $\\eqref{eq:augsys2}$ in substitution of $\\pmb y$."
   ]
  },
  {
   "cell_type": "markdown",
   "metadata": {},
   "source": [
    "Therefore, the estimate $\\hat{\\pmb x}$ will converge to the true full state when $\\pmb F - \\pmb L \\pmb H$ has stable eigenvalues. As with LQR, there is a trade-off between over-stabilization of these eigenvalues and the amplification of sensor noise. This is similar to the behavior of an inexperienced driver who may hold the steering wheel too tightly and will overreact to every minor bump and disturbance on the road."
   ]
  },
  {
   "cell_type": "markdown",
   "metadata": {},
   "source": [
    "## Optimal sensor-based control: Linear quadratic Gaussian (LQG)\n",
    "The full-state estimate from the Kalman filter is generally used in conjunction\n",
    "with the full-state feedback control law from LQR, resulting in optimal sensor-\n",
    "based feedback. Remarkably, the LQR gain $K_r$ and the Kalman filter gain $K_f$\n",
    "may be designed separately, and the resulting sensor-based feedback will re-\n",
    "main optimal and retain the closed-loop eigenvalues when combined.\n",
    "Combining the LQR full-state feedback with the Kalman filter full-state estimator results in the linear-quadratic Gaussian (LQG) controller. The LQG controller is a dynamical system with input y, output u, and internal state $\\hat{\\pmb x}$:"
   ]
  },
  {
   "cell_type": "markdown",
   "metadata": {},
   "source": [
    "\\begin{equation} \\label{eq:LQGsys}\n",
    "\\begin{split}\n",
    "\\frac{d}{dt}\\hat{\\pmb x} =& (\\pmb F - \\pmb{K}_f \\pmb H - \\pmb G \\pmb{K}_r) \\hat{\\pmb x} + \\pmb{K}_f \\pmb y\\\\\n",
    "\\pmb u =& -\\pmb K_r \\hat{\\pmb x} \n",
    "\\end{split}\n",
    "\\end{equation}"
   ]
  },
  {
   "cell_type": "markdown",
   "metadata": {},
   "source": [
    "The LQG controller is optimal with respect to the following ensemble-averaged\n",
    "version of the cost function from $\\eqref{eq:costfunc}$:"
   ]
  },
  {
   "cell_type": "markdown",
   "metadata": {},
   "source": [
    "\\begin{equation}\n",
    "\\label{eq:costfunc2}\n",
    "J(t) = \\left\\langle \n",
    "\\int\\limits_0^{t} [\\pmb x(\\tau)^* \\pmb Q \\pmb x(\\tau) + \\pmb u(\\tau)^* \\pmb R \\pmb u(\\tau)  d\\tau]  \n",
    "\\right\\rangle.\n",
    "\\end{equation}"
   ]
  },
  {
   "cell_type": "markdown",
   "metadata": {},
   "source": [
    "The controller $\\pmb u = \\pmb K_r \\hat{\\pmb x}$ is in terms of the state estimate, and so this cost\n",
    "function must be averaged over many realizations of the disturbance and noise.\n",
    "Applying LQR to $\\hat{\\pmb x}$ results in the following state dynamics:"
   ]
  },
  {
   "cell_type": "markdown",
   "metadata": {},
   "source": [
    "\\begin{equation}\n",
    "\\begin{split}\n",
    "\\frac{d}{dt} \\pmb x =& \\pmb F \\pmb x - \\pmb G \\pmb K_r \\hat{\\pmb x} + \\pmb w_d\\\\\n",
    "                    =& \\pmb F \\pmb x - \\pmb G \\pmb K_r {\\pmb x} + \\pmb G \\pmb K_r(\\pmb{x-\\hat x}) + \\pmb w_d\\\\\n",
    "                    =& \\pmb F \\pmb x - \\pmb G \\pmb K_r {\\pmb x} + \\pmb G \\pmb K_r \\pmb \\epsilon + \\pmb w_d\n",
    "\\end{split}\n",
    "\\end{equation}"
   ]
  },
  {
   "cell_type": "markdown",
   "metadata": {},
   "source": [
    "Again $\\pmb \\epsilon = \\pmb{x - \\hat x}$ as before. Finally the closed-loop system may be written as"
   ]
  },
  {
   "cell_type": "markdown",
   "metadata": {},
   "source": [
    "\\begin{align}\n",
    "\\label{eq:clsys}\n",
    "\\frac{d}{dt}\n",
    "\\begin{bmatrix} \n",
    "\\pmb x\\\\\n",
    "\\pmb \\epsilon   \n",
    "\\end{bmatrix} = \n",
    "\\begin{bmatrix}\n",
    "\\pmb F - \\pmb G \\pmb K_r & \\pmb{GK}_r\\\\\n",
    "\\pmb 0 & \\pmb F - \\pmb K_f \\pmb H\n",
    "\\end{bmatrix}\n",
    "\\begin{bmatrix}\n",
    "\\pmb x\\\\\n",
    "\\pmb \\epsilon \n",
    "\\end{bmatrix}\n",
    "+\n",
    "\\begin{bmatrix}\n",
    "\\pmb I & \\pmb 0\\\\\n",
    "\\pmb I & -\\pmb K_f\n",
    "\\end{bmatrix}\n",
    "\\begin{bmatrix}\n",
    "\\pmb w_d\\\\\n",
    "\\pmb w_n\n",
    "\\end{bmatrix}\n",
    "\\end{align}\n"
   ]
  },
  {
   "cell_type": "markdown",
   "metadata": {},
   "source": [
    "Thus, the closed-loop eigenvalues of the LQG regulated system are given by\n",
    "the **eigenvalues** of $\\pmb F - \\pmb{GK}_r$ and $\\pmb F - \\pmb K_f \\pmb H$, which were optimally chosen by the\n",
    "LQR and Kalman filter gain matrices, respectively. This in control theory is called **the separation principle** which essentially means it's possible design the LQR and LQE separately and when they are combined together the system retains the desirable properties of each of them.  "
   ]
  },
  {
   "cell_type": "markdown",
   "metadata": {},
   "source": [
    "|           |\n",
    "|:---------:|\n",
    "|![Here LQG](images/LQGblock.png)|\n",
    "\n",
    "<p><a name=\"LQG\">Fig 9</a> Schematic illustrating the linear quadratic Gaussian (LQG) controller for optimal closed-loop feedback based on noisy measurements y. The optimal LQR and Kalman filter gain matrices $K_r$ and $K_f$ may be designed independently, based on two different algebraic Riccati equations. When combined,the resulting sensor-based feedback remains optimal.</p>"
   ]
  },
  {
   "cell_type": "markdown",
   "metadata": {},
   "source": [
    "It's worthwhile to mention that LQG framework relies on an accurate model of the system and knowledge of the magnitudes of the disturbances and measurement noise, which are assumed to be Gaussian processes. In real-world\n",
    "systems, each of these assumptions may be invalid, and even small time delays and model uncertainty may destroy the robustness of LQG and result in instability. The lack of robustness of LQG regulators to model uncertainty\n",
    "motivates the introduction of *robust control*. For example, it is possible to robustify LQG regulators through a process known as *loop-transfer recovery*. However, despite robustness issues, LQG control is extremely effective\n",
    "for many systems, and is among the most common control paradigms."
   ]
  }
 ],
 "metadata": {
  "hide_input": false,
  "kernelspec": {
   "display_name": "Python 3 (ipykernel)",
   "language": "python",
   "name": "python3"
  },
  "language_info": {
   "codemirror_mode": {
    "name": "ipython",
    "version": 3
   },
   "file_extension": ".py",
   "mimetype": "text/x-python",
   "name": "python",
   "nbconvert_exporter": "python",
   "pygments_lexer": "ipython3",
   "version": "3.7.3"
  },
  "latex_envs": {
   "LaTeX_envs_menu_present": true,
   "autoclose": true,
   "autocomplete": true,
   "bibliofile": "biblio.bib",
   "cite_by": "apalike",
   "current_citInitial": 1,
   "eqLabelWithNumbers": true,
   "eqNumInitial": 1,
   "hotkeys": {
    "equation": "Ctrl-E",
    "itemize": "Ctrl-I"
   },
   "labels_anchors": false,
   "latex_user_defs": false,
   "report_style_numbering": false,
   "user_envs_cfg": false
  },
  "nbTranslate": {
   "displayLangs": [
    "*"
   ],
   "hotkey": "alt-t",
   "langInMainMenu": true,
   "sourceLang": "en",
   "targetLang": "fr",
   "useGoogleTranslate": true
  },
  "toc": {
   "base_numbering": 1,
   "nav_menu": {},
   "number_sections": true,
   "sideBar": true,
   "skip_h1_title": false,
   "title_cell": "Table of Contents",
   "title_sidebar": "Contents",
   "toc_cell": false,
   "toc_position": {},
   "toc_section_display": true,
   "toc_window_display": false
  }
 },
 "nbformat": 4,
 "nbformat_minor": 2
}
