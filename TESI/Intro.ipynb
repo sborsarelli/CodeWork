{
 "cells": [
  {
   "cell_type": "markdown",
   "metadata": {},
   "source": [
    "%%javascript\n",
    "MathJax.Hub.Config({\n",
    "    TeX: { equationNumbers: { autoNumber: \"AMS\" } }\n",
    "});"
   ]
  },
  {
   "cell_type": "markdown",
   "metadata": {},
   "source": [
    "# Preliminary fundamentals\n",
    "\n",
    "A state variable is one of the set of variables that are used to describe the mathematical *state* of a dynamical system. Intuitively, the state of a system describes enough about the system to determine its future behaviour in the absence of any external forces affecting the system. Models that consist of coupled first-order differential equations are said to be in state-variable form.\n",
    "There are some examples where state variables are used:\n",
    " - In mechanical systems, the position coordinates and velocities of mechanical parts are typical state variables\n",
    " - In thermodynamics, a state variable is an independent variable of a state function like internal energy, enthalpy, and entropy.\n",
    " - In electronic/electrical circuits, the voltages of the nodes and the currents through components in the circuit are usually the state variables.\n",
    " - In ecosystem models, population sizes (or concentrations) of plants, animals, and resources (nutrients, organic material) are typical state variables.\n",
    " - In pandemic models, restrictions(i.e. masks, lock-down, vaxines), percentage of cases, number of hospital beds, are used like state variables to create a control system.  \n",
    "\n",
    "In particular of last point feedbacks are part of Control Engineering (or control systems engineering), a discipline that deals with control systems, applying control theory to design equipment and systems with desired behaviors in control environments. The practice uses sensors and detectors to measure the output performance of the process being controlled; these measurements are used to provide corrective feedback helping to achieve the desired performance. Systems designed to perform without requiring human input are called automatic control systems (such as cruise control for regulating the speed of a car). Multi-disciplinary in nature, control systems engineering activities focus on implementation of control systems mainly derived by mathematical modeling of a diverse range of systems. \n",
    "There are two major divisions in control theory, namely, classical and modern, which have direct implications for the control engineering applications:\n",
    " - **Classical SISO System Design**. The scope of classical control theory is limited to single-input and single-output system design, except when analyzing for disturbance rejection using a second input. The system analysis is carried out in the time domain using differential equations, in the complex-s domain with the Laplace transform, or in the frequency domain by transforming from the complex-s domain. Many systems may be assumed to have a second order and single variable system response in the time domain. The most common controllers designed using classical control theory are PID controllers. The ultimate end goal is to meet requirements typically provided in the time-domain called the step response, or at times in the frequency domain called the open-loop response. The step response characteristics applied in a specification are typically percent overshoot, settling time, etc. \n",
    " - **Modern MIMO system Design**. Modern control theory is carried out in the state space, and can deal with multiple-input and multiple-output (MIMO) systems. This overcomes the limitations of classical control theory in more sophisticated design problems, such as fighter aircraft control, with the limitation that no frequency domain analysis is possible. In modern design, a system is represented to the greatest advantage as a set of decoupled first order differential equations defined using state variables. Nonlinear, multivariable, adaptive and robust control theories come under this division.\n",
    "\n",
    "In state-space design, the control engineer designs a dynamic compensation by working directly  with the state-variable description of the system.\n",
    "Because it is particularly well suited to the use of the computer techniques, state-space design is increasingly studied and used today by control engineers.\n",
    "\n",
    "The discussion of this paper starts from describing a dynamic system through an example passing to the state variable model, then the focus passes to the development of a state-variable equations and studying its block diagrams. Next steps are the way follow for a designer of feedback control:\n",
    " 1. Select closed-loop pole and develop the control law of the closed-loop system to satisfactory dynamics response.\n",
    " 2. Design an estimator\n",
    " 3. Combine the control law and the estimator\n",
    " 4. Introduce a reference input\n",
    "\n",
    "In a way to describe the goals of feedbacks:\n",
    " - obtain stability by the design\n",
    " - reduce the uncertainity by the compensation\n",
    " - resolve the disturbance also known as rejection\n",
    " - attenuating the sensor noise \n",
    " \n",
    "The main idea of state space comes of describing differential equations in a different method. By this way the dynamic is organized as a set of first order differential equations transformed in a vector-valued state of the system and the solution is visualized as a trajectory of this state vector space. State space control design is the technique in which the control engineer designs a dynamic compensation by working directly with the state variable description of the system.\n",
    "\n",
    "There are several reason for studying equations in this form:\n",
    "\n",
    " - To study more general models: The ODE do not have to be linear or stationary\n",
    " - To introduce the ideas of geometry into differential equations: in physics the plane of position versus velocity of a particle is called the phase plane and the trajectory of the motion can be plotted as a curve in this plane. The main idea is to include inside the state more than two dimensions.\n",
    " - To connect internal and external description: the state of dynamics system often directly describes the distribution of internal energy in the system. The internal energy can always be computed from the state variables. In contrast, the transfer function relates only the input to the output and does not show the internal behavior \n",
    " - Advantage of state space design are especially apparent when the system to be controlled has more than one control input or more than one sensed output (MIMO system).\n"
   ]
  },
  {
   "cell_type": "markdown",
   "metadata": {},
   "source": [
    "## System description in the State Space\n",
    "The motion of any finite dynamic system can be expressed as a set of first order ordinary differential equations. This is often referred to as the state-variable representation. Consider for example the motion equations of an inverted pendulum:"
   ]
  },
  {
   "cell_type": "markdown",
   "metadata": {},
   "source": [
    "|          |         |\n",
    "|----------|:--------|\n",
    "|![invpend\\label{invpend}](./images/invpendulum.png)|<p style=\"text-alignment=left;width:300px;\"><a name=\"fig1\">Fig. 1</a> - This figure shows the inverted pendulum affected by skin friction. Free body diagram of cart and pendulum and relative frame of pendulum</p>|"
   ]
  },
  {
   "cell_type": "markdown",
   "metadata": {},
   "source": [
    "Where $M$ and $m$ are the mass of cart and pendulum positioned to $L$ distance from the cart mass centrum. The cart is affected from an external force $u \\hat i$ and a skin friction speed proportional to the cart. The equation of the cart is: "
   ]
  },
  {
   "cell_type": "markdown",
   "metadata": {},
   "source": [
    "\\begin{equation*}\n",
    "\\hat i: u - T sin \\theta - b \\dot x = M \\ddot x \n",
    "\\label{eq:eqcart} \\tag{1}\n",
    "\\end{equation*}"
   ]
  },
  {
   "cell_type": "markdown",
   "metadata": {},
   "source": [
    "for the pendulum:"
   ]
  },
  {
   "cell_type": "markdown",
   "metadata": {},
   "source": [
    "\\begin{equation*}\n",
    "\\hat i: T sin \\theta = m a_{px}\n",
    "\\label{eq:apx} \\tag{2}\n",
    "\\end{equation*}\n",
    "\\begin{equation*}\n",
    "\\hat j: -T cos \\theta - m g = m a_{py}\n",
    "\\label{eq:apy} \\tag{3}\n",
    "\\end{equation*}\n",
    "\\begin{equation*}\n",
    "\\vec a_p = \\vec a_c + \\vec a_{pr} = \\ddot x \\hat i + (L \\ddot{\\theta} \\hat{e_\\theta} - L \\dot \\theta^2 \\hat{e_r})\n",
    "\\label{eq:ap} \\tag{4}\n",
    "\\end{equation*} "
   ]
  },
  {
   "cell_type": "markdown",
   "metadata": {},
   "source": [
    "Rewriting $\\vec a_p$ over the reference frame:"
   ]
  },
  {
   "cell_type": "markdown",
   "metadata": {},
   "source": [
    "\\begin{equation*}\n",
    "\\vec a_p = \\ddot x \\hat i - L \\dot \\theta^2 (- sin \\theta \\hat i + cos \\theta \\hat j) + L \\ddot \\theta (- cos \\theta \\hat i - sin \\theta \\hat j)\n",
    "\\end{equation*}"
   ]
  },
  {
   "cell_type": "markdown",
   "metadata": {},
   "source": [
    "It is possible put the last result in $\\eqref{eq:apx}$ and $\\eqref{eq:apy}$ to obtain:"
   ]
  },
  {
   "cell_type": "markdown",
   "metadata": {},
   "source": [
    "\\begin{equation*}\n",
    "\\hat i: T sin \\theta = m \\ddot x - m L \\ddot \\theta cos \\theta + m L \\dot{\\theta}^2 sin \\theta\n",
    "\\label{eq:Ti} \\tag{5}\n",
    "\\end{equation*}\n",
    "\\begin{equation*}\n",
    "\\hat j: -T cos \\theta - mg = -mL \\ddot \\theta sin \\theta - m L \\dot{\\theta}^2 cos \\theta\n",
    "\\label{eq:Tj} \\tag{6}\n",
    "\\end{equation*}"
   ]
  },
  {
   "cell_type": "markdown",
   "metadata": {},
   "source": [
    " It's possible rearrange $\\eqref{eq:eqcart}$,$\\eqref{eq:Ti}$,$\\eqref{eq:Tj}$ to remove tension and obtain:"
   ]
  },
  {
   "cell_type": "markdown",
   "metadata": {},
   "source": [
    "\\begin{equation*}\n",
    "-m g sin \\theta = m \\ddot x cos \\theta - m L \\ddot \\theta\n",
    "\\label{eq:ddotx} \\tag{7}\n",
    "\\end{equation*}\n",
    "\\begin{equation*}\n",
    "u + m L \\ddot \\theta cos \\theta - m L \\dot{\\theta}^2 sin \\theta = (m + M) \\ddot x + b \\dot x\n",
    "\\label{eq:ddottheta} \\tag{8}\n",
    "\\end{equation*}"
   ]
  },
  {
   "cell_type": "markdown",
   "metadata": {},
   "source": [
    "The final step is to set $\\dot x = v, \\ddot x = \\dot v, \\dot \\theta = \\omega, \\ddot \\theta = \\dot \\omega$ and show 4 differential linear equations "
   ]
  },
  {
   "cell_type": "markdown",
   "metadata": {},
   "source": [
    "\\begin{equation*}\n",
    "\\dot x = v\\\\\n",
    "\\dot v = \\frac{-m^2 L^2 gcos(\\theta)sin(\\theta)+mL^2(mL \\omega^2 sin(\\theta) - bv) +mL^2u}\n",
    "{mL^2(M+m(1-cos(\\theta)^2))}\\\\\n",
    "\\dot \\theta = \\omega\\\\\n",
    "\\dot \\omega = \\frac{(m+M)m g L sin(\\theta)-mLcos(\\theta)(mL \\omega^2 sin(\\theta)- bv)+ mLcos(\\theta)u}\n",
    "{mL^2(M+m(1-cos(\\theta)^2))}\\\\\n",
    "\\end{equation*}"
   ]
  },
  {
   "cell_type": "markdown",
   "metadata": {},
   "source": [
    "where $x$ is the cart position, $v$ is the velocity, $\\theta$ is the pendulum angle, $\\omega$ is\n",
    "the angular velocity, $m$ is the pendulum mass, $M$ is the cart mass, $L$ is the\n",
    "pendulum arm, $g$ is the gravitational acceleration, $b$ is a friction damping on\n",
    "the dart, and $u$ is a control force applied to the cart.\n",
    "If we linearize the equations over a point of equilibrium ($\\theta = \\pi,0$) we can express them in a standard form:"
   ]
  },
  {
   "cell_type": "markdown",
   "metadata": {},
   "source": [
    "\\begin{equation*}\n",
    "\\frac{d}{dt} \\pmb x = \\pmb F \\pmb x + \\pmb G u\n",
    "\\label{eq:stat-form} \\tag{9}\n",
    "\\end{equation*}"
   ]
  },
  {
   "cell_type": "markdown",
   "metadata": {},
   "source": [
    "where"
   ]
  },
  {
   "cell_type": "markdown",
   "metadata": {},
   "source": [
    "$$\n",
    "\\begin{array}{cc}\n",
    "F &= \\begin{bmatrix}\n",
    "0 & 1 & 0 & 0\\\\ \n",
    "0 & -b/M & mg/M & 0\\\\ \n",
    "0 & 0 & 0 & 1\\\\ \n",
    "0 & \\frac{b}{ML} & \\frac{(m+M)g}{ML} & 0\\\\\n",
    "\\end{bmatrix} & \\text{, }\n",
    "\\pmb G =\n",
    "\\begin{bmatrix}\n",
    "0\\\\ \n",
    "\\frac{1}{M}\\\\ \n",
    "0\\\\ \n",
    "\\frac{1}{ML}\n",
    "\\end{bmatrix} & \\text{, }\n",
    "\\begin{bmatrix}\n",
    "x_1\\\\ \n",
    "x_2\\\\ \n",
    "x_3\\\\ \n",
    "x_4\\\\\n",
    "\\end{bmatrix} = \n",
    "\\begin{bmatrix}\n",
    "x\\\\ \n",
    "v\\\\ \n",
    "\\theta\\\\ \n",
    "\\omega\\\\\n",
    "\\end{bmatrix}\n",
    "\\end{array}\n",
    "$$"
   ]
  },
  {
   "cell_type": "markdown",
   "metadata": {},
   "source": [
    "The output of the system is, for example, the cart position $y = x_1 = x$ which is expressed in matrix form as "
   ]
  },
  {
   "cell_type": "markdown",
   "metadata": {},
   "source": [
    "\\begin{equation*}\n",
    "y = \\begin{bmatrix}\n",
    "1 & 0 & 0 & 0\n",
    "\\end{bmatrix}  \n",
    "\\begin{bmatrix}\n",
    "x_1 \\\\ x_2 \\\\ x_3 \\\\ x_4\n",
    "\\end{bmatrix}\n",
    "\\end{equation*} "
   ]
  },
  {
   "cell_type": "markdown",
   "metadata": {},
   "source": [
    "or,"
   ]
  },
  {
   "cell_type": "markdown",
   "metadata": {},
   "source": [
    "\\begin{equation*}\n",
    "y = \\pmb H \\pmb x\n",
    "\\end{equation*}"
   ]
  },
  {
   "cell_type": "markdown",
   "metadata": {},
   "source": [
    "The equation $\\eqref{eq:stat-form}$ is called **state-variable form** where u is the input (the Force in this example), and the output is "
   ]
  },
  {
   "cell_type": "markdown",
   "metadata": {},
   "source": [
    "\\begin{equation*}\n",
    "y = \\pmb H \\pmb x + Ju\n",
    "\\label{eq:output} \\tag{10}\n",
    "\\end{equation*}"
   ]
  },
  {
   "cell_type": "markdown",
   "metadata": {},
   "source": [
    "The column vector $\\pmb x$ is calles **state of of the system** and contain *n* elements for *n*th-order system.\n",
    "The quantity $\\pmb F$ is an *n x n* **system matrix**, $\\pmb G$ is an *n x 1* **input matrix**, $\\pmb H$ is a *1 x n* row matrix referred to as the **output matrix**, and $J$ is a scalar called **direct transmission term**. "
   ]
  },
  {
   "cell_type": "markdown",
   "metadata": {},
   "source": [
    "Using MATLAB code to check a situation when the pendulum is in the top point (unstable equilibrium) and the initial condition is $y[t=0] = [x=0;\\dot x=0;\\theta=pi;\\dot \\theta=.5]$. It would be produced a periodic oscillation of $\\theta$ because acceleration of pendulum put it out of its position of equilibrium (unstable). Think the cart pendulum on a railway and the leg can rotate over its up down position freely without falling down a physical ground. Multi-oscillation are dumped for the cart-friction.  "
   ]
  },
  {
   "cell_type": "markdown",
   "metadata": {},
   "source": [
    "So the function cartpend define the unlinear differential equations:\n",
    "```\n",
    "function dy = cartpend(y,m,M,L,g,d,u)\n",
    "\n",
    "Sy = sin(y(3));\n",
    "Cy = cos(y(3));\n",
    "D = m*L*L*(M+m*(1-Cy^2));\n",
    "\n",
    "dy(1,1) = y(2);\n",
    "dy(2,1) = (1/D)*(-m^2*L^2*g*Cy*Sy + m*L^2*(m*L*y(4)^2*Sy - d*y(2))) + m*L*L*(1/D)*u;\n",
    "dy(3,1) = y(4);\n",
    "dy(4,1) = (1/D)*((m+M)*m*g*L*Sy - m*L*Cy*(m*L*y(4)^2*Sy - d*y(2))) - m*L*Cy*(1/D)*u +.01*randn;\n",
    "```"
   ]
  },
  {
   "cell_type": "markdown",
   "metadata": {},
   "source": [
    "The rest of the code\n",
    "```\n",
    "m = 1;\n",
    "M = 5;\n",
    "L = 2;\n",
    "g = -10;\n",
    "d = 1;\n",
    "\n",
    "tspan = 0:.1:30;\n",
    "y0 = [0; 0; pi; .5];\n",
    "% solve ode\n",
    "[t,y] = ode45(@(t,y)cartpend(y,m,M,L,g,d,0),tspan,y0);\n",
    "% plot theta(t)\n",
    "plot(t,y(:,3))\n",
    "```"
   ]
  },
  {
   "cell_type": "markdown",
   "metadata": {},
   "source": [
    "|          |         |\n",
    "|----------|:--------|\n",
    "|![thetapen\\label{thetapend}](./images/thetapend.png)|<p style=\"text-alignment=left;width:300px;\"><a name=\"fig2\">Fig. 2</a> - Imposing boundary condition to put the pendulum out of its unstable equilibrium and showing the evolution </p>|"
   ]
  },
  {
   "cell_type": "markdown",
   "metadata": {},
   "source": [
    "## Block Diagrams and State Space\n",
    "\n",
    "The most effective way to understanding the state variable equations is via block-diagram representation. The fundamental structure of the representation is integrator, which is quite suitable for first-order, state variable representation of equations of motion for a system. Because an integrator is a device whose input is the derivative of its output, as shown in [Fig. 3](#fig3), if we identify the output of the integrator as the state, we will then automatically have the equations in state-variable form. Conversely, if a system is described by state variables, we can construct an analog-computer simulation of that system by taking one integrator for each state variable and connecting its input according to the given equation for that state state variable as expressed in the state variable equations.  "
   ]
  },
  {
   "cell_type": "markdown",
   "metadata": {},
   "source": [
    "|          |         |\n",
    "|----------|:--------|\n",
    "|![thetapen\\label{thetapend}](./images/block.png)|<p style=\"text-alignment=left;width:300px;\"><a name=\"fig3\">Fig. 3</a> - Block diagram of the system $\\dddot y = -6 \\ddot y -11 \\dot y -6 y + 6 u$ using only integrators as dynamic elements. The set of state variables: $\\\\ \\left\\{\\begin{align*}\\dot x_1 &= -6 x_1 -11 x_2 -6 x_3 + 6 u\\\\ \\dot x_2 &= x_1\\\\ \\dot x_3 &= x_2 \\end{align*} \\right.$ </p>|"
   ]
  },
  {
   "cell_type": "markdown",
   "metadata": {},
   "source": [
    "In addiction of above mention it's known how to pass in Laplace domain to obtain a transfer function. In particular for the example of [Fig. 3](#fig3) :"
   ]
  },
  {
   "cell_type": "markdown",
   "metadata": {},
   "source": [
    "$$\n",
    "s^3 Y(s) + 6 s^2 Y(s) + 11 s Y(s) + 6 Y(s) = 6 U(s)\n",
    "$$"
   ]
  },
  {
   "cell_type": "markdown",
   "metadata": {},
   "source": [
    "Rearranging the terms:\n",
    "$$\n",
    "    G(s) = \\frac{Y(s)}{U(s)} = \\frac{6}{s^3 + 6s^2 + 11s + 6}\n",
    "$$"
   ]
  },
  {
   "cell_type": "markdown",
   "metadata": {},
   "source": [
    "More in general, Linear Systems are studied via impulse response, state space and transfer functions because have the same meaning in different domains like shown above. The figure below shows the relationship."
   ]
  },
  {
   "cell_type": "markdown",
   "metadata": {},
   "source": [
    "|         |          |\n",
    "|---------|:---------|\n",
    "|![EquivRapp](./images/equivalentrapp.png)| <a name=\"fig4\">Fig. 4 </a>- Three equivalent rappresentations of Linear Systems|"
   ]
  },
  {
   "cell_type": "markdown",
   "metadata": {},
   "source": [
    "## Block Diagrams and Canonical Forms\n"
   ]
  },
  {
   "cell_type": "markdown",
   "metadata": {},
   "source": [
    "Transfer functions can be represented by block diagram and vice versa; we begin with a simple example:"
   ]
  },
  {
   "cell_type": "markdown",
   "metadata": {},
   "source": [
    "\\begin{equation*}\n",
    "G(s) = \\frac{b(s)}{a(s)}=\\frac{s+2}{s^2 + 7s + 12} = \\frac{2}{s+4} + \\frac{-1}{s+3}\n",
    "\\label{eq:gs}\\tag{11}\n",
    "\\end{equation*}"
   ]
  },
  {
   "cell_type": "markdown",
   "metadata": {},
   "source": [
    "The roots of the numerator $b(s)$ are the zeros of the transfer function, and the roots of the dominator $a(s)$ are the poles. Noting that $G(s)$ has been written in two form, it's possible construct a block diagram that corresponds to the transfer function using only isolated integrators as the dynamic elements. Here in [figure](#fig5) is drawn a structure in **canonical form** "
   ]
  },
  {
   "cell_type": "markdown",
   "metadata": {},
   "source": [
    "|          |         |\n",
    "|----------|:--------|\n",
    "|![controlblock\\label{controlblock}](./images/controlblock.png)|<p style=\"text-alignment=left;width:300px;\"><a name=\"fig5\">Fig. 5</a> - Control Block diagram of the system $\\eqref{eq:gs}$</p>|"
   ]
  },
  {
   "cell_type": "markdown",
   "metadata": {},
   "source": [
    "It's worthwhile to mention the equation for the first,second and output state variables:"
   ]
  },
  {
   "cell_type": "markdown",
   "metadata": {},
   "source": [
    "\\begin{equation*}\n",
    "\\begin{aligned}\n",
    "\\dot x_1 &= -7x_1 -12 x_2 + u\\\\\n",
    "\\dot x_2 &= x_1\\\\\n",
    "y &= x_1 + 2x_2\\\\ \n",
    "\\end{aligned}\n",
    "\\end{equation*}"
   ]
  },
  {
   "cell_type": "markdown",
   "metadata": {},
   "source": [
    "These three equation can be rewritten in the matrix form:"
   ]
  },
  {
   "cell_type": "markdown",
   "metadata": {},
   "source": [
    "\\begin{equation*}\n",
    "\\begin{aligned}\n",
    "\\dot{\\pmb x} &= \\pmb A_c \\pmb x + \\pmb B_c u\\\\\n",
    "y &= \\pmb C_c \\pmb x\n",
    "\\end{aligned}\n",
    "\\end{equation*}"
   ]
  },
  {
   "cell_type": "markdown",
   "metadata": {},
   "source": [
    "where"
   ]
  },
  {
   "cell_type": "markdown",
   "metadata": {},
   "source": [
    "\\begin{array}{cc}\n",
    "\\pmb A_c = \\begin{bmatrix}\n",
    "-7 & -12\\\\\n",
    "1 & 0\n",
    "\\end{bmatrix}&\\text{, }\n",
    "\\pmb B_c = \\begin{bmatrix}\n",
    "1\\\\\n",
    "0\n",
    "\\end{bmatrix}\\text{,}\\\\ \n",
    "\\pmb C_c = \\begin{bmatrix}\n",
    "1 & 2\n",
    "\\end{bmatrix}&\\text{, } \\pmb D_c = 0 \n",
    "\\end{array}"
   ]
  },
  {
   "cell_type": "markdown",
   "metadata": {},
   "source": [
    "and where the subscript $c$ refer to control canonical form. There are 2 facts significant here: first $A_c$ row appear in $a(s)$ and $b(s)$ in $C_c$. By inspection when it's known the transfer function it's possible write the matrices in canonical form"
   ]
  },
  {
   "cell_type": "markdown",
   "metadata": {},
   "source": [
    "\\begin{array}{cc}\n",
    "\\pmb A_c = \\begin{bmatrix}\n",
    "-a_1 & -a_2 & .. & .. & -a_n\\\\ \n",
    "1 & 0 & .. & .. & 0\\\\ \n",
    "0 & 1 & .. & .. & 0\\\\ \n",
    ".. & .. & .. & .. & .. \\\\\n",
    ".. & .. & .. & .. & ..\\\\\n",
    "0 & 0 & .. & 1 & 0\\\\\n",
    "\\end{bmatrix} & \\text{, }\n",
    "\\pmb B =\n",
    "\\begin{bmatrix}\n",
    "1\\\\ \n",
    "0\\\\ \n",
    "..\\\\ \n",
    "..\\\\\n",
    "0\\\\\n",
    "\\end{bmatrix} \\text{, }\\\\\n",
    "\\pmb C_c = \\begin{bmatrix}\n",
    "b_1 &\n",
    "b_2 & \n",
    ".. & \n",
    ".. &\n",
    "b_n\n",
    "\\end{bmatrix} & \\text{, } D_c = 0\n",
    "\\end{array}"
   ]
  },
  {
   "cell_type": "markdown",
   "metadata": {},
   "source": [
    "Because $\\eqref{eq:gs}$ is written in 2 ways when it is in a partial-fraction expansion the relative block diagram form is:"
   ]
  },
  {
   "cell_type": "markdown",
   "metadata": {},
   "source": [
    "|          |         |\n",
    "|----------|:--------|\n",
    "|![modalblock\\label{modalblock}](./images/modalblock.png)|<p style=\"text-alignment=left;width:300px;\"><a name=\"fig6\">Fig. 6</a> - Modal Block diagram of the system</p>|"
   ]
  },
  {
   "cell_type": "markdown",
   "metadata": {},
   "source": [
    "Using the same technique the matrix directly from the block diagram:"
   ]
  },
  {
   "cell_type": "markdown",
   "metadata": {},
   "source": [
    "\\begin{equation*}\n",
    "\\begin{aligned}\n",
    "\\dot{\\pmb z} &= \\pmb A_m \\pmb z + \\pmb B_m u\\\\\n",
    "y &= \\pmb C_m \\pmb z + D_m u\n",
    "\\end{aligned}\n",
    "\\end{equation*}"
   ]
  },
  {
   "cell_type": "markdown",
   "metadata": {},
   "source": [
    "where "
   ]
  },
  {
   "cell_type": "markdown",
   "metadata": {},
   "source": [
    "\\begin{array}{cc}\n",
    "\\pmb A_m = \\begin{bmatrix}\n",
    "-4 & 0\\\\\n",
    "0 & -3\n",
    "\\end{bmatrix}&\\text{, }\n",
    "\\pmb B_m = \\begin{bmatrix}\n",
    "1\\\\\n",
    "1\n",
    "\\end{bmatrix}\\text{,}\\\\ \n",
    "\\pmb C_m = \\begin{bmatrix}\n",
    "2 & -1\n",
    "\\end{bmatrix}&\\text{, } \\pmb D_m = 0 \n",
    "\\end{array}"
   ]
  },
  {
   "cell_type": "markdown",
   "metadata": {},
   "source": [
    "and subscript m refers to **modal canonical form**. The important fact is that the system poles $(-4,-3)$ appear as the elements along the diagonal of the $\\pmb A_m$ matrix and the residues, the numerator terms in the partial fraction expansion $(2,-1)$, appear in the $C_m$ matrix. It's worthwhile to mention that expressing a system in modal form can be harder  because whenever the elements of the matrices will be complex, the poles of the system will be complex. In addiction the system matrix cannot be diagonal when the partial fraction expansion has repeated poles."
   ]
  },
  {
   "cell_type": "markdown",
   "metadata": {},
   "source": [
    "The control form is important because is connected with the controllability of a system: suppose it's known a set of state equations that describe some physical system. Is it possible to calculate the desired canonical form without obtaining the transfer functions first? It turns out this statement:\n",
    "\n",
    "<p style=\"font-weight: bold;padding:35px;background-color:azure\">One can always transform a given state description to control canonical form if and only if the controllability matrix $C$ is nonsingular</p>\n",
    "\n",
    "where the controllability matrix is:"
   ]
  },
  {
   "cell_type": "markdown",
   "metadata": {},
   "source": [
    "$\n",
    "\\begin{equation}\n",
    "\\pmb{\\mathcal{C}} = \\begin{bmatrix}\n",
    "\\pmb G& \\pmb{FG}& ... \\pmb{F}^{n-1}\\pmb G\n",
    "\\end{bmatrix}\n",
    "\\label{eq:C} \\tag{12}\n",
    "\\end{equation}\n",
    "$"
   ]
  },
  {
   "cell_type": "markdown",
   "metadata": {},
   "source": [
    "When **$\\mathcal{C}$** is non singular, the corresponding **F** and **G** matrices are said to be controllable. This is a technical property that usually holds for physical systems and will be important when it's considered the study of feedback. It is possible list a procedure to obtain new matrix in modal control form:\n",
    " - From **F** and **G**, form the controllability matrix $\\eqref{eq:C}$\n",
    " - Compute the last row of the inverse of the transformation matrix as \n",
    " $$\n",
    " \\pmb t_n = \\begin{bmatrix} 0 & 0 & .... & 1 \\end{bmatrix} \\pmb{\\mathcal C}^{-1}\n",
    " $$ \n",
    " - Construct the entire transformation matrix as \n",
    " $$\n",
    " \\pmb T^{-1} = \\begin{bmatrix} \n",
    " \\pmb t_n \\pmb F^{n-1}\\\\ \n",
    " \\pmb t_n \\pmb F^{n-2}\\\\\n",
    " ...\\\\\n",
    " \\pmb t_n \n",
    " \\end{bmatrix}\n",
    " $$\n",
    " - Compute the new matrices $\\pmb A, \\pmb B, \\pmb C$ from $\\pmb T^{-1}$ using:\n",
    " "
   ]
  },
  {
   "cell_type": "markdown",
   "metadata": {},
   "source": [
    "$$\\begin{aligned}\n",
    "\\pmb A &= \\pmb{T^{-1} F T}\n",
    "\\newline\n",
    "\\pmb B &= \\pmb{T^{-1}G}\n",
    "\\newline\n",
    "\\pmb C &= \\pmb{HT}\n",
    "\\newline\n",
    "D_c &= J\n",
    "\\end{aligned}\n",
    "\\label{eq:T} \\tag{13}\n",
    "$$"
   ]
  },
  {
   "cell_type": "markdown",
   "metadata": {},
   "source": [
    "Also state variables are changed in cause of a non singular matrix $\\pmb T$:"
   ]
  },
  {
   "cell_type": "markdown",
   "metadata": {},
   "source": [
    "$\n",
    "\\begin{align*}\n",
    "\\pmb x = \\pmb{T} \\pmb z \\tag{14}\n",
    "\\newline\n",
    "\\pmb{\\dot x} = \\pmb{T \\dot z} = \\pmb{FTz} + \\pmb Gu \n",
    "\\newline\n",
    "\\pmb{\\dot z} = \\pmb{T}^{-1}\\pmb{FTz} + \\pmb T^{-1}\\pmb{G}u\n",
    "\\newline\n",
    "\\pmb{\\dot z} = \\pmb{Az} + \\pmb B u\n",
    "\\end{align*}\n",
    "$"
   ]
  },
  {
   "cell_type": "markdown",
   "metadata": {},
   "source": [
    "Another question is the effect of a state transformation. After the transformation $\\eqref{eq:C}$ it's possible calculate the new controllability matrix $\\pmb{\\mathcal{C}}_z$"
   ]
  },
  {
   "cell_type": "markdown",
   "metadata": {},
   "source": [
    "$$\n",
    "\\begin{aligned}\n",
    "\\pmb{\\mathcal{C}_z} = & \\begin{bmatrix}\n",
    "                      \\pmb B & \\pmb{AB}& ... \\pmb{A}^{n-1}\\pmb B\n",
    "                      \\end{bmatrix}\\\\\n",
    " = & \\begin{bmatrix}\n",
    "         \\pmb{T}^{-1} \\pmb G & \\pmb{T}^{-1} \\pmb{FT} \\pmb{T}^{-1} \\pmb G & ... & \\pmb{T}^{-1} \\pmb{F}^{n-1} \\pmb{T} \\pmb{T}^{-1} \\pmb G\n",
    "     \\end{bmatrix}\\\\\n",
    " = & \\pmb{T}^{-1} \\pmb{\\mathcal{C}}\n",
    "\\end{aligned}\n",
    "$$"
   ]
  },
  {
   "cell_type": "markdown",
   "metadata": {},
   "source": [
    "$\\pmb{\\mathcal{C}_z}$ is non singular if and only if  $\\pmb{\\mathcal{C}}$ is non singular so:\n",
    "<p style=\"font-weight: bold;padding:35px;background-color:azure\">A change of state by a non singular linear transformation does not change controllability</p>"
   ]
  },
  {
   "cell_type": "markdown",
   "metadata": {},
   "source": [
    "There is a third canonical form called **observer**.\n",
    "Transfer function $\\eqref{eq:gs}$ for this form are:\n",
    "\n",
    "$$\n",
    "\\begin{array}{cc}\n",
    "\\pmb A_o = \\begin{bmatrix}\n",
    "-7 & 1\\\\\n",
    "-12 & -03\n",
    "\\end{bmatrix}&\\text{, }\n",
    "\\pmb B_o = \\begin{bmatrix}\n",
    "1\\\\\n",
    "2\n",
    "\\end{bmatrix}\\text{,}\\\\ \n",
    "\\pmb C_o = \\begin{bmatrix}\n",
    "1 & 0\n",
    "\\end{bmatrix}&\\text{, } \\pmb D_o = 0\n",
    "\\label{eq:obs_gs} \\tag{15}\n",
    "\\end{array}\n",
    "$$\n",
    "\n",
    "\n",
    "\n",
    "\n"
   ]
  },
  {
   "cell_type": "markdown",
   "metadata": {},
   "source": [
    "It may be considered what's to the controllability of this system as the zero at -2 is varied. For this purpose, we replace the second element 2 of $\\pmb B_o$ with the variable zero location $-z_0$ and form the controllability matrix: "
   ]
  },
  {
   "cell_type": "markdown",
   "metadata": {},
   "source": [
    "$$\n",
    "\\pmb{\\mathcal{C}_x} = \\begin{bmatrix} \\pmb B_0 & \\pmb A_0 \\pmb B_0 \\end{bmatrix}\\\\\n",
    "                   = \\begin{bmatrix} \n",
    "                   1 & -7 - z_0\\\\\n",
    "                   -z_0 & -12                  \n",
    "                   \\end{bmatrix}\\\\\n",
    "$$"
   ]
  },
  {
   "cell_type": "markdown",
   "metadata": {},
   "source": [
    "The determinant is zero for $z_0 = -3,-4$, implying that the controllability **is lost** for these values. What does this mean? \n",
    "\n",
    "$$\n",
    "G(s) = \\frac{s-z_0}{(s+3)(s+4)}\n",
    "$$\n",
    "\n",
    "If $z_0 = -3,-4$ there is a pole cancellation; when $z_0 = -3$ for example, the mode at -3 is decoupled from the input and the control is lost.   "
   ]
  },
  {
   "cell_type": "markdown",
   "metadata": {},
   "source": [
    "The take away of this observer canonical form are two:\n",
    " - in the diagram block form all the feedback is from the output to the state variable (see [figure 7](#fig7) )\n",
    " - the control form is always controllable for any value of the zero, while the observer form loses the controllability if the zero cancels either of the poles. These two form may represent the same transfer function, **but it may not be possible to transform the state of one to the state of the other** "
   ]
  },
  {
   "cell_type": "markdown",
   "metadata": {},
   "source": [
    "|          |         |\n",
    "|----------|:--------|\n",
    "|![obsblock](./images/obsblock.png)|<p style=\"text-alignment=left;width:300px;\"><a name=\"fig7\">Fig. 7</a> - Observer canonical form of the system $\\eqref{eq:obs_gs}$</p>|"
   ]
  },
  {
   "cell_type": "markdown",
   "metadata": {},
   "source": [
    "Using matlab canon function it's possible show the canonical modal form. In particular A matrix has poles over its diagonal. T is the transformation between these two representation that using different state variables describe the same physical system.  \n",
    "```\n",
    "[modal_sys,T] = canon(sys, 'modal')\n",
    "\n",
    "modal_sys =\n",
    " \n",
    "  A = \n",
    "            x1       x2       x3       x4\n",
    "   x1        0        0        0        0\n",
    "   x2        0    2.434        0        0\n",
    "   x3        0        0   -2.467        0\n",
    "   x4        0        0        0  -0.1665\n",
    " \n",
    "  B = \n",
    "            u1\n",
    "   x1        1\n",
    "   x2   0.2424\n",
    "   x3  -0.2807\n",
    "   x4   -1.052\n",
    " \n",
    "  C = \n",
    "              x1         x2         x3         x4\n",
    "   y1          1    0.02457    0.02786     0.9486\n",
    "   y2          0    0.05981   -0.06874    -0.1579\n",
    "   y3          0    0.07876    0.07793  -0.002645\n",
    "   y4          0     0.1917    -0.1923  0.0004404\n",
    " \n",
    "  D = \n",
    "       u1\n",
    "   y1   0\n",
    "   y2   0\n",
    "   y3   0\n",
    "   y4   0\n",
    " \n",
    "Continuous-time state-space model.\n",
    "\n",
    "\n",
    "T =\n",
    "\n",
    "    1.0000    6.0000   -0.0000   -2.0000\n",
    "         0   -0.0996    6.3858    2.6237\n",
    "         0   -0.1138    6.3656   -2.5799\n",
    "         0   -6.3195   -0.3524    2.1163\n",
    "```\n",
    "We know that poles on the right half-plane means unstable systems. It's a confirmation of instability when the pendulum is in the top position (look at the [figure2](#fig2) $\\theta$ when the pendulum comes out of its unstable position i.e. few cents of degree off its top position) "
   ]
  },
  {
   "cell_type": "markdown",
   "metadata": {},
   "source": [
    "The canonical modal form is not the only way to find out the poles of the transfer function: if it's multiplied the first equation of $\\eqref{eq:T}$ by $\\pmb T$ (transformation to modal form) the result is:"
   ]
  },
  {
   "cell_type": "markdown",
   "metadata": {},
   "source": [
    "$$\n",
    "\\pmb{TA} = \\pmb{FT}\n",
    "$$"
   ]
  },
  {
   "cell_type": "markdown",
   "metadata": {},
   "source": [
    "Assuming in a third order problem that $\\pmb A$ is a diagonal matrix and $\\pmb T$ is composed of the columns $\\pmb t_1, \\pmb t_2, \\pmb t_3$ the result is an **eigenvector/eigenvalues problem**:"
   ]
  },
  {
   "cell_type": "markdown",
   "metadata": {},
   "source": [
    "$$\n",
    "\\begin{bmatrix}\n",
    "\\pmb t_1 & \\pmb t_2 & \\pmb t_3\n",
    "\\end{bmatrix}  \n",
    "\\begin{bmatrix}\n",
    "p_1 & 0 & 0\\\\\n",
    "0 & p_2 & 0\\\\\n",
    "0 & 0 & p_3\n",
    "\\end{bmatrix} = \\pmb F\n",
    "\\begin{bmatrix}\n",
    "\\pmb t_1 & \\pmb t_2 & \\pmb t_3\n",
    "\\end{bmatrix}\n",
    "$$"
   ]
  },
  {
   "cell_type": "markdown",
   "metadata": {},
   "source": [
    "It turns out that the transformation matrix that will convert the state description matrices to modal form has its columns the eigenvectors of **F**. The eigenvalues of cart-pendulum are directly findable solving for **F**\n",
    "```\n",
    ">> eig(F)\n",
    "\n",
    "ans =\n",
    "\n",
    "         0\n",
    "   -2.4674\n",
    "   -0.1665\n",
    "    2.4339\n",
    "```"
   ]
  },
  {
   "cell_type": "markdown",
   "metadata": {},
   "source": [
    "Backing to $\\eqref{eq:C}$ it's time to check the controllability of the card pendulum system:\n",
    "```\n",
    ">> ctrb(A,B)\n",
    "\n",
    "ans =\n",
    "\n",
    "         0    0.2000   -0.0400    0.2080\n",
    "    0.2000   -0.0400    0.2080   -0.0816\n",
    "         0    0.1000   -0.0200    0.6040\n",
    "    0.1000   -0.0200    0.6040   -0.1408\n",
    "\n",
    ">> rank(ctrb(A,B))\n",
    "\n",
    "ans =\n",
    "\n",
    "     4\n",
    "```\n",
    "The rank of $\\mathcal C$ is full and it's possible to control the **full state system** by looping **x**.  "
   ]
  }
 ],
 "metadata": {
  "kernelspec": {
   "display_name": "Python 3",
   "language": "python",
   "name": "python3"
  },
  "language_info": {
   "codemirror_mode": {
    "name": "ipython",
    "version": 3
   },
   "file_extension": ".py",
   "mimetype": "text/x-python",
   "name": "python",
   "nbconvert_exporter": "python",
   "pygments_lexer": "ipython3",
   "version": "3.7.3"
  }
 },
 "nbformat": 4,
 "nbformat_minor": 2
}
