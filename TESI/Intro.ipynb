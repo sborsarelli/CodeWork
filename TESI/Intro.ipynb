{
 "cells": [
  {
   "cell_type": "markdown",
   "metadata": {},
   "source": [
    "# Preliminary fundamentals <a name=\"chapter1\"></a>\n",
    "\n",
    "What is a \"system\" in control theory? It's an insulated-enviroment composed from many parts that interact themselves where people want study the behaviour. It's composed of \"input variables\", like external forces, and \"output variables\" namely some characteristic of the system that it's important to study for some reason.\n",
    "In particular is interested to study the \"dynamic systems\" where variables have cause and effect and they are described from differential equation (also called memory systems). In particular the output doesn't depend only by input variables but the history also.\n",
    "A state variable is one of the set of variables that are used to describe the internal mathematical *state* of a dynamical system, which is determined by its history necessary to calculate the output.\n",
    "Intuitively, the state of a system describes enough about the system to determine its future behaviour in the absence of any external forces affecting the system. Models that consist of coupled first-order differential equations are said to be in state-variable form.\n",
    "There are some examples where state variables are used:\n",
    "\n",
    " - In mechanical systems, the position coordinates and velocities of mechanical parts are typical state variables\n",
    " - In thermodynamics, a state variable is an independent variable of a state function like internal energy, enthalpy, and entropy.\n",
    " - In electronic/electrical circuits, the voltages of the nodes and the currents through components in the circuit are usually the state variables.\n",
    " - In ecosystem models, population sizes (or concentrations) of plants, animals, and resources (nutrients, organic material) are typical state variables.\n",
    " - In pandemic models, restrictions(i.e. masks, lock-down, vaxines), percentage of cases, number of hospital beds, are used like state variables to create a control system.  \n",
    "\n",
    "In particular of last point feedbacks are part of Control Engineering (or control systems engineering), a discipline that deals with control systems, applying control theory to design equipment and systems with desired behaviors in control environments. The practice uses sensors and detectors to measure the output performance of the process being controlled; these measurements are used to provide corrective feedback helping to achieve the desired performance. Systems designed to perform without requiring human input are called automatic control systems (such as cruise control for regulating the speed of a car). Multi-disciplinary in nature, control systems engineering activities focus on implementation of control systems mainly derived by mathematical modeling of a diverse range of systems. \n",
    "There are two major divisions in control theory, namely, classical and modern, which have direct implications for the control engineering applications:\n",
    "\n",
    " - **Classical SISO System Design**. The scope of classical control theory is limited to single-input and single-output system design, except when analyzing for disturbance rejection using a second input. The system analysis is carried out in the time domain using differential equations, in the complex-s domain with the Laplace transform, or in the frequency domain by transforming from the complex-s domain. Many systems may be assumed to have a second order and single variable system response in the time domain. The most common controllers designed using classical control theory are PID controllers. The ultimate end goal is to meet requirements typically provided in the time-domain called the step response, or at times in the frequency domain called the open-loop response. The step response characteristics applied in a specification are typically percent overshoot, settling time, etc. \n",
    " - **Modern MIMO system Design**. Modern control theory is carried out in the state space, and can deal with multiple-input and multiple-output (MIMO) systems. This overcomes the limitations of classical control theory in more sophisticated design problems, such as fighter aircraft control, with the limitation that no frequency domain analysis is possible. In modern design, a system is represented to the greatest advantage as a set of decoupled first order differential equations defined using state variables. Nonlinear, multivariable, adaptive and robust control theories come under this division.\n",
    "\n",
    "In state-space design, the control engineer designs a dynamic compensation by working directly  with the state-variable description of the system.\n",
    "Because it is particularly well suited to the use of the computer techniques, state-space design is increasingly studied and used today by control engineers.\n",
    "\n",
    "The discussion of this paper starts from describing a dynamic system through an example passing to the state variable model, then the focus passes to the development of a state-variable equations and studying its block diagrams. Next steps are the way follow for a designer of feedback control:\n",
    "\n",
    " 1. Select closed-loop pole and develop the control law of the closed-loop system to satisfactory dynamics response.\n",
    " 2. Design an estimator\n",
    " 3. Combine the control law and the estimator\n",
    " 4. Introduce a reference input and track it robustly\n",
    "\n",
    "In a way to describe the goals of feedbacks:\n",
    "\n",
    " - obtain stability by the design\n",
    " - reduce the uncertainity by the compensation\n",
    " - resolve the disturbance also known as rejection\n",
    " - attenuating the sensor noise \n",
    " \n",
    "The main idea of state space comes of describing differential equations in a different method. By this way the dynamic is organized as a set of first order differential equations transformed in a vector-valued state of the system and the solution is visualized as a trajectory of this state vector space. State space control design is the technique in which the control engineer designs a dynamic compensation by working directly with the state variable description of the system.\n",
    "\n",
    "There are several reason for studying equations in this form:\n",
    "\n",
    " - To study more general models: The ODE do not have to be linear or stationary\n",
    " - To introduce the ideas of geometry into differential equations: in physics the plane of position versus velocity of a particle is called the phase plane and the trajectory of the motion can be plotted as a curve in this plane. The main idea is to include inside the state more than two dimensions.\n",
    " - To connect internal and external description: the state of dynamics system often directly describes the distribution of internal energy in the system. The internal energy can always be computed from the state variables. In contrast, the transfer function relates only the input to the output and does not show the internal behavior \n",
    " - Advantage of state space design are especially apparent when the system to be controlled has more than one control input or more than one sensed output (MIMO systems).\n"
   ]
  },
  {
   "cell_type": "markdown",
   "metadata": {},
   "source": [
    "## System description with state-variables in the State Space  \n",
    "<a name=\"section_1_1\"></a>\n",
    "The motion of any finite dynamic system can be expressed as a set of first order ordinary differential equations. This is often referred to as the state-variable representation. Consider for example the motion equations of an inverted pendulum:"
   ]
  },
  {
   "cell_type": "markdown",
   "metadata": {},
   "source": [
    "|          |\n",
    "|:----------:|\n",
    "|![invpend\\label{invpend}](images/invpendulum.png)|"
   ]
  },
  {
   "cell_type": "markdown",
   "metadata": {},
   "source": [
    "<p style=\"text-alignment=left;\"><a name=\"fig1\">Fig. 1</a> - This figure shows the inverted pendulum affected by skin friction. Free body diagram of cart and pendulum and relative frame of pendulum</p>"
   ]
  },
  {
   "cell_type": "markdown",
   "metadata": {},
   "source": [
    "With the reference to <a href=\"#fig1\">to figure 1</a>,  $M$ and $m$ are the mass of cart and pendulum positioned to $L$ distance from the cart mass centrum. The cart is affected from an external force $u \\hat i$ and a skin friction speed proportional to the cart. The equation of the cart is one dimensional: "
   ]
  },
  {
   "cell_type": "markdown",
   "metadata": {},
   "source": [
    "\\begin{equation}\n",
    "\\hat i: u - T sin \\theta - b \\dot x = M \\ddot x \n",
    "\\label{eq:eqcart} \n",
    "\\end{equation}"
   ]
  },
  {
   "cell_type": "markdown",
   "metadata": {},
   "source": [
    "in order to write the pendulum equations is necessary to use a free body diagram (here \"pr\" stands for reference frame of the pendulum):"
   ]
  },
  {
   "cell_type": "markdown",
   "metadata": {},
   "source": [
    "\\begin{equation}\n",
    "\\hat i: T sin \\theta = m a_{px}\n",
    "\\label{eq:apx} \n",
    "\\end{equation}\n",
    "\\begin{equation}\n",
    "\\hat j: -T cos \\theta - m g = m a_{py}\n",
    "\\label{eq:apy}\n",
    "\\end{equation}\n",
    "\\begin{equation}\n",
    "\\vec a_p = \\vec a_c + \\vec a_{pr} = \\ddot x \\hat i + (L \\ddot{\\theta} \\hat{e_\\theta} - L \\dot \\theta^2 \\hat{e_r})\n",
    "\\label{eq:ap}\n",
    "\\end{equation} "
   ]
  },
  {
   "cell_type": "markdown",
   "metadata": {},
   "source": [
    "Rewriting $\\vec a_p$ over the reference frame:"
   ]
  },
  {
   "cell_type": "markdown",
   "metadata": {},
   "source": [
    "\\begin{equation}\\label{eq:ap2}\n",
    "\\vec a_p = \\ddot x \\hat i - L \\dot \\theta^2 (- sin \\theta \\hat i + cos \\theta \\hat j) + L \\ddot \\theta (- cos \\theta \\hat i - sin \\theta \\hat j)\n",
    "\\end{equation}"
   ]
  },
  {
   "cell_type": "markdown",
   "metadata": {},
   "source": [
    "It is possible put the last result in $\\eqref{eq:apx}$ and $\\eqref{eq:apy}$ to obtain:"
   ]
  },
  {
   "cell_type": "markdown",
   "metadata": {},
   "source": [
    "\\begin{equation}\n",
    "\\hat i: T sin \\theta = m \\ddot x - m L \\ddot \\theta cos \\theta + m L \\dot{\\theta}^2 sin \\theta\n",
    "\\label{eq:Ti} \n",
    "\\end{equation}\n",
    "\\begin{equation}\n",
    "\\hat j: -T cos \\theta - mg = -mL \\ddot \\theta sin \\theta - m L \\dot{\\theta}^2 cos \\theta\n",
    "\\label{eq:Tj} \n",
    "\\end{equation}"
   ]
  },
  {
   "cell_type": "markdown",
   "metadata": {},
   "source": [
    " then,rearranging Eqs. $\\eqref{eq:eqcart}$,$\\eqref{eq:Ti}$,$\\eqref{eq:Tj}$ to remove tension and it's obtained:"
   ]
  },
  {
   "cell_type": "markdown",
   "metadata": {},
   "source": [
    "\\begin{equation}\n",
    "-m g sin \\theta = m \\ddot x cos \\theta - m L \\ddot \\theta\n",
    "\\label{eq:ddotx}\n",
    "\\end{equation}\n",
    "\\begin{equation}\n",
    "u + m L \\ddot \\theta cos \\theta - m L \\dot{\\theta}^2 sin \\theta = (m + M) \\ddot x + b \\dot x\n",
    "\\label{eq:ddottheta}\n",
    "\\end{equation}"
   ]
  },
  {
   "cell_type": "markdown",
   "metadata": {},
   "source": [
    "The final step is to set $\\dot x = v, \\ddot x = \\dot v, \\dot \\theta = \\omega, \\ddot \\theta = \\dot \\omega$ and show 4 differential linear equations "
   ]
  },
  {
   "cell_type": "markdown",
   "metadata": {},
   "source": [
    "\\begin{align}\\label{eq:set-diff-eq}\n",
    "\\dot x =& v\\\\\n",
    "\\dot v =& \\frac{-m^2 L^2 gcos(\\theta)sin(\\theta)+mL^2(mL \\omega^2 sin(\\theta) - bv) +mL^2u}\n",
    "{mL^2(M+m(1-cos(\\theta)^2))}\\\\\n",
    "\\dot \\theta =& \\omega\\\\\n",
    "\\dot \\omega =& \\frac{(m+M)m g L sin(\\theta)-mLcos(\\theta)(mL \\omega^2 sin(\\theta)- bv)+ mLcos(\\theta)u}\n",
    "{mL^2(M+m(1-cos(\\theta)^2))}\\\\\n",
    "\\end{align}"
   ]
  },
  {
   "cell_type": "markdown",
   "metadata": {},
   "source": [
    "where $x$ is the cart position, $v$ is the velocity, $\\theta$ is the pendulum angle, $\\omega$ is\n",
    "the angular velocity, $m$ is the pendulum mass, $M$ is the cart mass, $L$ is the\n",
    "pendulum arm, $g$ is the gravitational acceleration, $b$ is a friction damping on\n",
    "the cart, and $u$ is a control force applied to the cart.\n",
    "If we linearize the equations over a point of equilibrium ($\\theta = \\pi,0$) we can express them in a standard form:"
   ]
  },
  {
   "cell_type": "markdown",
   "metadata": {},
   "source": [
    "\\begin{equation}\n",
    "\\frac{d}{dt} \\pmb x = \\pmb F \\pmb x + \\pmb G u\n",
    "\\label{eq:stat-form} \n",
    "\\end{equation}"
   ]
  },
  {
   "cell_type": "markdown",
   "metadata": {},
   "source": [
    "where"
   ]
  },
  {
   "cell_type": "markdown",
   "metadata": {},
   "source": [
    "\\begin{equation}\\label{eq:2-matricies}\n",
    "F = \\begin{bmatrix}\n",
    "0 & 1 & 0 & 0\\\\ \n",
    "0 & -b/M & mg/M & 0\\\\ \n",
    "0 & 0 & 0 & 1\\\\ \n",
    "0 & \\frac{b}{ML} & \\frac{(m+M)g}{ML} & 0\\\\\n",
    "\\end{bmatrix} \\text{, } \\pmb G = \\begin{bmatrix}\n",
    "0\\\\ \n",
    "\\frac{1}{M}\\\\ \n",
    "0\\\\ \n",
    "\\frac{1}{ML}\n",
    "\\end{bmatrix} \\text{, } \\begin{bmatrix}\n",
    "x_1\\\\ \n",
    "x_2\\\\ \n",
    "x_3\\\\ \n",
    "x_4\\\\\n",
    "\\end{bmatrix} = \\begin{bmatrix}\n",
    "x\\\\ \n",
    "v\\\\ \n",
    "\\theta\\\\ \n",
    "\\omega\\\\\n",
    "\\end{bmatrix}\n",
    "\\end{equation}"
   ]
  },
  {
   "cell_type": "markdown",
   "metadata": {},
   "source": [
    "The output of the system is, for example, the cart position $y = x_1 = x$ which is expressed in matrix form as "
   ]
  },
  {
   "cell_type": "markdown",
   "metadata": {},
   "source": [
    "\\begin{equation}\n",
    "y = \\begin{bmatrix}\n",
    "1 & 0 & 0 & 0\n",
    "\\end{bmatrix}  \n",
    "\\begin{bmatrix}\n",
    "x_1 \\\\ x_2 \\\\ x_3 \\\\ x_4\n",
    "\\end{bmatrix}\n",
    "\\end{equation} "
   ]
  },
  {
   "cell_type": "markdown",
   "metadata": {},
   "source": [
    "or,"
   ]
  },
  {
   "cell_type": "markdown",
   "metadata": {},
   "source": [
    "\\begin{equation}\n",
    "y = \\pmb H \\pmb x\n",
    "\\end{equation}"
   ]
  },
  {
   "cell_type": "markdown",
   "metadata": {},
   "source": [
    "The equation $\\eqref{eq:stat-form}$ is called **state-variable form** where u is the input (the Force in this example), and the output is "
   ]
  },
  {
   "cell_type": "markdown",
   "metadata": {},
   "source": [
    "\\begin{equation}\n",
    "y = \\pmb H \\pmb x + Ju\n",
    "\\label{eq:output} \n",
    "\\end{equation}"
   ]
  },
  {
   "cell_type": "markdown",
   "metadata": {},
   "source": [
    "The column vector $\\pmb x$ is called **state of of the system** and contain *n* elements for *n*th-order system.\n",
    "The quantity $\\pmb F$ is an *n x n* **system matrix** called transition matrix, $\\pmb G$ is an *n x 1* **input matrix**, $\\pmb H$ is a *1 x n* row matrix referred to as the **output matrix**, and $J$ is a scalar called **direct transmission term** (please note that for the cart-pendulum example $J=0$). "
   ]
  },
  {
   "cell_type": "markdown",
   "metadata": {},
   "source": [
    "Using MATLAB code to check a situation when the pendulum is in the \"up\" position (unstable equilibrium) and the initial condition is $y[t=0] = [x=0;\\dot x=0;\\theta=pi;\\dot \\theta=.5]$. It would be produced a periodic oscillation of $\\theta$ because acceleration of pendulum put it out of its position of equilibrium (unstable). Think the cart pendulum over a railway and the pendulum-leg can rotate over its up down position freely without falling down a physical ground. Multi-oscillation are dumped for the cart-friction represented by a \"d\" parameter.  "
   ]
  },
  {
   "cell_type": "markdown",
   "metadata": {},
   "source": [
    "So the function cartpend define the unlinear differential equations:\n",
    "```\n",
    "function dy = cartpend(y,m,M,L,g,d,u)\n",
    "\n",
    "Sy = sin(y(3));\n",
    "Cy = cos(y(3));\n",
    "D = m*L*L*(M+m*(1-Cy^2));\n",
    "\n",
    "dy(1,1) = y(2);\n",
    "dy(2,1) = (1/D)*(-m^2*L^2*g*Cy*Sy + m*L^2*(m*L*y(4)^2*Sy - d*y(2))) + \n",
    "m*L*L*(1/D)*u;\n",
    "dy(3,1) = y(4);\n",
    "dy(4,1) = (1/D)*((m+M)*m*g*L*Sy - m*L*Cy*(m*L*y(4)^2*Sy - d*y(2))) - \n",
    "m*L*Cy*(1/D)*u +.01*randn;\n",
    "```"
   ]
  },
  {
   "cell_type": "markdown",
   "metadata": {},
   "source": [
    "The rest of the code\n",
    "```\n",
    "m = 1;\n",
    "M = 5;\n",
    "L = 2;\n",
    "g = -10;\n",
    "d = 1;\n",
    "\n",
    "tspan = 0:.1:30;\n",
    "% pendulum in up positoin omega = .5\n",
    "y0 = [0; 0; pi; .5];\n",
    "% solve ode\n",
    "[t,y] = ode45(@(t,y)cartpend(y,m,M,L,g,d,0),tspan,y0);\n",
    "% plot theta(t)\n",
    "plot(t,y(:,3))\n",
    "```"
   ]
  },
  {
   "cell_type": "markdown",
   "metadata": {},
   "source": [
    "|          |     \n",
    "|:----------:|\n",
    "|![thetapen\\label{thetapend}](images/thetapend.png)|"
   ]
  },
  {
   "cell_type": "markdown",
   "metadata": {},
   "source": [
    "<p style=\"text-alignment=left;\"><a name=\"fig2\">Fig. 2</a> - Imposing boundary condition to put the pendulum out of its unstable equilibrium and showing the evolution </p>"
   ]
  },
  {
   "cell_type": "markdown",
   "metadata": {},
   "source": [
    "## Building Block Diagrams with state-variables and State Space \n",
    "<a name=\"section_1_2\"></a>\n",
    "\n",
    "The most effective way to understanding the state variable equations is via block-diagram representation. The fundamental structure of the representation is integrator, which is quite suitable for first-order, state variable representation of equations of motion for a system. Because an integrator is a device whose input is the derivative of its output, as shown in <a href=\"#fig3\">figure 3</a>, if the output of the integrator is identified as the state,then it turns out that automatically appear the equations in state-variable form. Conversely, if a system is described by state variables, it's possible construct an analog-computer simulation of that system by taking one integrator for each state variable and connecting its input according to the given equation for that state variable as expressed in the state variable equations.  "
   ]
  },
  {
   "cell_type": "markdown",
   "metadata": {},
   "source": [
    "|          |\n",
    "|:----------:|\n",
    "|![thetapen\\label{thetapend}](images/block.png)|"
   ]
  },
  {
   "cell_type": "markdown",
   "metadata": {},
   "source": [
    "<p style=\"text-alignment=left;\"><a name=\"fig3\">Fig. 3</a> - Block diagram of the system $\\dddot y = -6 \\ddot y -11 \\dot y -6 y + 6 u$ using only integrators as dynamic elements. </p>"
   ]
  },
  {
   "cell_type": "markdown",
   "metadata": {},
   "source": [
    "In addiction of above mention it's known how to pass in Laplace domain to obtain a transfer function. In particular for the example of <a href=\"#fig3\">Fig. 3</a> :"
   ]
  },
  {
   "cell_type": "markdown",
   "metadata": {},
   "source": [
    "\\begin{equation}\n",
    "\\label{eq:laplace-1}\n",
    "s^3 Y(s) + 6 s^2 Y(s) + 11 s Y(s) + 6 Y(s) = 6 U(s)\n",
    "\\end{equation}"
   ]
  },
  {
   "cell_type": "markdown",
   "metadata": {},
   "source": [
    "Rearranging the terms:\n",
    "\\begin{equation}\n",
    "\\label{eq:transfer-function-1}\n",
    "    G(s) = \\frac{Y(s)}{U(s)} = \\frac{6}{s^3 + 6s^2 + 11s + 6}\n",
    "\\end{equation}"
   ]
  },
  {
   "cell_type": "markdown",
   "metadata": {},
   "source": [
    "More in general, Linear Invariant Systems are studied via impulse response, state space and transfer functions because have the same meaning in different domains like shown above. The figure below shows the relationship:\n",
    "there are three equivalent representations: 1) time-domain, in terms of the impulse response; 2) frequency domain, in terms of the transfer function; and 3) state-space, in terms of a system of differential equations."
   ]
  },
  {
   "cell_type": "markdown",
   "metadata": {},
   "source": [
    "|         | \n",
    "|:---------:|\n",
    "|![EquivRapp](images/equivalentrapp.png)|"
   ]
  },
  {
   "cell_type": "markdown",
   "metadata": {},
   "source": [
    " <a name=\"fig4\">Fig. 4 </a>- Three equivalent representations of Linear Invariant Systems"
   ]
  },
  {
   "cell_type": "markdown",
   "metadata": {},
   "source": [
    "## Block Diagrams and Canonical Forms \n",
    "<a name=\"section_1_3\"></a>"
   ]
  },
  {
   "cell_type": "markdown",
   "metadata": {},
   "source": [
    "Transfer functions can be represented by block diagram and vice versa; we begin with a simple example:"
   ]
  },
  {
   "cell_type": "markdown",
   "metadata": {},
   "source": [
    "\\begin{equation}\n",
    "G(s) = \\frac{b(s)}{a(s)}=\\frac{s+2}{s^2 + 7s + 12} = \\frac{2}{s+4} + \\frac{-1}{s+3}\n",
    "\\label{eq:gs}\n",
    "\\end{equation}"
   ]
  },
  {
   "cell_type": "markdown",
   "metadata": {},
   "source": [
    "The roots of the numerator $b(s)$ are the zeros of the transfer function, and the roots of the dominator $a(s)$ are the poles. Noting that $G(s)$ has been written in two form, it's possible construct a block diagram that corresponds to the transfer function using only isolated integrators as the dynamic elements. Here in <a href=\"#fig5\">figure</a> is drawn a structure in **canonical form** "
   ]
  },
  {
   "cell_type": "markdown",
   "metadata": {},
   "source": [
    "|          |         \n",
    "|:----------:|\n",
    "|![controlblock\\label{controlblock}](images/controlblock.png)|"
   ]
  },
  {
   "cell_type": "markdown",
   "metadata": {},
   "source": [
    "<p style=\"text-alignment=left;\"><a name=\"fig5\">Fig. 5</a> - Control Block diagram of the system $\\eqref{eq:gs}$</p>"
   ]
  },
  {
   "cell_type": "markdown",
   "metadata": {},
   "source": [
    "It's worthwhile to mention the equation for the first,second and output state variables:"
   ]
  },
  {
   "cell_type": "markdown",
   "metadata": {},
   "source": [
    "\\begin{align}\\label{eq:set-diff-eq-2}\n",
    "\\dot x_1 &= -7x_1 -12 x_2 + u\\\\\n",
    "\\dot x_2 &= x_1\\\\\n",
    "y &= x_1 + 2x_2\\\\ \n",
    "\\end{align}"
   ]
  },
  {
   "cell_type": "markdown",
   "metadata": {},
   "source": [
    "These three equation can be rewritten in the matrix form:"
   ]
  },
  {
   "cell_type": "markdown",
   "metadata": {},
   "source": [
    "\\begin{equation}\\label{eq:control-canonical-form}\n",
    "\\begin{aligned}\n",
    "\\dot{\\pmb x} &= \\pmb A_c \\pmb x + \\pmb B_c u\\\\\n",
    "y &= \\pmb C_c \\pmb x\n",
    "\\end{aligned}\n",
    "\\end{equation}"
   ]
  },
  {
   "cell_type": "markdown",
   "metadata": {},
   "source": [
    "where"
   ]
  },
  {
   "cell_type": "markdown",
   "metadata": {},
   "source": [
    "\\begin{align}\\label{eq:set-matrices}\n",
    "\\pmb A_c = \\begin{bmatrix}\n",
    "-7 & -12\\\\\n",
    "1 & 0\n",
    "\\end{bmatrix}&\\text{, }\n",
    "\\pmb B_c = \\begin{bmatrix}\n",
    "1\\\\\n",
    "0\n",
    "\\end{bmatrix}\\text{,}\\\\ \n",
    "\\pmb C_c = \\begin{bmatrix}\n",
    "1 & 2\n",
    "\\end{bmatrix}&\\text{, } \\pmb D_c = 0 \\nonumber\n",
    "\\end{align}"
   ]
  },
  {
   "cell_type": "markdown",
   "metadata": {},
   "source": [
    "and where the subscript $c$ refer to control canonical form. There are 2 facts significant here: the first $A_c$ row appear in $a(s)$ and the second one is that $b(s)$ is in $C_c$ vector. More in general it turns out that every time it's known the transfer function it's possible by inspection write the matrices in canonical form"
   ]
  },
  {
   "cell_type": "markdown",
   "metadata": {},
   "source": [
    "\\begin{align}\\label{eq:matrix-control-3}\n",
    "\\pmb A_c = \\begin{bmatrix}\n",
    "-a_1 & -a_2 & .. & .. & -a_n\\\\ \n",
    "1 & 0 & .. & .. & 0\\\\ \n",
    "0 & 1 & .. & .. & 0\\\\ \n",
    ".. & .. & .. & .. & .. \\\\\n",
    ".. & .. & .. & .. & ..\\\\\n",
    "0 & 0 & .. & 1 & 0\\\\\n",
    "\\end{bmatrix} & \\text{, }\n",
    "\\pmb B =\n",
    "\\begin{bmatrix}\n",
    "1\\\\ \n",
    "0\\\\ \n",
    "..\\\\ \n",
    "..\\\\\n",
    "0\\\\\n",
    "\\end{bmatrix} \\text{, }\\\\\n",
    "\\pmb C_c = \\begin{bmatrix}\n",
    "b_1 &\n",
    "b_2 & \n",
    ".. & \n",
    ".. &\n",
    "b_n\n",
    "\\end{bmatrix} & \\text{, } D_c = 0 \\nonumber\n",
    "\\end{align}"
   ]
  },
  {
   "cell_type": "markdown",
   "metadata": {},
   "source": [
    "Because $\\eqref{eq:gs}$ is written in 2 ways when it is in a partial-fraction expansion the relative block diagram form is:"
   ]
  },
  {
   "cell_type": "markdown",
   "metadata": {},
   "source": [
    "|          |\n",
    "|:----------:|\n",
    "|![modalblock\\label{modalblock}](images/modalblock.png)|"
   ]
  },
  {
   "cell_type": "markdown",
   "metadata": {},
   "source": [
    "<p style=\"text-alignment=left;\"><a name=\"fig6\">Fig. 6</a> - Modal Block diagram of the system</p>"
   ]
  },
  {
   "cell_type": "markdown",
   "metadata": {},
   "source": [
    "Using the same technique the matrix directly from the block diagram:"
   ]
  },
  {
   "cell_type": "markdown",
   "metadata": {},
   "source": [
    "\\begin{equation}\\label{eq:canonical-modal-eq}\n",
    "\\begin{aligned}\n",
    "\\dot{\\pmb z} &= \\pmb A_m \\pmb z + \\pmb B_m u\\\\\n",
    "y &= \\pmb C_m \\pmb z + D_m u\n",
    "\\end{aligned}\n",
    "\\end{equation}"
   ]
  },
  {
   "cell_type": "markdown",
   "metadata": {},
   "source": [
    "where "
   ]
  },
  {
   "cell_type": "markdown",
   "metadata": {},
   "source": [
    "\\begin{align}\\label{eq:matrices-modal-form}\n",
    "\\pmb A_m = \\begin{bmatrix}\n",
    "-4 & 0\\\\\n",
    "0 & -3\n",
    "\\end{bmatrix}&\\text{, }\n",
    "\\pmb B_m = \\begin{bmatrix}\n",
    "1\\\\\n",
    "1\n",
    "\\end{bmatrix}\\text{,}\\\\ \n",
    "\\pmb C_m = \\begin{bmatrix}\n",
    "2 & -1\n",
    "\\end{bmatrix}&\\text{, } \\pmb D_m = 0 \\nonumber\n",
    "\\end{align}"
   ]
  },
  {
   "cell_type": "markdown",
   "metadata": {},
   "source": [
    "and subscript m refers to **modal canonical form**. The important fact is that the system poles $(-4,-3)$ appear as the elements along the diagonal of the $\\pmb A_m$ matrix and the residues, the numerator terms in the partial fraction expansion $(2,-1)$, appear in the $C_m$ matrix. It's important highlight that expressing a system in modal form can be harder  because whenever the elements of the matrices will be complex, the poles of the system will be complex. In addiction the system matrix cannot be diagonal when the partial fraction expansion has repeated poles."
   ]
  },
  {
   "cell_type": "markdown",
   "metadata": {},
   "source": [
    "The control form is important because is connected with the controllability of a system: suppose it's known a set of state equations that describe some physical system. Is it possible to calculate the desired canonical form without obtaining the transfer functions first? It turns out this statement:\n",
    "\n",
    "<p style=\"font-weight: bold;padding:35px;background-color:azure\">One can always transform a given state description to control canonical form if and only if the controllability matrix $C$ is nonsingular</p>\n",
    "\n",
    "where the controllability matrix is:"
   ]
  },
  {
   "cell_type": "markdown",
   "metadata": {},
   "source": [
    "\\begin{equation}\\label{eq:C}\n",
    "\\pmb{\\mathcal{C}} = \\begin{bmatrix}\n",
    "\\pmb G & \\pmb{FG} & ... \\pmb{F}^{n-1}\\pmb G\n",
    "\\end{bmatrix}\n",
    "\\end{equation}"
   ]
  },
  {
   "cell_type": "markdown",
   "metadata": {},
   "source": [
    "When **$\\mathcal{C}$** is non singular, the corresponding **F** and **G** matrices are said to be controllable. This is a technical property that usually holds for physical systems and will be important when it's considered the study of feedback. It is possible list a procedure to obtain new matrix in modal control form:\n",
    "\n",
    " - From **F** and **G**, form the controllability matrix $\\eqref{eq:C}$\n",
    " - Compute the last row of the inverse of the transformation matrix as "
   ]
  },
  {
   "cell_type": "markdown",
   "metadata": {},
   "source": [
    "\\begin{equation}\\label{eq:tn}\n",
    "  \\pmb{t}_n = [0 \\space 0 \\space ..... \\space 1] \\pmb{\\mathcal C}^{-1}\n",
    "\\end{equation}"
   ]
  },
  {
   "cell_type": "markdown",
   "metadata": {},
   "source": [
    "- Construct the entire transformation matrix as \n",
    "\\begin{equation}\\label{eq:T-1}\n",
    " \\pmb T^{-1} = \\begin{bmatrix} \n",
    " \\pmb t_n \\pmb F^{n-1}\\\\ \n",
    " \\pmb t_n \\pmb F^{n-2}\\\\\n",
    " ...\\\\\n",
    " \\pmb t_n \n",
    " \\end{bmatrix}\n",
    "\\end{equation}"
   ]
  },
  {
   "cell_type": "markdown",
   "metadata": {},
   "source": [
    "- Compute the new matrices $\\pmb A, \\pmb B, \\pmb C$ from $\\pmb T^{-1}$ using:"
   ]
  },
  {
   "cell_type": "markdown",
   "metadata": {},
   "source": [
    "\\begin{align}\n",
    "\\pmb A &= \\pmb{T^{-1} F T} \\nonumber \\\\\n",
    "\\pmb B &= \\pmb{T^{-1}G} \\label{eq:new_Trsf} \\\\\n",
    "\\pmb C &= \\pmb{HT} \\nonumber \\\\\n",
    "D_c &= J \\nonumber\n",
    "\\end{align}"
   ]
  },
  {
   "cell_type": "markdown",
   "metadata": {},
   "source": [
    "Also state variables are changed in cause of a non singular matrix $\\pmb T$:"
   ]
  },
  {
   "cell_type": "markdown",
   "metadata": {},
   "source": [
    "\\begin{align}\n",
    "\\pmb x = \\pmb{T} \\pmb z \\nonumber\n",
    "\\newline\n",
    "\\pmb{\\dot x} = \\pmb{T \\dot z} = \\pmb{FTz} + \\pmb Gu \n",
    "\\newline\n",
    "\\pmb{\\dot z} = \\pmb{T}^{-1}\\pmb{FTz} + \\pmb T^{-1}\\pmb{G}u \\nonumber\n",
    "\\newline\n",
    "\\pmb{\\dot z} = \\pmb{Az} + \\pmb B u \\nonumber\n",
    "\\end{align}"
   ]
  },
  {
   "cell_type": "markdown",
   "metadata": {},
   "source": [
    "Another question is the effect of a state transformation. After the transformations $\\eqref{eq:new_Trsf}$ it's possible calculate the new controllability matrix $\\pmb{\\mathcal{C}}_z$"
   ]
  },
  {
   "cell_type": "markdown",
   "metadata": {},
   "source": [
    "\\begin{align} \\label{eq:Cz}\n",
    "\\pmb{\\mathcal{C}_z} = & \\begin{bmatrix}\n",
    "                      \\pmb B & \\pmb{AB}& ... \\pmb{A}^{n-1}\\pmb B\n",
    "                      \\end{bmatrix}\\\\\n",
    " = & \\begin{bmatrix}\n",
    "         \\pmb{T}^{-1} \\pmb G & \\pmb{T}^{-1} \\pmb{FT} \\pmb{T}^{-1} \\pmb G & ... & \\pmb{T}^{-1} \\pmb{F}^{n-1} \\pmb{T} \\pmb{T}^{-1} \\pmb G\n",
    "     \\end{bmatrix} \\nonumber \\\\\n",
    " = & \\pmb{T}^{-1} \\pmb{\\mathcal{C}} \\nonumber\n",
    "\\end{align}\n"
   ]
  },
  {
   "cell_type": "markdown",
   "metadata": {},
   "source": [
    "$\\pmb{\\mathcal{C}_z}$ is non singular if and only if  $\\pmb{\\mathcal{C}}$ is non singular so:\n",
    "<p style=\"font-weight: bold;padding:35px;background-color:azure\">A change of state by a non singular linear transformation does not change controllability</p>"
   ]
  },
  {
   "cell_type": "markdown",
   "metadata": {},
   "source": [
    "There is a third canonical form called **observer**.\n",
    "Transfer function $\\eqref{eq:gs}$ for this form has matrices:\n",
    "\n",
    "\n",
    "\\begin{align}\\label{eq:matrix-observer}\n",
    "\\pmb A_o = \\begin{bmatrix}\n",
    "-7 & 1\\\\\n",
    "-12 & -03\n",
    "\\end{bmatrix}&\\text{, }\n",
    "\\pmb B_o = \\begin{bmatrix}\n",
    "1\\\\\n",
    "2\n",
    "\\end{bmatrix}\\text{,}\\\\ \n",
    "\\pmb C_o = \\begin{bmatrix}\n",
    "1 & 0\n",
    "\\end{bmatrix}&\\text{, } \\pmb D_o = 0 \\nonumber\n",
    "\\end{align}"
   ]
  },
  {
   "cell_type": "markdown",
   "metadata": {},
   "source": [
    "It may be considered how change the controllability of this system as the zero at -2 is varied. For this purpose, we replace the second element 2 of $\\pmb B_o$ with the variable zero location $-z_0$ and form the controllability matrix: "
   ]
  },
  {
   "cell_type": "markdown",
   "metadata": {},
   "source": [
    "\\begin{equation}\\label{eq:Cx}\n",
    "\\pmb{\\mathcal{C}_x} = \\begin{bmatrix} \\pmb B_0 & \\pmb A_0 \\pmb B_0 \\end{bmatrix}\\\\\n",
    "                   = \\begin{bmatrix} \n",
    "                   1 & -7 - z_0\\\\\n",
    "                   -z_0 & -12                  \n",
    "                   \\end{bmatrix}\\\\\n",
    "\\end{equation}"
   ]
  },
  {
   "cell_type": "markdown",
   "metadata": {},
   "source": [
    "The determinant is zero for $z_0 = -3,-4$, implying that the controllability **is lost** for these values. What does this mean? The transfer function may help:  "
   ]
  },
  {
   "cell_type": "markdown",
   "metadata": {},
   "source": [
    "\\begin{equation}\\label{eq:newG}\n",
    "G(s) = \\frac{s-z_0}{(s+3)(s+4)}\n",
    "\\end{equation}"
   ]
  },
  {
   "cell_type": "markdown",
   "metadata": {},
   "source": [
    "If $z_0 = -3,-4$ there is a pole cancellation; when $z_0 = -3$ for example, the mode at -3 is decoupled from the input and the control is lost.   "
   ]
  },
  {
   "cell_type": "markdown",
   "metadata": {},
   "source": [
    "The take away of this observer canonical form are two:\n",
    "\n",
    " - in the diagram block form, all the feedback is from the output to the state variable (see <a href=\"#fig7\">figure 7</a> )\n",
    " - the control form is always controllable for any value of the zero, while the observer form loses the controllability if the zero cancels either of the poles. These two form may represent the same transfer function, **but it may not be possible to transform the state of one to the state of the other** "
   ]
  },
  {
   "cell_type": "markdown",
   "metadata": {},
   "source": [
    "|          |      \n",
    "|:----------:|\n",
    "|![obsblock](images/obsblock.png)|"
   ]
  },
  {
   "cell_type": "markdown",
   "metadata": {},
   "source": [
    "<p style=\"text-alignment=left;\"><a name=\"fig7\">Fig. 7</a> - Observer canonical form of the system $\\eqref{eq:gs}$</p>"
   ]
  },
  {
   "cell_type": "markdown",
   "metadata": {},
   "source": [
    "Using matlab canon function it's possible to show the canonical modal form. In particular A matrix has poles over its diagonal. T is the transformation between these two representation that using different state variables describe the same physical system.  \n",
    "```\n",
    "H = [1 1 1 1];\n",
    "J = 0;\n",
    "sys = ss(F,G,H,J);\n",
    "[modal_sys,T] = canon(sys, 'modal')\n",
    "\n",
    "modal_sys =\n",
    " \n",
    "  A = \n",
    "            x1       x2       x3       x4\n",
    "   x1        0        0        0        0\n",
    "   x2        0    2.434        0        0\n",
    "   x3        0        0   -2.467        0\n",
    "   x4        0        0        0  -0.1665\n",
    " \n",
    "  B = \n",
    "            u1\n",
    "   x1        1\n",
    "   x2   0.2424\n",
    "   x3  -0.2807\n",
    "   x4   -1.052\n",
    " \n",
    "  C = \n",
    "              x1         x2         x3         x4\n",
    "   y1          1    0.02457    0.02786     0.9486\n",
    "   y2          0    0.05981   -0.06874    -0.1579\n",
    "   y3          0    0.07876    0.07793  -0.002645\n",
    "   y4          0     0.1917    -0.1923  0.0004404\n",
    " \n",
    "  D = \n",
    "       u1\n",
    "   y1   0\n",
    "   y2   0\n",
    "   y3   0\n",
    "   y4   0\n",
    " \n",
    "Continuous-time state-space model.\n",
    "\n",
    "\n",
    "T =\n",
    "\n",
    "    1.0000    6.0000   -0.0000   -2.0000\n",
    "         0   -0.0996    6.3858    2.6237\n",
    "         0   -0.1138    6.3656   -2.5799\n",
    "         0   -6.3195   -0.3524    2.1163\n",
    "```\n",
    "A note about $\\pmb A$ matrix; it's known that poles on the right half-plane means unstable systems. It's a confirmation of instability when the pendulum is in the top position (look at the <a href=\"#fig2\">figure 2</a> $\\theta$ when the pendulum comes out of its unstable position i.e. either few cents of degree off its top position or like the simulation $\\omega = 0.5$) "
   ]
  },
  {
   "cell_type": "markdown",
   "metadata": {},
   "source": [
    "The canonical modal form is not the only way to find out the poles of the transfer function: if it's multiplied the first equation of $\\eqref{eq:new_Trsf}$ by $\\pmb T$ (transformation to modal form) the result is:"
   ]
  },
  {
   "cell_type": "markdown",
   "metadata": {},
   "source": [
    "\\begin{equation}\n",
    "\\label{eq:TAFT}\n",
    "\\pmb{TA} = \\pmb{FT}\n",
    "\\end{equation}"
   ]
  },
  {
   "cell_type": "markdown",
   "metadata": {},
   "source": [
    "Assuming in a third order problem that $\\pmb A$ is a diagonal matrix and $\\pmb T$ is composed of the columns $\\pmb t_1, \\pmb t_2, \\pmb t_3$ the result is an **eigenvector/eigenvalues problem**:"
   ]
  },
  {
   "cell_type": "markdown",
   "metadata": {},
   "source": [
    "\\begin{equation}\n",
    "\\label{eq:eigenval-problem}\n",
    "\\begin{bmatrix}\n",
    "\\pmb t_1 & \\pmb t_2 & \\pmb t_3\n",
    "\\end{bmatrix}  \n",
    "\\begin{bmatrix}\n",
    "p_1 & 0 & 0\\\\\n",
    "0 & p_2 & 0\\\\\n",
    "0 & 0 & p_3\n",
    "\\end{bmatrix} = \\pmb F\n",
    "\\begin{bmatrix}\n",
    "\\pmb t_1 & \\pmb t_2 & \\pmb t_3\n",
    "\\end{bmatrix}\n",
    "\\end{equation}"
   ]
  },
  {
   "cell_type": "markdown",
   "metadata": {},
   "source": [
    "It turns out that the transformation matrix that will convert the state description matrices to modal form has its columns the eigenvectors of **F**. The eigenvalues of cart-pendulum are directly findable solving for **F**\n",
    "```\n",
    ">> eig(F)\n",
    "\n",
    "ans =\n",
    "\n",
    "         0\n",
    "   -2.4674\n",
    "   -0.1665\n",
    "    2.4339\n",
    "```"
   ]
  },
  {
   "cell_type": "markdown",
   "metadata": {},
   "source": [
    "Backing to $\\eqref{eq:C}$ it's time to check the controllability of the card pendulum system:\n",
    "```\n",
    ">> ctrb(A,B)\n",
    "\n",
    "ans =\n",
    "\n",
    "         0    0.2000   -0.0400    0.2080\n",
    "    0.2000   -0.0400    0.2080   -0.0816\n",
    "         0    0.1000   -0.0200    0.6040\n",
    "    0.1000   -0.0200    0.6040   -0.1408\n",
    "\n",
    ">> rank(ctrb(A,B))\n",
    "\n",
    "ans =\n",
    "\n",
    "     4\n",
    "```\n",
    "The rank of $\\mathcal C$ is full and it's possible to control the **full state system** by looping **x**.  "
   ]
  },
  {
   "cell_type": "markdown",
   "metadata": {},
   "source": [
    "## Dynamic response from the state equations \n",
    "<a name=\"section_1_4\"></a>\n",
    "Having considered the structure of the state-variables equations, now it's the turn to finding the dynamic response from the state description and the relationship with poles and zeros of the transfer function.\n",
    "Considering $\\eqref{eq:stat-form}$ and $\\eqref{eq:output}$ in a frequency domain it's possible to write by Laplace transform:"
   ]
  },
  {
   "cell_type": "markdown",
   "metadata": {},
   "source": [
    "\\begin{align}\\label{Laplace-transform}\n",
    "\\begin{split}\n",
    "\\dot{\\pmb x} &= \\pmb F \\pmb x + \\pmb G u \\\\\n",
    "s \\pmb X(s) - \\pmb x(0) &= \\pmb F \\pmb X(s) + \\pmb G U(s)\n",
    "\\end{split}\n",
    "\\end{align}"
   ]
  },
  {
   "cell_type": "markdown",
   "metadata": {},
   "source": [
    "which is now an algebraic equation. Rearranging the terms and pre-multiply both sides by the inverse of $(s\\pmb I -\\pmb F)$, result in:"
   ]
  },
  {
   "cell_type": "markdown",
   "metadata": {},
   "source": [
    "\\begin{equation}\\label{Xs}\n",
    "\\pmb X(s) = (s\\pmb I -\\pmb F)^{-1} \\pmb G U(s) + (s\\pmb I -\\pmb F)^{-1} \\pmb x(0)\n",
    "\\end{equation}"
   ]
  },
  {
   "cell_type": "markdown",
   "metadata": {},
   "source": [
    "the output system is"
   ]
  },
  {
   "cell_type": "markdown",
   "metadata": {},
   "source": [
    "\\begin{align}\n",
    "Y(s) &= \\pmb H \\pmb X(s) + J U(s) \\nonumber\\\\\n",
    "     &= \\pmb H(s\\pmb I - \\pmb F)^{-1} \\pmb G U(s) +\\pmb H (s\\pmb I - \\pmb F)^{-1} \\pmb x(0) + JU(s)\n",
    "\\end{align}"
   ]
  },
  {
   "cell_type": "markdown",
   "metadata": {},
   "source": [
    "This equation express the output response to both initial condition and external forcing input. The coefficient of the external input is the transfer function of the system, which in this case is given by\n",
    "\n",
    "\\begin{equation}\n",
    "G(s) = \\frac{Y(s)}{U(s)} =  \\pmb H(s\\pmb I - \\pmb F)^{-1} \\pmb G + J\n",
    "\\label{eq:G}\n",
    "\\end{equation}"
   ]
  },
  {
   "cell_type": "markdown",
   "metadata": {},
   "source": [
    "Because $\\eqref{eq:G}$ expresses the transfer function in terms of the general state-space descriptor matrices $\\pmb F, \\pmb G, \\pmb H, J$, it's possible to express poles and zeros in term of these matrices. If taking $\\eqref{eq:stat-form}$ and $\\eqref{eq:output}$ and set the forcing u to zero, then,\n",
    "\n",
    "\\begin{align}\n",
    "\\label{eq:stat-form-u}\n",
    "\\dot{\\pmb x} &= \\pmb F \\pmb x\\\\\n",
    "\\pmb x(0)    &= \\pmb x_0\n",
    "\\end{align}"
   ]
  },
  {
   "cell_type": "markdown",
   "metadata": {},
   "source": [
    "and assuming the entire motion behaves according to the same natural frequency, then the state can be written as \n",
    "$\\pmb x(t)= e^{p_i t}\\pmb x_0$. It follows from $\\eqref{eq:stat-form-u}$ that"
   ]
  },
  {
   "cell_type": "markdown",
   "metadata": {},
   "source": [
    "\\begin{equation}\n",
    "\\dot{\\pmb x}(t) = p_i e^{p_i t}\\pmb x_0 = \\pmb F \\pmb x = \\pmb F  e^{p_i t}\\pmb x_0\n",
    "\\end{equation}"
   ]
  },
  {
   "cell_type": "markdown",
   "metadata": {},
   "source": [
    "or"
   ]
  },
  {
   "cell_type": "markdown",
   "metadata": {},
   "source": [
    "\\begin{equation}\n",
    "\\pmb F \\pmb x_0 = p_i \\pmb x_0\n",
    "\\label{eq:eigenval-eq}\n",
    "\\end{equation}"
   ]
  },
  {
   "cell_type": "markdown",
   "metadata": {},
   "source": [
    "Rewriting $\\eqref{eq:eigenval-eq}$ as"
   ]
  },
  {
   "cell_type": "markdown",
   "metadata": {},
   "source": [
    "\\begin{equation}\n",
    "(p_i \\pmb I - \\pmb F)\\pmb x_0 = 0\n",
    "\\label{eq:eigenval-eq2}\n",
    "\\end{equation}"
   ]
  },
  {
   "cell_type": "markdown",
   "metadata": {},
   "source": [
    "It's turn out that the equations $\\eqref{eq:eigenval-eq}$ and $\\eqref{eq:eigenval-eq2}$ constitute the eigenvector problem with eigenvalues $p_i$ and, in this case, eigenvectors $\\pmb x_0$ of the $\\pmb F$ matrix. Equation $\\eqref{eq:eigenval-eq2}$ has a solution if and only if "
   ]
  },
  {
   "cell_type": "markdown",
   "metadata": {},
   "source": [
    "\\begin{equation}\n",
    "det(p_i \\pmb I -\\pmb F) = 0\n",
    "\\label{eq:det}\n",
    "\\end{equation}"
   ]
  },
  {
   "cell_type": "markdown",
   "metadata": {},
   "source": [
    "These equations show again that the *poles* of the transfer function are the eigenvalues of the system matrix $\\pmb F$. The determinant $\\eqref{eq:det}$ is known as the **characteristic equation** "
   ]
  },
  {
   "cell_type": "markdown",
   "metadata": {},
   "source": [
    "We can also determine the zeros of a system from the state variable description matrices $\\pmb F, \\pmb G, \\pmb H, J$ using a system theory point of view. From this perspective, a zero is a value of a generalized frequency *s* such that the system can have a non-zero input and state yet have an output of zero. If the input at zero frequency $z_i$ is given by\n",
    "\n",
    "\\begin{equation}\n",
    "u(t) = u_0 e^{z_i t}\n",
    "\\end{equation}\n",
    "\n",
    "then the output is identically zero : $y(t) \\equiv 0$"
   ]
  },
  {
   "cell_type": "markdown",
   "metadata": {},
   "source": [
    "The state-space description of above equations would be: \n",
    "\\begin{equation}\n",
    "u=u_0 e^{z_i t}, \\pmb x(t) = \\pmb x_0 e^{z_i t}\n",
    "\\end{equation}\n",
    "\n",
    "Thus\n",
    "\n",
    "\\begin{equation}\n",
    "\\dot{\\pmb x} = z_i e^{z_i t} \\pmb x_0 = \\pmb F e^{z_i t} \\pmb x_0 + \\pmb G u_0 e^{z_i t}\n",
    "\\end{equation}"
   ]
  },
  {
   "cell_type": "markdown",
   "metadata": {},
   "source": [
    "or \n",
    "\n",
    "\\begin{equation}\n",
    "\\begin{bmatrix}\n",
    "z_i\\pmb I - \\pmb F - \\pmb G\n",
    "\\end{bmatrix}\n",
    "\\begin{bmatrix}\n",
    "\\pmb x_0\\\\\n",
    "u_0\n",
    "\\end{bmatrix} = \\mathbf 0\n",
    "\\end{equation}"
   ]
  },
  {
   "cell_type": "markdown",
   "metadata": {},
   "source": [
    "and\n",
    "\n",
    "\\begin{equation}\n",
    "y = \\pmb H \\pmb x + Ju = \\pmb H e^{z_i t} \\pmb x_0 + J u_0 e^{z_i t} = 0\n",
    "\\end{equation}\n",
    "\n",
    "Combining the above equations it's possible obtain a state vector equation similar for the poles problem:\n",
    "\n",
    "\\begin{equation}\n",
    "\\begin{bmatrix}\n",
    "z_i \\pmb I - \\pmb F & - \\pmb G\\\\\n",
    "\\pmb H              & J\n",
    "\\end{bmatrix}\n",
    "\\begin{bmatrix}\n",
    "\\pmb x_0\\\\\n",
    "u_0\n",
    "\\end{bmatrix} = \n",
    "\\begin{bmatrix}\n",
    "\\mathbf{0}\\\\\n",
    "0\n",
    "\\end{bmatrix}\n",
    "\\label{eq_state-vector-eq}\n",
    "\\end{equation}"
   ]
  },
  {
   "cell_type": "markdown",
   "metadata": {},
   "source": [
    "In SISO system the equation just mentioned has a square matrix and the solution is equivalent to :\n",
    "\n",
    "\\begin{equation}\n",
    "det\\begin{bmatrix}\n",
    "z_i \\pmb I - \\pmb F & -\\pmb G\\\\\n",
    "\\pmb H & J\n",
    "\\end{bmatrix} = 0\n",
    "\\label{eq:zerodet}\n",
    "\\end{equation}"
   ]
  },
  {
   "cell_type": "markdown",
   "metadata": {},
   "source": [
    "Equations $\\eqref{eq:det}$ and $\\eqref{eq:zerodet}$ can be conbined to express the transfer function in a compact form from state-description matrices:\n",
    "\n",
    "\\begin{equation}\n",
    "G(s) = \\frac{det\\begin{bmatrix}\n",
    "s \\pmb I - \\pmb F & - \\pmb G\\\\\n",
    "\\pmb H & J\n",
    "\\end{bmatrix}}\n",
    "{det \\begin{bmatrix}s \\pmb I - \\pmb F \\end{bmatrix}}\n",
    "\\label{eq:G-in-matrix-form}\n",
    "\\end{equation}"
   ]
  }
 ],
 "metadata": {
  "hide_input": false,
  "kernelspec": {
   "display_name": "Python 3",
   "language": "python",
   "name": "python3"
  },
  "language_info": {
   "codemirror_mode": {
    "name": "ipython",
    "version": 3
   },
   "file_extension": ".py",
   "mimetype": "text/x-python",
   "name": "python",
   "nbconvert_exporter": "python",
   "pygments_lexer": "ipython3",
   "version": "3.7.3"
  },
  "latex_envs": {
   "LaTeX_envs_menu_present": true,
   "autoclose": true,
   "autocomplete": true,
   "bibliofile": "biblio.bib",
   "cite_by": "apalike",
   "current_citInitial": 1,
   "eqLabelWithNumbers": true,
   "eqNumInitial": 1,
   "hotkeys": {
    "equation": "Ctrl-E",
    "itemize": "Ctrl-I"
   },
   "labels_anchors": false,
   "latex_user_defs": false,
   "report_style_numbering": false,
   "user_envs_cfg": false
  },
  "nbTranslate": {
   "displayLangs": [
    "*"
   ],
   "hotkey": "alt-t",
   "langInMainMenu": true,
   "sourceLang": "en",
   "targetLang": "fr",
   "useGoogleTranslate": true
  },
  "toc": {
   "base_numbering": 1,
   "nav_menu": {},
   "number_sections": true,
   "sideBar": true,
   "skip_h1_title": false,
   "title_cell": "Table of Contents",
   "title_sidebar": "Contents",
   "toc_cell": false,
   "toc_position": {},
   "toc_section_display": true,
   "toc_window_display": false
  }
 },
 "nbformat": 4,
 "nbformat_minor": 2
}
