{
 "cells": [
  {
   "cell_type": "markdown",
   "metadata": {},
   "source": [
    "%%javascript\n",
    "MathJax.Hub.Config({\n",
    "    TeX: { equationNumbers: { autoNumber: \"AMS\" } }\n",
    "});"
   ]
  },
  {
   "cell_type": "markdown",
   "metadata": {},
   "source": [
    "# Preliminary fundamentals\n",
    "\n",
    "In addition to the transform techniques of root locus and frequency response, there is a third method of designing feedback control systems: the state-space method. \n",
    "In state-space design, the control engineer designs a dynamic compensation by working directly  with the state-variable description of the system.\n",
    "Because it is particularly well suited to the use of the computer techniques, state-space design is increasingly studied and used today by control engineers.\n",
    "\n",
    "The discussion starts from dynamic system by an example passing through the state variable model, then the focus passes to the development of a state-variable equations from block diagrams. Next steps are the way follow for a designer:\n",
    " 1. Select closed-loop pole and develop the control law of the closed-loop system to satisfactory dynamics response.\n",
    " 2. Design an estimator\n",
    " 3. Combine the control law and the estimator\n",
    " 4. Introduce a reference input\n",
    " \n",
    "At the end of discussion it is present a case of study about Kalman Filter used to create a 2-dimensional stabilyzer.\n",
    "\n",
    "The main idea of state space comes of describing differential equations in a different method. By this way the dynamic is organized as a set of first order differential equations transformed in a vector-valued state of the system and the solution is visualized as a trajectory of this state vector space. State space control design is the technique in which the control engineer designs a dynamic compensation by working directly with the state variable description of the system.\n",
    "\n",
    "There are several reason for studying equations in this form:\n",
    "\n",
    " - To study more general models: The ODE do not have to be linear or stationary\n",
    " - To introduce the ideas of geometry into differential equations: in physics the plane of position versus velocity of a particle is called the phase plane and the trajectory of the motion can be plotted as a curve in this plane. The main idea is to include inside the state more than two dimensions.\n",
    " - To connect internal and external description: the state of dynamics system often directly describes the distribution of internal energy in the system. The internal energy can always be computed from the state variables. In contrast, the transfer function relates only the input to the output and does not show the internal behavior \n",
    " - Advantage of state space design are especially apparent when the system to be controlled has more than one control input or more than one sensed output.\n",
    "\n",
    "\n",
    "\n",
    "\n",
    "\n",
    "\n"
   ]
  },
  {
   "cell_type": "markdown",
   "metadata": {},
   "source": [
    "## System description in the State Space\n",
    "The motion of any finite dynamic system can be expressed as a set of first order ordinary differential equations. This is often referred to as the state-variable representation. Consider for example the motion equations of an inverted pendulum:"
   ]
  },
  {
   "cell_type": "markdown",
   "metadata": {},
   "source": [
    "here the picture"
   ]
  },
  {
   "cell_type": "markdown",
   "metadata": {},
   "source": [
    "\\begin{equation*}\n",
    "\\dot x = v\\\\\n",
    "\\dot v = \\frac{-m^2 L^2 gcos(\\theta)sin(\\theta)+mL^2(mL \\omega^2 sin(\\theta) - \\delta v) +mL^2u}\n",
    "{mL^2(M+m(1-cos(\\theta)^2))}\\\\\n",
    "\\dot \\theta = \\omega\\\\\n",
    "\\dot \\omega = \\frac{(m+M)m g L sin(\\theta)-mLcos(\\theta)(mL \\omega^2 sin(\\theta)-\\delta v)+ mLcos(\\theta)u}\n",
    "{mL^2(M+m(1-cos(\\theta)^2))}\\\\\n",
    "\\end{equation*}"
   ]
  },
  {
   "cell_type": "markdown",
   "metadata": {},
   "source": [
    "where $x$ is the cart position, $v$ is the velocity, $\\theta$ is the pendulum angle, $\\omega$ is\n",
    "the angular velocity, $m$ is the pendulum mass, $M$ is the cart mass, $L$ is the\n",
    "pendulum arm, $g$ is the gravitational acceleration, $\\delta$ is a friction damping on\n",
    "the dart, and $u$ is a control force applied to the cart.\n",
    "If we linearize the equations over a point of equilibrium ($\\theta = \\pi,0$) we can express them in a standard form:"
   ]
  },
  {
   "cell_type": "markdown",
   "metadata": {},
   "source": [
    "\\begin{equation*}\n",
    "\\frac{d}{dt} \\pmb x = \\pmb F \\pmb x + \\pmb G u\n",
    "\\label{eq:stat-form} \\tag{1}\n",
    "\\end{equation*}"
   ]
  },
  {
   "cell_type": "markdown",
   "metadata": {},
   "source": [
    "where"
   ]
  },
  {
   "cell_type": "markdown",
   "metadata": {},
   "source": [
    "\\begin{array}{cc}\n",
    "F &= \\begin{bmatrix}\n",
    "0 & 1 & 0 & 0\\\\ \n",
    "0 & -\\delta/M & b mg/M & 0\\\\ \n",
    "0 & 0 & 0 & 1\\\\ \n",
    "0 & -b \\frac{\\delta}{ML} & -b \\frac{(m+M)g}{ML} & 0\\\\\n",
    "\\end{bmatrix} & \\text{, }\n",
    "\\pmb G =\n",
    "\\begin{bmatrix}\n",
    "0\\\\ \n",
    "\\frac{1}{M}\\\\ \n",
    "0\\\\ \n",
    "b \\frac{1}{ML}\n",
    "\\end{bmatrix} & \\text{, }\n",
    "\\begin{bmatrix}\n",
    "x_1\\\\ \n",
    "x_2\\\\ \n",
    "x_3\\\\ \n",
    "x_4\\\\\n",
    "\\end{bmatrix} = \n",
    "\\begin{bmatrix}\n",
    "x\\\\ \n",
    "v\\\\ \n",
    "\\theta\\\\ \n",
    "\\omega\\\\\n",
    "\\end{bmatrix}\n",
    "\\end{array}"
   ]
  },
  {
   "cell_type": "markdown",
   "metadata": {},
   "source": [
    "where $b=1$ for the pendulum up fixed point, and $b=-1$ for the pendulum down fixed point.\n",
    "The output of the system is the cart position $y = x_1 = x$ which is expressed in matrix form as "
   ]
  },
  {
   "cell_type": "markdown",
   "metadata": {},
   "source": [
    "\\begin{equation*}\n",
    "y = \\begin{bmatrix}\n",
    "1 & 0 & 0 & 0\n",
    "\\end{bmatrix}  \n",
    "\\begin{bmatrix}\n",
    "x_1 \\\\ x_2 \\\\ x_3 \\\\ x_4\n",
    "\\end{bmatrix}\n",
    "\\end{equation*} "
   ]
  },
  {
   "cell_type": "markdown",
   "metadata": {},
   "source": [
    "or,"
   ]
  },
  {
   "cell_type": "markdown",
   "metadata": {},
   "source": [
    "\\begin{equation*}\n",
    "y = \\pmb H \\pmb x\n",
    "\\end{equation*}"
   ]
  },
  {
   "cell_type": "markdown",
   "metadata": {},
   "source": [
    "The equation $\\eqref{eq:stat-form}$ is called **state-variable form** where u is the input (the Force in this example), and the output is "
   ]
  },
  {
   "cell_type": "markdown",
   "metadata": {},
   "source": [
    "\\begin{equation*}\n",
    "y = \\pmb H \\pmb x + Ju\n",
    "\\label{eq:output} \\tag{2}\n",
    "\\end{equation*}"
   ]
  },
  {
   "cell_type": "markdown",
   "metadata": {},
   "source": [
    "The column vector $\\pmb x$ is calles **state of of the system** and contain *n* elements for *n*th-order system.\n",
    "The quantity $\\pmb F$ is an *n x n* **system matrix**, $\\pmb G$ is an *n x 1* **input matrix**, $\\pmb H$ is a *1 x n* row matrix referred to as the **output matrix**, and $J$ is a scalar called **direct transmission term**. "
   ]
  },
  {
   "cell_type": "markdown",
   "metadata": {},
   "source": [
    "## Block Diagrams and State Space\n",
    "\n",
    "The most effective way to understanding the state variable equations is via block-diagram representation. The fundamental structure of the representation is integrator, which is quite suitable for first-order, state variable representation of equations of motion for a system. Because an integrator is a device whose input is the derivative of its output, as shown in [the Figure](#int), if we identify the output of the integrator as the state, we will then automatically have the equations in state-variable form. Conversely, if a system is described by state variables, we can construct an analog-computer simulation of that system by taking one integrator for each state variable and connecting its input according to the given equation for that state state variable as expressed in the state variable equations.  "
   ]
  },
  {
   "cell_type": "markdown",
   "metadata": {},
   "source": [
    "here the picture integrator"
   ]
  },
  {
   "cell_type": "markdown",
   "metadata": {},
   "source": [
    "toy example fig 7.5"
   ]
  },
  {
   "cell_type": "markdown",
   "metadata": {},
   "source": [
    "here the block diagram of inverted pendulum."
   ]
  },
  {
   "cell_type": "markdown",
   "metadata": {},
   "source": [
    "## Block Diagrams and Canonical Forms\n"
   ]
  },
  {
   "cell_type": "code",
   "execution_count": null,
   "metadata": {},
   "outputs": [],
   "source": []
  }
 ],
 "metadata": {
  "kernelspec": {
   "display_name": "Python 3",
   "language": "python",
   "name": "python3"
  },
  "language_info": {
   "codemirror_mode": {
    "name": "ipython",
    "version": 3
   },
   "file_extension": ".py",
   "mimetype": "text/x-python",
   "name": "python",
   "nbconvert_exporter": "python",
   "pygments_lexer": "ipython3",
   "version": "3.7.3"
  }
 },
 "nbformat": 4,
 "nbformat_minor": 2
}
