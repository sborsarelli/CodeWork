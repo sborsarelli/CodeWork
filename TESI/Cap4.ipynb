{
 "cells": [
  {
   "cell_type": "markdown",
   "metadata": {},
   "source": [
    "# Simulation of a cart pendulum\n",
    "\n",
    "After the theory, it's time to simulate the card-pendulum model using state-variables in feedback control. First of all via Matlab it's explored the characteristic of the model like poles, F-matrix, controllability and observability. Then, a simulation of Linear Quadratic Regulator and Linea Quadratic Gaussian in particular with noise and disturbance are used. For the second one, it's inserted an input step reference to show the response of state-variables, in particular $x$ and $\\theta$; it's also use Simulink, a Matlab tool (refer <cite data-cite=\"grewal2014kalman\"></cite> for insight) for a better comprehension. Finally an input reference to track it is used in a feedback control system. A simple gain and an integral control are used to track an input step as last simulations."
   ]
  },
  {
   "cell_type": "markdown",
   "metadata": {},
   "source": [
    "## The model\n",
    "First of all it's worthwhile to design a non linear function of the cart-pendulum derived from $\\eqref{eq:set-diff-eq}$.\n",
    "Then, it's used the m-code to check a situation when the pendulum is in the \"up\" position (unstable equilibrium) and the initial condition is $y[t=0] = [x=0;\\dot x=0;\\theta=pi;\\dot \\theta=.5]$. It would be produced a periodic oscillation of $\\theta$ because acceleration of pendulum put it out of its position of equilibrium (unstable). Think the cart pendulum over a railway and the pendulum-leg can rotate over its up down position freely without falling down a physical ground. Multi-oscillation are dumped for the cart-friction represented by a \"d\" parameter.\n",
    "\n",
    "So the function cartpend define the unlinear differential equations:\n",
    "```\n",
    "function dy = cartpend(y,m,M,L,g,d,u)\n",
    "\n",
    "Sy = sin(y(3));\n",
    "Cy = cos(y(3));\n",
    "D = m*L*L*(M+m*(1-Cy^2));\n",
    "\n",
    "dy(1,1) = y(2);\n",
    "dy(2,1) = (1/D)*(-m^2*L^2*g*Cy*Sy + m*L^2*(m*L*y(4)^2*Sy - d*y(2))) + \n",
    "m*L*L*(1/D)*u;\n",
    "dy(3,1) = y(4);\n",
    "dy(4,1) = (1/D)*((m+M)*m*g*L*Sy - m*L*Cy*(m*L*y(4)^2*Sy - d*y(2))) - \n",
    "m*L*Cy*(1/D)*u +.01*randn;\n",
    "```\n",
    "And the rest of the code to plot the variables evolution\n",
    "\n",
    "```\n",
    "m = 1;\n",
    "M = 5;\n",
    "L = 2;\n",
    "g = -10;\n",
    "d = 1;\n",
    "\n",
    "tspan = 0:.1:30;\n",
    "% pendulum in up positoin omega = .5\n",
    "y0 = [0; 0; pi; .5];\n",
    "% solve ode\n",
    "[t,y] = ode45(@(t,y)cartpend(y,m,M,L,g,d,0),tspan,y0);\n",
    "% plot theta(t)\n",
    "plot(t,y(:,3))\n",
    "```"
   ]
  },
  {
   "cell_type": "markdown",
   "metadata": {},
   "source": [
    "|          |     \n",
    "|:----------:|\n",
    "|![thetapen\\label{thetapend}](images/thetapend.png)|"
   ]
  },
  {
   "cell_type": "markdown",
   "metadata": {},
   "source": [
    "<p style=\"text-alignment=left;\"><a name=\"fig11\">Fig. 11</a> - Imposing boundary condition to put the pendulum out of its unstable equilibrium and showing the evolution </p>"
   ]
  },
  {
   "cell_type": "markdown",
   "metadata": {},
   "source": [
    "## The modal form and the meaning of its eigenvalues\n",
    "\n",
    "Like shown in the <a href=\"#section_1_2\">chapter 2.2</a> the modal matrices form is really useful to shown poles over the its diagonal. Matlab gives the possibility to transform the initial set into the desired modal by the command *canon*. T is the transformation between these two representations that using different state variables describe the same physical system. The m-code:\n",
    "\n",
    "```\n",
    "s = 1; % pendulum up (s=1)\n",
    "%% Base system Matrices\n",
    "F = [0 1 0 0;\n",
    "    0 -d/M -m*g/M 0;\n",
    "    0 0 0 1;\n",
    "    0 -s*d/(M*L) -s*(m+M)*g/(M*L) 0];\n",
    "\n",
    "G = [0; 1/M; 0; s*1/(M*L)];\n",
    "H = [1 1 1 1];\n",
    "J = 0;\n",
    "sys = ss(F,G,H,J);\n",
    "[modal_sys,T] = canon(sys, 'modal')\n",
    "\n",
    "modal_sys =\n",
    " \n",
    "  A = \n",
    "            x1       x2       x3       x4\n",
    "   x1        0        0        0        0\n",
    "   x2        0    2.434        0        0\n",
    "   x3        0        0   -2.467        0\n",
    "   x4        0        0        0  -0.1665\n",
    " \n",
    "  B = \n",
    "            u1\n",
    "   x1        1\n",
    "   x2   0.2424\n",
    "   x3  -0.2807\n",
    "   x4   -1.052\n",
    " \n",
    "  C = \n",
    "              x1         x2         x3         x4\n",
    "   y1          1    0.02457    0.02786     0.9486\n",
    "   y2          0    0.05981   -0.06874    -0.1579\n",
    "   y3          0    0.07876    0.07793  -0.002645\n",
    "   y4          0     0.1917    -0.1923  0.0004404\n",
    " \n",
    "  D = \n",
    "       u1\n",
    "   y1   0\n",
    "   y2   0\n",
    "   y3   0\n",
    "   y4   0\n",
    " \n",
    "Continuous-time state-space model.\n",
    "\n",
    "\n",
    "T =\n",
    "\n",
    "    1.0000    6.0000   -0.0000   -2.0000\n",
    "         0   -0.0996    6.3858    2.6237\n",
    "         0   -0.1138    6.3656   -2.5799\n",
    "         0   -6.3195   -0.3524    2.1163\n",
    "```\n",
    "A note about $\\pmb A$ matrix; it's known that poles on the right half-plane means unstable systems. It's a confirmation of instability when the pendulum is in the top position (look at the <a href=\"#fig11\">figure 11</a> $\\theta$ when the pendulum comes out of its unstable position i.e. either few cents of degree off its top position or like the simulation $\\omega = 0.5$) \n",
    "\n",
    "It turns out that the transformation matrix that will convert the state description matrices to modal form has its columns the eigenvectors of $F$. In order to get the eigenvalues of $F$ is also possible to use the MATLAB function \"eig()\" like shown below:\n",
    "```\n",
    ">> eig(F)\n",
    "\n",
    "ans =\n",
    "\n",
    "         0\n",
    "   -2.4674\n",
    "   -0.1665\n",
    "    2.4339\n",
    "```\n",
    "Backing to $\\eqref{eq:C}$ it's time to check the controllability of the card pendulum system:\n",
    "```\n",
    ">> ctrb(A,B)\n",
    "\n",
    "ans =\n",
    "\n",
    "         0    0.2000   -0.0400    0.2080\n",
    "    0.2000   -0.0400    0.2080   -0.0816\n",
    "         0    0.1000   -0.0200    0.6040\n",
    "    0.1000   -0.0200    0.6040   -0.1408\n",
    "\n",
    ">> rank(ctrb(A,B))\n",
    "\n",
    "ans =\n",
    "\n",
    "     4\n",
    "```\n",
    "The rank of $\\mathcal C$ is full and it's possible to control the **full state system** by looping **x**.  "
   ]
  },
  {
   "cell_type": "markdown",
   "metadata": {},
   "source": [
    "## Hot to move poles to control the cart-pendulum\n",
    "Matlab uses *place* command in order to move poles location of the plant. The first code snippet shows some set of pole location and plot the x-cart position. It can be observed than the more to the left position the poles are the more aggressive response the plant will have.\n",
    "\n",
    "```\n",
    "clear all, close all, clc\n",
    "\n",
    "m = 1;\n",
    "M = 5;\n",
    "L = 2;\n",
    "g = -10;\n",
    "d = 1;\n",
    "\n",
    "s = 1; % pendulum up (s=1)\n",
    "\n",
    "A = [0 1 0 0;\n",
    "    0 -d/M -m*g/M 0;\n",
    "    0 0 0 1;\n",
    "    0 -s*d/(M*L) -s*(m+M)*g/(M*L) 0];\n",
    "\n",
    "B = [0; 1/M; 0; s*1/(M*L)];\n",
    "eig(A)\n",
    "\n",
    "rank(ctrb(A,B))  % is it controllable\n",
    "\n",
    "%%  Pole placement\n",
    "% For more complex case a more reliable formula is available with \n",
    "% function place\n",
    "% p is a vector of desired eigenvalues\n",
    "p0 = [-.01; -.02; -.03; -.04]; % not enough\n",
    "p1 = [-.3; -.4; -.5; -.6];  % just barely\n",
    "p2 = [-1; -1.1; -1.2; -1.3]; % good\n",
    "p3 = [-2; -2.1; -2.2; -2.3]; % aggressive\n",
    "p4 = [-3; -3.1; -3.2; -3.3]; % aggressive\n",
    "%p = [-3.5; -3.6; -3.7; -3.8]; % breaks\n",
    "% create a list of vectors\n",
    "list_p = {p1,p2,p3,p4};\n",
    "% K = lqr(A,B,Q,R);\n",
    "\n",
    "% Plot a list of non-minimum phase zero \n",
    "for k = 1:numel(list_p)\n",
    "    tspan = 0:.001:30;\n",
    "    vec_p = list_p{k};\n",
    "    % Used place instead acker function\n",
    "    K = place(A,B,vec_p)\n",
    "    y0 = [-3; 0; pi+.1; 0];\n",
    "    [t,y] = ode45(@(t,y)cartpend(y,m,M,L,g,d,-K*(y-[1; 0; pi; 0])),tspan,y0);    \n",
    "    plot(t,y(:,1)); hold on;\n",
    "end\n",
    "```\n",
    "Print out the K values:\n",
    "```\n",
    "K =\n",
    "\n",
    "   -0.0360   -1.3420   71.9720   18.6840\n",
    "\n",
    "\n",
    "K =\n",
    "\n",
    "   -1.7160   -7.0260  142.5320   58.0520\n",
    "\n",
    "\n",
    "K =\n",
    "\n",
    "  -21.2520  -40.6460  379.6040  165.2920\n",
    "\n",
    "\n",
    "K =\n",
    "\n",
    "  -98.2080 -125.8660  851.5160  375.7320\n",
    "```"
   ]
  },
  {
   "cell_type": "markdown",
   "metadata": {},
   "source": [
    "|          |\n",
    "|:----------:|\n",
    "|![modalblock\\label{modalblock}](images/poleplacement.png)|"
   ]
  },
  {
   "cell_type": "markdown",
   "metadata": {},
   "source": [
    "<p style=\"text-alignment=left;\"><a name=\"fig12\">Fig. 12</a> - Some $K$ values based on different pole placement. The start position is x = -3 and $\\theta= \\pi +0.1$. Finale reference position is x = 1 $\\theta = \\pi$. It's worthwhile to note than more aggressively is equal to require more energy and less robustness </p>"
   ]
  },
  {
   "cell_type": "markdown",
   "metadata": {},
   "source": [
    "It should be to note the system has to work harder to move pole long way (large gains) and reduce the control effort. In addition it's necessary to mention that the more aggressive will be the control the less robust the system will be because non linearity comes out respect the approximation done."
   ]
  },
  {
   "cell_type": "markdown",
   "metadata": {},
   "source": [
    "### The Linear Quadratic Regulator\n",
    "A best trade-off from control effort and fast response is computed using the Linear Quadratic Regulator. In Matlab, the $K_r$ choice is obtained via command:\n",
    "```\n",
    ">> Kr = lqr(F,G,Q,R);\n",
    "``` \n",
    "Some plots are added to show *the spectrum* of state-variables. Another graph is added to plot the functionals represented the best trade-off versus different values of $K$\n",
    "\n",
    "```\n",
    "%% Compare with many examples of Pole Placement\n",
    "x0 = [-1; 0; pi+.1; 0];  % initial condition \n",
    "wr = [1; 0; pi; 0];      % reference position\n",
    "K = lqr(F,G,Q,R);\n",
    "u=@(x)-K*(x - wr);       % control law\n",
    "[t,x] = ode45(@(t,x)pendcart(x,m,M,L,g,d,u(x)),tspan,x0);\n",
    "xLQR = x;\n",
    "for k=1:length(t)\n",
    "    JLQR(k) = (x(k,:)-wr')*Q*(x(k,:)'-wr) + u(x(k,:)')^2*R;\n",
    "end\n",
    "\n",
    "CC = [0    0.4470    0.7410\n",
    "    0.8500    0.3250    0.0980\n",
    "    0.9290    0.6940    0.1250\n",
    "    0.4940    0.1840    0.5560\n",
    "    0.4660    0.6740    0.1880\n",
    "    0.3010    0.7450    0.9330\n",
    "    0.6350    0.0780    0.1840];\n",
    "\n",
    "CCgray = [0.2    0.6470    0.9410\n",
    "    0.9500    0.4250    0.1980\n",
    "    1    0.7940    0.2250\n",
    "    0.5940    0.2840    0.6560\n",
    "    0.4660    0.6740    0.1880\n",
    "    0.3010    0.7450    0.9330\n",
    "    0.6350    0.0780    0.1840];\n",
    "\n",
    "%%try 100 different poles choises, plot graph of state-variables\n",
    "%%and cost-functions together LQR gain.\n",
    "\n",
    "for count = 1:100\n",
    "    p = [-.5-3*rand; -.5-3*rand; -.5-3*rand; -.5-3*rand];\n",
    "\tK = place(F,G,p);\n",
    "    u=@(x)-K*(x - wr);       % control law\n",
    "    [t,x] = ode45(@(t,x)pendcart(x,m,M,L,g,d,u(x)),tspan,x0);\n",
    "    figure(1)\n",
    "    for j=1:4\n",
    "        plot(t(1:50:end),x(1:50:end,j),'Color',[.5 .5 .5] + .3*CC(j,:)), hold on;\n",
    "    end\n",
    "    for k=1:length(t)\n",
    "        J(k) = (x(k,:)-wr')*Q*(x(k,:)'-wr) + u(x(k,:)')^2*R;\n",
    "    end\n",
    "    figure(2)\n",
    "    Jz = cumtrapz(t,J);\n",
    "    plot(t(1:50:end),Jz(1:50:end),'Color',[.5 .5 .5]), hold on;\n",
    "end\n",
    "figure(1)\n",
    "    for j=1:4\n",
    "        plot(t(1:10:end),xLQR(1:10:end,j),'Color',CC(j,:),'LineWidth',2)\n",
    "        l1 = legend('x','v','\\theta','\\omega')\n",
    "    end\n",
    "figure(2)\n",
    "plot(t,cumtrapz(t,JLQR),'k','LineWidth',2)\n",
    "```"
   ]
  },
  {
   "cell_type": "markdown",
   "metadata": {},
   "source": [
    "|           |\n",
    "|-----------|\n",
    "|![fig1.4](images/poleplacement2.png)|\n",
    "|![fig1.4.2](images/costfunctions.png)|"
   ]
  },
  {
   "cell_type": "markdown",
   "metadata": {},
   "source": [
    "<p><a name=\"Fig13\"> Fig. 13 </a>- Solution for Linear Quadratic Regulator compared with different set of poles locations; then the cost function is plotted in a visual way to show its functional value </p>"
   ]
  },
  {
   "cell_type": "markdown",
   "metadata": {},
   "source": [
    "## The observability of the cart-pendulum\n",
    "This code snippet goes to calculate the observability matrix when the measurement matrix **H** (in the code is C) select a sensor related to x cart position and then reply the calculation for $\\theta$ measurement. It can be highlighted that the determinant is nonzero (full rank) in the first trial and zero in the second one. In particular  tuns out that in the second is impossible to reconstruct the x position because that coordinate does not affect the others; equations of cart pendulum are invariant for translations in x position. It's important reconstruct the cart position to have full estimate of state variable putting them in the LQR block for resulting compensator placed in the feed back (as it will see later).\n",
    "\n",
    "```\n",
    "clear all, close all, clc\n",
    "\n",
    "m = 1;\n",
    "M = 5;\n",
    "L = 2;\n",
    "g = -10;\n",
    "d = 1;\n",
    "\n",
    "s = -1; % pendulum up (s=1)\n",
    "\n",
    "A = [0 1 0 0;\n",
    "    0 -d/M -m*g/M 0;\n",
    "    0 0 0 1;\n",
    "    0 -s*d/(M*L) -s*(m+M)*g/(M*L) 0];\n",
    "\n",
    "B = [0; 1/M; 0; s*1/(M*L)];\n",
    "\n",
    "C = [1 0 0 0]; \n",
    "\n",
    "obsv(A,C)\n",
    "det(obsv(A,C))\n",
    "\n",
    "\n",
    "C = [0 0 1 0]; %%  only observable if x measured... because x can't be reconstructed\n",
    "\n",
    "obsv(A,C)\n",
    "det(obsv(A,C))\n",
    "```\n",
    "The terminal result:\n",
    "```\n",
    "ans =\n",
    "\n",
    "    1.0000         0         0         0\n",
    "         0    1.0000         0         0\n",
    "         0   -0.2000    2.0000         0\n",
    "         0    0.0400   -0.4000    2.0000\n",
    "\n",
    "\n",
    "ans =\n",
    "\n",
    "     4\n",
    "\n",
    "\n",
    "ans =\n",
    "\n",
    "         0         0    1.0000         0\n",
    "         0         0         0    1.0000\n",
    "         0    0.1000   -6.0000         0\n",
    "         0   -0.0200    0.2000   -6.0000\n",
    "\n",
    "\n",
    "ans =\n",
    "\n",
    "     0\n",
    "```\n",
    "---"
   ]
  },
  {
   "cell_type": "markdown",
   "metadata": {},
   "source": [
    "###  Simulation of plant disturbance and noise measurement. \n",
    "To give a demonstration of best choice of $L \\equiv K_f$ it's considered a system with $J = 0$ in $\\eqref{eq:output}$ and pendulum in bottom position. It's better create a practical solution around a stable equilibrium point because the algebra is the same. The system represented in the <a href=\"#fig14\">picture</a> shows the linearized system with input $u$ to be the force applied to the cart pendulum, $w_d$ the gaussian zero-mean disturbance applied to the model and the cart position $(\\pmb H = [1 0 0 0])$ noised as output of state variable observed. The goal is reconstruct the full state estimate. However the strategy is reconstruct the normal form of the first order state-equation. To do it is necessary to represent the system like 2 *augmented* blocks to feed in Matlab functions: "
   ]
  },
  {
   "cell_type": "markdown",
   "metadata": {},
   "source": [
    "\\begin{align}\n",
    "\\pmb Q &= 0.1 \\pmb{I} & \\pmb x = \\begin{bmatrix} x\\\\ \\dot x\\\\ \\theta\\\\      \\dot{\\theta} \\end{bmatrix}\\\\\n",
    "R &= 1   \n",
    "\\end{align}"
   ]
  },
  {
   "cell_type": "markdown",
   "metadata": {},
   "source": [
    "\\begin{equation} \\label{eq:aug-eqs}\n",
    "\\begin{split}\n",
    "\\pmb{G}_A & = \\begin{bmatrix}\\pmb G & \\pmb Q & \\pmb{\\underline{0}}x \\pmb B\\end{bmatrix}\\\\\n",
    "\\pmb{F}_A & = \\pmb{F}\\\\\n",
    "\\pmb{H}_A & = \\pmb H\\\\\n",
    "\\pmb{J}_A & = \\begin{bmatrix} 0 & 0 & 0 & 0 & 0 & R \\end{bmatrix}\n",
    "\\end{split}\n",
    "\\end{equation}"
   ]
  },
  {
   "cell_type": "markdown",
   "metadata": {},
   "source": [
    "|       | \n",
    "|:-------:|\n",
    "|![fig5](images/kfscheme.png)|"
   ]
  },
  {
   "cell_type": "markdown",
   "metadata": {},
   "source": [
    "<p><a name=\"fig14\">Fig 14</a> A scheme of Kalman Filter; d and n are disturbance of state system and noise measurement introduced in the simulation. Note $y$ true is the output of the plant and $y$ noise the estimator input</p>"
   ]
  },
  {
   "cell_type": "markdown",
   "metadata": {},
   "source": [
    "According to the equations $\\eqref{eq:estimator}$, by inspecting $\\eqref{eq:stat-form}$ and $\\eqref{eq:output}$ the *new* estimator-system matrices are:"
   ]
  },
  {
   "cell_type": "markdown",
   "metadata": {},
   "source": [
    "\\begin{equation}\n",
    "\\label{eq:kalman-system}\n",
    "\\begin{split}\n",
    "\\pmb{F}_k &= \\pmb F - \\pmb{K}_f \\pmb H\\\\\n",
    "\\pmb{G}_k &= \\begin{bmatrix}\\pmb G \\pmb{K}_f \\end{bmatrix}\\\\\n",
    "\\pmb{H}_k &= \\pmb I\\\\\n",
    "\\pmb{J}_k &= \\pmb{0}\n",
    "\\end{split}\n",
    "\\end{equation}"
   ]
  },
  {
   "cell_type": "markdown",
   "metadata": {},
   "source": [
    "The input $u$ is augmented also to taking into account of disturbance plant and noise measurement:"
   ]
  },
  {
   "cell_type": "markdown",
   "metadata": {},
   "source": [
    "\\begin{equation}\n",
    "\\label{eq:u_noise}\n",
    "\\pmb{u}_{aug} = \\begin{bmatrix} u & {Q}^2 * \\pmb{u}_{dist} & u_{noise}\\end{bmatrix}\n",
    "\\end{equation}"
   ]
  },
  {
   "cell_type": "markdown",
   "metadata": {},
   "source": [
    "The code:\n",
    "```\n",
    "clear all, close all, clc\n",
    "\n",
    "m = 1;\n",
    "M = 5;\n",
    "L = 2;\n",
    "g = -10;\n",
    "d = 1;\n",
    "\n",
    "s = -1; % pendulum up (s=1)\n",
    "\n",
    "% y = [x; dx; theta; dtheta];\n",
    "F = [0 1 0 0;\n",
    "    0 -d/M -m*g/M 0;\n",
    "    0 0 0 1;\n",
    "    0 -s*d/(M*L) -s*(m+M)*g/(M*L) 0];\n",
    "\n",
    "G = [0; 1/M; 0; s*1/(M*L)];\n",
    "\n",
    "H = [1 0 0 0];  \n",
    "\n",
    "J = zeros(size(H,1),size(G,2));\n",
    "\n",
    "%%  Augment system with disturbances and noise\n",
    "Q = .1*eye(4);  % disturbance covariance\n",
    "R = 1;       % noise covariance\n",
    "\n",
    "GA = [G Q 0*G];  % augment inputs to include disturbance and noise\n",
    "\n",
    "sysH = ss(F,GA,H,[0 0 0 0 0 R]);  % build big state space system... with single output\n",
    "\n",
    "% system with full state output, disturbance, no noise\n",
    "sysFullOutput = ss(F,GA,eye(4),zeros(4,size(GA,2)));  \n",
    "\n",
    "%%  Build Kalman filter\n",
    "[L,P,E] = lqe(F,Q,H,Q,R);  % design Kalman filter\n",
    "Kf = (lqr(F',H',Q,R))';   % alternatively, possible to design using \"LQR\" code\n",
    "\n",
    "sysKF = ss(F-L*H,[G L],eye(4),0*[G L]);  % Kalman filter estimator\n",
    "\n",
    "%%  Estimate linearized system in \"down\" position (Gantry crane)\n",
    "dt = .01;\n",
    "t = dt:dt:50;\n",
    "\n",
    "uDIST = randn(4,size(t,2));\n",
    "uNOISE = randn(size(t));\n",
    "u = 0*t;\n",
    "u(100:120) = 100;     % impulse\n",
    "u(1500:1520) = -100;  % impulse\n",
    "\n",
    "uAUG = [u; Q*Q*uDIST; uNOISE];\n",
    "\n",
    "[y,t] = lsim(sysH,uAUG,t);% Here y is the noise measured signal \n",
    "\n",
    "[xtrue,t] = lsim(sysFullOutput,uAUG,t); % The x cart-pendulum position of the plant\n",
    "\n",
    "[x,t] = lsim(sysKF,[u; y'],t); % The estimate x of cart-pendulum\n",
    "\n",
    "\n",
    "plot(t,xtrue,'-',t,x,'--','LineWidth',2) %% Plot together y,x true,x estimate\n",
    "figure\n",
    "plot(t,y)\n",
    "hold on\n",
    "plot(t,xtrue(:,1),'r')\n",
    "plot(t,x(:,1),'k--')\n",
    "```\n",
    "---"
   ]
  },
  {
   "cell_type": "markdown",
   "metadata": {},
   "source": [
    "|         |\n",
    "|:---------:|\n",
    "|![graph](images/cartpendxpos.png)|\n",
    "<p> <a name=\"simnoise\"> Fig. 15 </a> Simulation of a noise position from an impulse system. Estimate position \"cover\" the true</p>\n",
    "\n",
    "|         |\n",
    "|:---------:|\n",
    "|![graph-est](images/true-estimate.png)|\n",
    "<p> <a name=\"true-estimate\"> Fig. 16 </a> Showing the state variable \"true\" and estimate</p>"
   ]
  },
  {
   "cell_type": "markdown",
   "metadata": {},
   "source": [
    "With the estimate state, it's the time to \"*feedback*\" it in a Linear Quadratic Regulator to combine control and estimation together. "
   ]
  },
  {
   "cell_type": "markdown",
   "metadata": {},
   "source": [
    "### Simulation of LQG in a feed back control. How to put all togheter. \n",
    "\n",
    "To apply an LQG regulator to the inverted pendulum on a cart, we will simulate the full nonlinear system in Simulink, as shown in <a href=\"#LQG\">figure 17</a>.\n",
    "The non-linear cart pendulum is connected by the force $u$ in addiction to a gaussian random noise disturbance that affected the model. The output of the cart-pendulum is the state-variable vector connected with $\\pmb H$ matrix to go input in the estimator block only with the position-cart sensor noise measurement gaussian distributed also; the relation is $y = \\pmb H \\pmb x + w_n$. The Kalman filter reconstruct the full state variable for the compensator block.  "
   ]
  },
  {
   "cell_type": "markdown",
   "metadata": {},
   "source": [
    "|           |\n",
    "|:---------:|\n",
    "|![fig9](images/LQG.png)|\n",
    "\n",
    "<p><a id=\"LQG\">Fig. 17 </a> Matlab Simulink model for sensor-based LQG feedback control.</p>"
   ]
  },
  {
   "cell_type": "markdown",
   "metadata": {},
   "source": [
    "The system starts near the vertical equilibrium, at $\\pmb x_0 = [0, 0, 3.14, 0]$, and **it's commanded a step** in the cart position from x = 0 to x = 1 at t = 10. The resulting response is shown in <a href=\"#stateLQG\">figure 18</a>. Despite noisy measurements (<a href=\"#positionLQG\">figure 19</a>) and disturbances (<a href=\"#noiseLQG\">figure 20</a>), the controller is able to effectively track the reference cart position while stabilizing the inverted pendulum."
   ]
  },
  {
   "cell_type": "markdown",
   "metadata": {},
   "source": [
    "|           |\n",
    "|:---------:|\n",
    "|![figure10](images/stateLQG.png)|\n",
    "<p><a id=\"stateLQG\">Fig. 18</a> Output response using LQG feedback control.</p>\n",
    "\n",
    "|           |\n",
    "|:---------:|\n",
    "|![figure11](images/positionLQG.png)|\n",
    "<p><a id=\"positionLQG\">Fig. 19</a> Noisy measurement used for the Kalman filter, along with the underlying noiseless signal and the Kalman filter estimate.</p>\n",
    "\n",
    "|           |\n",
    "|:---------:|\n",
    "|![figure12](images/noiseLQG.png)|\n",
    "<p><a id=\"noiseLQG\">Fig. 20</a> Noisy measurement used for the Kalman filter, along with the underlying noiseless signal and the Kalman filter estimate</p>"
   ]
  },
  {
   "cell_type": "markdown",
   "metadata": {},
   "source": [
    "The m-code set some values needed for the simulation\n",
    "```\n",
    "clear all, close all, clc\n",
    "\n",
    "%% Set cart-pendulum parameters\n",
    "m = 1;\n",
    "M = 5;\n",
    "L = 2;\n",
    "g = -10;\n",
    "d = 1;\n",
    "\n",
    "s = 1; % pendulum up (s=1)\n",
    "%% Base system Matrices\n",
    "F = [0 1 0 0;\n",
    "    0 -d/M -m*g/M 0;\n",
    "    0 0 0 1;\n",
    "    0 -s*d/(M*L) -s*(m+M)*g/(M*L) 0];\n",
    "\n",
    "G = [0; 1/M; 0; s*1/(M*L)];\n",
    "\n",
    "% Set cart-position\n",
    "H = [1 0 0 0];  \n",
    "\n",
    "J = zeros(size(H,1),size(G,2));\n",
    "\n",
    "%% Linear Quadratic Regulator\n",
    "Q = [1 0 0 0;\n",
    "    0 1 0 0;\n",
    "    0 0 1 0;\n",
    "    0 0 0 1];\n",
    "R = .000001;\n",
    "K = lqr(F,G,Q,R);  % design controller u = -K*x\n",
    "\n",
    "\n",
    "%% Augmented system\n",
    "%  Augment system with disturbances and noise\n",
    "Vdmag = .04;\n",
    "Vd = Vdmag*eye(4);  % disturbance covariance\n",
    "Vn = .0002;       % noise covariance\n",
    "\n",
    "% GF sysC sysFulloutput not used in Simulink\n",
    "GF = [G Vd 0*G];  % augment inputs to include disturbance and noise\n",
    "sysH = ss(F,GF,H,[0 0 0 0 0 Vn]);  % build big state space system... with single output\n",
    " % system with full state output, disturbance, no noise\n",
    "sysFullOutput = ss(F,GF,eye(4),zeros(4,size(GF,2))); \n",
    "\n",
    "%  Build Kalman filter 2 alternatives\n",
    "[L,P,E] = lqe(F,eye(4),H,Vd,Vn);  % design Kalman filter\n",
    "Kf = (lqr(F',H',Vd,Vn))';   % alternatively, possible to design using \"LQR\" code\n",
    "\n",
    "% The system matrices for LQE. Used in Simulink\n",
    "sysKF = ss(F-Kf*H,[G Kf],eye(4),0*[G Kf]);  % Kalman filter estimator\n",
    "\n",
    "```"
   ]
  },
  {
   "cell_type": "markdown",
   "metadata": {},
   "source": [
    "Here the m-code to print the result\n",
    "```\n",
    "CC = [0    0.4470    0.7410\n",
    "    0.8500    0.3250    0.0980\n",
    "    0.9290    0.6940    0.1250\n",
    "    0.4940    0.1840    0.5560\n",
    "    0.4660    0.6740    0.1880\n",
    "    0.3010    0.7450    0.9330\n",
    "    0.6350    0.0780    0.1840];\n",
    "\n",
    "figure(1)\n",
    "plot(yn.Time,yn.Data(:,2),'Color',[.5 .5 .5])\n",
    "hold on\n",
    "plot(x.Time,x.Data(:,1),'Color',[0 0 0],'LineWidth',2)\n",
    "plot(yKF.Time,yKF.Data(:,1),'--','Color',CC(1,:),'LineWidth',2)\n",
    "set(gcf,'Position',[100 100 500 200])\n",
    "xlabel('Time')\n",
    "ylabel('Measurement')\n",
    "l1 = legend('y (measured)','y (no noise)','y (KF estimate)');\n",
    "set(l1,'Location','SouthEast')\n",
    "grid on\n",
    "\n",
    "%%\n",
    "figure(2)\n",
    "subplot(3,1,1)\n",
    "plot(wd.Time(1:100:end),wd.Data(1:100:end,1),'LineWidth',1.2)\n",
    "xlim([45 50])\n",
    "ylabel('Disturbance, d')\n",
    "subplot(3,1,2)\n",
    "plot(wn.Time(1:100:end),wn.Data(1:100:end,1),'LineWidth',1.2)\n",
    "xlim([45 50])\n",
    "ylabel('Noise measurement, n')\n",
    "subplot(3,1,3)\n",
    "plot(yn.Time(1:100:end),yn.Data(1:100:end,1),'LineWidth',1.2)\n",
    "xlim([45 50])\n",
    "set(gcf,'Position',[100 100 500 200])\n",
    "xlabel('Time')\n",
    "ylabel('Actuation, u')\n",
    "grid on\n",
    "\n",
    "%%\n",
    "figure(3)\n",
    "plot(x.Time,x.Data,'LineWidth',2)\n",
    "l1 = legend('x','v','\\theta','\\omega')\n",
    "set(gcf,'Position',[100 100 500 200])\n",
    "xlabel('Time')\n",
    "ylabel('State')\n",
    "grid on\n",
    "\n",
    "```"
   ]
  },
  {
   "cell_type": "markdown",
   "metadata": {},
   "source": [
    "## A simulation for a cart pendulum into a feed-back control with a reference input\n",
    "<a name=\"section_4_2\"></a>\n",
    "Having described in chapter 5 how to obtain precise result it's shown below the block scheme *without* a gain reference. It's expected to obtain an output error."
   ]
  },
  {
   "cell_type": "markdown",
   "metadata": {},
   "source": [
    "|                        |\n",
    "|:----------------------:|\n",
    "|![HL1.png](images/HL1.png)|"
   ]
  },
  {
   "cell_type": "markdown",
   "metadata": {},
   "source": [
    "<p style=\"text-align:center\"><a name=\"fig21\">Fig. 21 </a> Block scheme of reference system with Linear Quadratic Regulator</p>"
   ]
  },
  {
   "cell_type": "markdown",
   "metadata": {},
   "source": [
    "The design criteria for this system with the cart receiving a 0.2 step input are as follows:\n",
    "\n",
    " - Settling time for x and theta of less than 5 seconds.\n",
    " - Rise time for x of less than 1 second\n",
    " - Overshoot of $\\theta$ less than 20 degree (0.35 radians). Please note in this lab the up position is 0 degree and down position is $\\pi$\n",
    " - Steady-state error within 2%\n",
    "\n",
    "For an inverted pendulum it is unrealistic to consider just the single output system. Using state-space/state variables methods it is relatively simple to work with a multi-output system, so in this hand-on lab it will design a controller with both the pendulum angle and the cart position in mind."
   ]
  },
  {
   "cell_type": "markdown",
   "metadata": {},
   "source": [
    "A piece of code\n",
    "```\n",
    "%% Set cart-pendulum parameters\n",
    "m = 1;\n",
    "M = 5;\n",
    "L = 2;\n",
    "g = -10;\n",
    "d = 1;\n",
    "\n",
    "s = 1; % pendulum up (s=1)\n",
    "%% Base system Matrices\n",
    "F = [0 1 0 0;\n",
    "    0 -d/M -m*g/M 0;\n",
    "    0 0 0 1;\n",
    "    0 -s*d/(M*L) -s*(m+M)*g/(M*L) 0];\n",
    "\n",
    "G = [0; 1/M; 0; s*1/(M*L)];\n",
    "\n",
    "% Set cart-position\n",
    "H = [1 0 0 0; \n",
    "        0 0 1 0];  \n",
    "\n",
    "J = zeros(size(H,1),size(G,2))\n",
    "```"
   ]
  },
  {
   "cell_type": "markdown",
   "metadata": {},
   "source": [
    "The next step in the design process is to assume to have full-state feedback (i.e. that we can measure all four states), and find the vector $K$ which determines the feedback control law. This can be done in a number of ways. If it's known the desired closed-loop poles, it's possible to use the *place* or *acker* command. Another option is to use the *lqr* function; this will give you the optimal controller (under certain assumptions. The lqr function allows to choose two parameters, R and Q, which will balance the relative importance of the input and state in the cost function to optimize the trade-off. The simplest case is to assume R=1, and Q=H'*H. It's worthwhile to note that it's possible using both outputs (the pendulum's angle and the cart's position). Essentially, the lqr method allows to control both outputs. In this case, it is pretty easy to do. The controller can be tuned by changing the nonzero elements in the Q matrix to get a desirable response.\n",
    "To find the structure of Q it's possible use the matlab command:\n",
    "```\n",
    ">> H'*H\n",
    "\n",
    "ans =\n",
    "\n",
    "     1     0     0     0\n",
    "     0     0     0     0\n",
    "     0     0     1     0\n",
    "     0     0     0     0\n",
    "```\n",
    "The element in the 1,1 position will be used to weight the cart's position and the element in the 3,3 position will be used to weight the pendulum's angle. The input weighting R will remain at 1. Now that we know what the Q matrix should look like we can experiment to find the K matrix that will give a good controller. Then it's the time to find the K matrix and plot the response all in one step so that changes can be made in the control and be seen automatically in the response. Enter the following text into your m-file: \n",
    "```\n",
    "%% Linear Quadratic Regulator\n",
    "%% try different value of Q\n",
    "Q = [1 0 0 0;\n",
    "    0 0 0 0;\n",
    "    0 0 1 0;\n",
    "    0 0 0 0];\n",
    "R = 1;\n",
    "K = lqr(F,G,Q,R);  % design controller u = -K*x\n",
    "Ac = [(F-G*K)];\n",
    "Bc = [G];\n",
    "Cc = [H];\n",
    "Dc = [J];\n",
    "\n",
    "T=0:0.01:5;\n",
    "U=0.2*ones(size(T));\n",
    "[Y,X]=lsim(Ac,Bc,Cc,Dc,U,T);\n",
    "plot(T,Y)\n",
    "legend('Cart','Pendulum')\n",
    "```\n",
    "```\n",
    ">> K\n",
    "\n",
    "K =\n",
    "\n",
    "   -1.0000   -5.4325  153.2343   63.8985\n",
    "```"
   ]
  },
  {
   "cell_type": "markdown",
   "metadata": {},
   "source": [
    "|                                                    |\n",
    "|:--------------------------------------------------:|\n",
    "|![1stepresponse.png](images/1stepresponse.png)      |"
   ]
  },
  {
   "cell_type": "markdown",
   "metadata": {},
   "source": [
    "<p style=\"text-align:left\"><a name=\"fig22\">Fig. 22 </a> The curve in red represents the pendulum's angle, in radians and the curve in blue represents the cart's position in meters. As you can see, this plot is not satisfactory</p>"
   ]
  },
  {
   "cell_type": "markdown",
   "metadata": {},
   "source": [
    "As you can see, this plot is not satisfactory. The pendulum and cart's overshoot appear fine, but their settling times need improvement and the cart's rise time needs to go down. The cart is not near the desired location but has in fact moved in the other direction. This error will be dealt in the next section and right now the focus is on the settling and rise times. Increasing $Q_x$ makes the settling and rise times go down, and lowers the angle the pendulum moves. Using $Q_x=5000$ and $Q_{\\theta}=100$, the following value of K and step response were found: \n",
    "```\n",
    "%% Linear Quadratic Regulator\n",
    "%% try different value of Q\n",
    "Q = [5000 0 0 0;\n",
    "    0 0 0 0;\n",
    "    0 0 100 0;\n",
    "    0 0 0 0];\n",
    "R = 1;\n",
    "K = lqr(F,G,Q,R);  % design controller u = -K*x\n",
    "Ac = [(F-G*K)];\n",
    "Bc = [G];\n",
    "Cc = [H];\n",
    "Dc = [J];\n",
    "\n",
    "T=0:0.01:5;\n",
    "U=0.2*ones(size(T));\n",
    "[Y,X]=lsim(Ac,Bc,Cc,Dc,U,T);\n",
    "plot(T,Y)\n",
    "legend('Cart','Pendulum')\n",
    "\n",
    ">> K\n",
    "\n",
    "K =\n",
    "\n",
    "  -70.7107  -91.3062  636.5903  280.1483\n",
    "```"
   ]
  },
  {
   "cell_type": "markdown",
   "metadata": {},
   "source": [
    "|                                            |\n",
    "|:------------------------------------------:|\n",
    "|![2stepresponse.png](images/2stepresponse.png)|"
   ]
  },
  {
   "cell_type": "markdown",
   "metadata": {},
   "source": [
    "<p style=\"text-align:left\"><a name=\"fig23\">Fig. 23 </a> Raising $Q_x$ and $Q_{\\theta}$ imply more control effort and smaller tracking error</p>"
   ]
  },
  {
   "cell_type": "markdown",
   "metadata": {},
   "source": [
    "If it's increased $Q_x$ and $Q_{\\theta}$ even higher, it's possible to improve the response even more. This plot was chosen because it satisfied the design requirements while keeping x and y as small as possible. In this problem, $Q_x$ and $Q_{\\theta}$ have been used to describe the relative weight of the tracking error in the cart's position and pendulum's angle versus the control effort. The higher these 2 parameters are, the more control effort is used, but the smaller the tracking error. The system response has a settling time under 3 seconds."
   ]
  },
  {
   "cell_type": "markdown",
   "metadata": {},
   "source": [
    " In contrast to the other design methods, where it's feedback the output and compare it to the reference input to compute an error, with a full-state feedback controller it's feeding back all the states. It necessary to compute what the steady-state value of the states should be, multiply that by the chosen gain $K$, and use a new value as our reference for computing the input. This can be done by adding a constant gain $\\bar{N}$ after the reference. The schematic below shows this relationship: "
   ]
  },
  {
   "cell_type": "markdown",
   "metadata": {},
   "source": [
    "|             |\n",
    "|:-----------:|\n",
    "|![systemwithreference2.png](images/systemwithreference2.png)|"
   ]
  },
  {
   "cell_type": "markdown",
   "metadata": {},
   "source": [
    "<p style=\"text-align:center\"><a name=\"fig22\">Fig. 22 </a> Adding a gain in a reference input</p>"
   ]
  },
  {
   "cell_type": "markdown",
   "metadata": {},
   "source": [
    "Nbar can be found using the user-defined function rscale. A different H had to be used because the rscale function will not work for multiple outputs. However, the Nbar found is correct, as you can see from the output below:"
   ]
  },
  {
   "cell_type": "markdown",
   "metadata": {},
   "source": [
    "|         |\n",
    "|:-------:|\n",
    "|![3stepinput.png](images/3stepinput.png)|"
   ]
  },
  {
   "cell_type": "markdown",
   "metadata": {},
   "source": [
    "<p style=\"text-align:center\"><a name=\"fig23\">Fig. 23 </a> Step response with LQR and $\\bar{N}$ control</p>"
   ]
  },
  {
   "cell_type": "markdown",
   "metadata": {},
   "source": [
    "Here the matlab code:\n",
    "```\n",
    "%% Set augmented system\n",
    "Ac = [(F - G*K)];\n",
    "Bc = [G];\n",
    "Cc = [H];\n",
    "Dc = [J];\n",
    "\n",
    "%% Plot system with reference\n",
    "T=0:0.01:25;\n",
    "U=0.2*ones(size(T));\n",
    "[Y,X]=lsim(Ac,Bc,Cc,Dc,U,T);\n",
    "%plot(T,Y)\n",
    "%legend('Cart','Pendulum')\n",
    "\n",
    "\n",
    "%% Set gain reference\n",
    "Cn = [1 0 0 0];\n",
    "Nbar = rscale(F,G,Cn,0,K);\n",
    "Bcn = [Nbar*G];\n",
    "[Y,X] = lsim(Ac,Bcn,Cc,Dc,U,T);\n",
    "plot(T,Y)\n",
    "legend('Cart position','pendulum angle')\n",
    "```\n",
    "```\n",
    "function[Nbar]=rscale(A,B,C,D,K)\n",
    "\n",
    "s = size(A,1);\n",
    "Z = [zeros([1,s]) 1];\n",
    "N = inv([A,B;C,D])*Z';\n",
    "Nx = N(1:s);\n",
    "Nu = N(1+s);\n",
    "Nbar=Nu + K*Nx;\n",
    "```\n",
    "Note that rscale function implements the equation $\\eqref{eq:reference-input2}$ and $\\eqref{eq:reference-input1}$"
   ]
  },
  {
   "cell_type": "markdown",
   "metadata": {},
   "source": [
    "## Add an integrator in a feedback control for inverted pendulum. The state-space approach\n",
    "<a name=\"section_4_4\"></a>\n",
    "For the system:\n",
    "\\begin{align}\\label{eq:state-eq-control-integral}\n",
    "\\pmb{\\dot x} &= \\pmb F \\pmb x + \\pmb G u + \\pmb G_1 w \\\\\n",
    "y &= \\pmb H \\pmb x \\nonumber\n",
    "\\end{align}\n",
    "\n",
    "it's possible feed back the integral control, $e=y-r$, together the state of the plant $\\pmb x$, by augmenting the plant state with the extra integral state $x_I$ which respond to the differential equation:\n",
    "\\begin{equation}\\label{eq:integral-error}\n",
    "\\dot{x_I} = \\pmb H \\pmb x - r(=e), x_I = \\int_{}^{t}{e \\space d\\tau}\n",
    "\\end{equation}"
   ]
  },
  {
   "cell_type": "markdown",
   "metadata": {},
   "source": [
    "The augmented state equations become:\n",
    "\\begin{equation}\\label{eq:aug-state-eq}\n",
    "\\begin{bmatrix}\n",
    "\\dot x_I\\\\\n",
    "\\pmb{\\dot x}\n",
    "\\end{bmatrix}=\n",
    "\\begin{bmatrix}\n",
    "0 & \\pmb H\\\\\n",
    "\\mathbf{0} & \\pmb F\n",
    "\\end{bmatrix}\n",
    "\\begin{bmatrix}\n",
    "x_I\\\\\n",
    "\\pmb x\n",
    "\\end{bmatrix}+\n",
    "\\begin{bmatrix}\n",
    "0\\\\\n",
    "\\pmb G\n",
    "\\end{bmatrix}u -\n",
    "\\begin{bmatrix}\n",
    "1\\\\\n",
    "\\mathbf{0}\n",
    "\\end{bmatrix} r +\n",
    "\\begin{bmatrix}\n",
    "0\\\\\n",
    "\\pmb{G}_1\n",
    "\\end{bmatrix} w\n",
    "\\end{equation}"
   ]
  },
  {
   "cell_type": "markdown",
   "metadata": {},
   "source": [
    "and the feedback law is:\n",
    "\\begin{equation}\\label{eq:feedback-law}\n",
    "u = - \\begin{bmatrix}\n",
    "K_I & \\pmb K_0\n",
    "\\end{bmatrix}\n",
    "\\begin{bmatrix}\n",
    "x_I\\\\\n",
    "\\pmb x\n",
    "\\end{bmatrix}\n",
    "\\end{equation}"
   ]
  },
  {
   "cell_type": "markdown",
   "metadata": {},
   "source": [
    "The problem is traced back to a LQR system."
   ]
  },
  {
   "cell_type": "markdown",
   "metadata": {},
   "source": [
    "|           |\n",
    "|:---------:|\n",
    "|![simulink-integral-control.png](images/simulink-integral-control.png)|"
   ]
  },
  {
   "cell_type": "markdown",
   "metadata": {},
   "source": [
    "<p style=\"text-align:center\"><a name=\"fig25\">Fig. 25 </a> Simulink for integral control with reference</p>"
   ]
  },
  {
   "cell_type": "markdown",
   "metadata": {},
   "source": [
    "Building a simulation via *simulink* means recover the LQR part plus the feedback with reference, an integral control plus a random number generator to create the disturbance over the *u* line. In particular the system is under a unit step reference that cart pendulum position \"x\" has to follow.\n",
    "The matlab code follow the LQR part for the augmented system:\n",
    "```\n",
    "clear all, close all, clc\n",
    "\n",
    "%% Set cart-pendulum parameters\n",
    "m = 1;\n",
    "M = 5;\n",
    "L = 2;\n",
    "g = -10;\n",
    "d = 1;\n",
    "\n",
    "s = 1; % pendulum up (s=1)\n",
    "%% Base system Matrices\n",
    "F = [0 1 0 0;\n",
    "    0 -d/M -m*g/M 0;\n",
    "    0 0 0 1;\n",
    "    0 -s*d/(M*L) -s*(m+M)*g/(M*L) 0];\n",
    "\n",
    "G = [0; 1/M; 0; s*1/(M*L)];\n",
    "\n",
    "% Set cart-position and pendulum angle\n",
    "H = [1 0 0 0]\n",
    "        \n",
    "\n",
    "J = zeros(size(H,1),size(G,2));\n",
    "\n",
    "%% Integral control augmented system\n",
    "Fa = [0 H;0 F(1,:);0 F(2,:);0 F(3,:);0 F(4,:)];\n",
    "Ga = [0; G];\n",
    "R = 0.0001;\n",
    "K = lqr(Fa,Ga,eye(5),R);\n",
    "```\n",
    "printing K via command line\n",
    "\n",
    "```\n",
    ">> K\n",
    "\n",
    "K =\n",
    "\n",
    "   1.0e+03 *\n",
    "\n",
    "   -0.1000   -0.2696   -0.3145    2.0341    0.9096\n",
    "```"
   ]
  },
  {
   "cell_type": "markdown",
   "metadata": {},
   "source": [
    "The K values are inserted in the Simulink block."
   ]
  },
  {
   "cell_type": "markdown",
   "metadata": {},
   "source": [
    "Here the graphs of simulation:"
   ]
  },
  {
   "cell_type": "markdown",
   "metadata": {},
   "source": [
    "|         |\n",
    "|:-------:|\n",
    "|![integral-control-with-reference.png](images/integral-control-with-reference.png)|"
   ]
  },
  {
   "cell_type": "markdown",
   "metadata": {},
   "source": [
    "<p style=\"text-align:left\"><a name=\"fig26\">Fig. 26 </a>As noted $\\theta=\\pi$ when pendulum is in \"up\" unstable position. The feed back reject the disturbance and the cart tracks the step reference starting at time $t=10$ seconds </p>"
   ]
  }
 ],
 "metadata": {
  "hide_input": false,
  "kernelspec": {
   "display_name": "Python 3 (ipykernel)",
   "language": "python",
   "name": "python3"
  },
  "language_info": {
   "codemirror_mode": {
    "name": "ipython",
    "version": 3
   },
   "file_extension": ".py",
   "mimetype": "text/x-python",
   "name": "python",
   "nbconvert_exporter": "python",
   "pygments_lexer": "ipython3",
   "version": "3.7.3"
  },
  "latex_envs": {
   "LaTeX_envs_menu_present": true,
   "autoclose": true,
   "autocomplete": true,
   "bibliofile": "biblio.bib",
   "cite_by": "apalike",
   "current_citInitial": 1,
   "eqLabelWithNumbers": true,
   "eqNumInitial": 1,
   "hotkeys": {
    "equation": "Ctrl-E",
    "itemize": "Ctrl-I"
   },
   "labels_anchors": false,
   "latex_user_defs": false,
   "report_style_numbering": false,
   "user_envs_cfg": false
  },
  "toc": {
   "base_numbering": 1,
   "nav_menu": {},
   "number_sections": true,
   "sideBar": true,
   "skip_h1_title": false,
   "title_cell": "Table of Contents",
   "title_sidebar": "Contents",
   "toc_cell": false,
   "toc_position": {},
   "toc_section_display": true,
   "toc_window_display": false
  }
 },
 "nbformat": 4,
 "nbformat_minor": 2
}
