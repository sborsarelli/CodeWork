{
 "cells": [
  {
   "cell_type": "markdown",
   "metadata": {},
   "source": [
    "# Reference input and robust tracking control with state-variables\n",
    "<a name=\"#chapter4\"></a>\n",
    "It's time to add a reference input in the feedback system. Once again, by state-variables method it will shown how the use of gain block is suited to get best performance when a unit step is in input.\n",
    "The choice of a reference gain will result in zero steady-state error to a step command, but it won't be robust because any change in the plant parameters will cause the error to be nonzero. To obtain robust control it's needed to use integral block.  In the state-space design methods till now, no mention has been made of integral control and no design examples have produces a compensation containing an integral term. After the reference topic it's going to introduce a general method for robust tracking that will present the internal model principle, which solve an entire class of tracking problems and disturbance rejection controls.     \n",
    "\n",
    "## Introducing a reference input with full state feedback\n",
    "<a name=\"#section_4_1\"></a>\n",
    "\n",
    "In order to study the transient response of the pole placement designs to input commands, it's necessary to introduce the reference input into the system. An obvious way to do this is to change the control to $u = -\\pmb K \\pmb x + r$. However, the system will now almost surely have a non zero steady-state error to a step input.\n",
    "If the desired final values of the state and the control input are $\\pmb x_{ss}$ and $u_{ss}$ respectively, then the new control formula should be "
   ]
  },
  {
   "cell_type": "markdown",
   "metadata": {},
   "source": [
    "\\begin{equation}\n",
    "u = u_{ss} - \\pmb K(\\pmb x - \\pmb x_{ss})\n",
    "\\label{eq:u-steady-state}\n",
    "\\end{equation}"
   ]
  },
  {
   "cell_type": "markdown",
   "metadata": {},
   "source": [
    "so that when $\\pmb x = \\pmb x_{ss}$ (no error), $u = u_{ss}$. To pick the correct final values, we must solve the equations so that the system will have zero steady-state error to any constant input. The system differential equations are defined by $\\eqref{eq:stat-form}$ and $\\eqref{eq:output}$; in the constant steady state they are reduced to the pair:\n",
    "\n",
    "\n",
    "\\begin{align}\n",
    "\\mathbf{0} &= \\pmb F \\pmb x_{ss} + \\pmb G u_{ss}\\\\\n",
    "y_{ss} &= \\pmb H \\pmb x_{ss} + J u_{ss}\n",
    "\\label{eq:ss-equations}\n",
    "\\end{align}\n",
    "\n",
    "\n",
    "\n",
    "\n"
   ]
  },
  {
   "cell_type": "markdown",
   "metadata": {},
   "source": [
    "We want to solve for values for which $y_{ss} = r_{ss}$. To do this, we make $\\pmb{x_{ss}} = \\pmb N_x r_{ss}$ and ${u_{ss}} = N_u r_{ss}$. With these substitution it turns out a matrix equation solvable for $\\pmb N_x$ and $N_u$. Putting the result in $\\eqref{eq:u-steady-state}$, it's obtained"
   ]
  },
  {
   "cell_type": "markdown",
   "metadata": {},
   "source": [
    "\\begin{equation}\n",
    "u =  N_u - \\pmb K(\\pmb x - \\pmb N_x r) = -\\pmb K \\pmb x + (N_u + \\pmb K \\pmb N_x)r\n",
    "\\label{eq:reference-input1}\n",
    "\\end{equation}"
   ]
  },
  {
   "cell_type": "markdown",
   "metadata": {},
   "source": [
    "The coefficient of r in parentheses is a constant that can be computed beforehand. We give it the symbol $\\bar{N}$ so\n",
    "\n",
    "\\begin{equation}\n",
    "u = -\\pmb K \\pmb x + \\bar N r\n",
    "\\label{eq:reference-input2}\n",
    "\\end{equation}"
   ]
  },
  {
   "cell_type": "markdown",
   "metadata": {},
   "source": [
    "With the reference input in place, the close loop system has input $r$ and output $y$. From the state description we know that the system poles are at the eigenvalues of the close loop system matrix $\\pmb{F-GK}$. In order to compute the close loop transient response, it's necessary to know where the close loop zeros of the transfer function from r to y are.They are to be found applying $\\eqref{eq:zerodet}$ to the close loop description, which it's assumed don't have direct path from input $u$ to output $y$, so that $J=0$. The zeros are values of $s$ such that \n",
    "\n",
    "\\begin{equation}\n",
    "det\\begin{bmatrix}\n",
    "s\\pmb I - (\\pmb F - \\pmb G \\pmb K) & -\\bar N \\pmb G\\\\\n",
    "\\pmb H & 0\n",
    "\\end{bmatrix} = 0\n",
    "\\label{eq:zeros}\n",
    "\\end{equation}"
   ]
  },
  {
   "cell_type": "markdown",
   "metadata": {},
   "source": [
    "It's possible assume two elementary facts about determinants to simplify $\\eqref{eq:zeros}$: in the first place if we divide the last column by $\\bar N$, then the point where the determinant is zero remains unchanged. The second is that the determinant also not change if it's multiplied the last column by $\\pmb K$ and add it to the first block column; the result is that the $\\pmb{GK}$ term is canceled out. Thus the matrix equation for zeros reduces to\n",
    "\n",
    "\\begin{equation}\n",
    "det\\begin{bmatrix}\n",
    "s\\pmb I - \\pmb F & -\\pmb G\\\\\n",
    "\\pmb H & 0\n",
    "\\end{bmatrix} = 0\n",
    "\\label{eq:zeros-simplified}\n",
    "\\end{equation}\n",
    "\n",
    "The above equation is the same as $\\eqref{eq:zerodet}$ for the zeros of the plant *before* the feedback was applied. The important conclusion is:\n",
    "\n",
    "<p style=\"font-weight:bold;padding:35px;background-color:azure;text-align:center\"> When full-state feedback is used as in $\\eqref{eq:reference-input1}$ or $\\eqref{eq:reference-input2}$, the zeros remain unchanged by the feedback</p>"
   ]
  },
  {
   "cell_type": "markdown",
   "metadata": {},
   "source": [
    "## Robust Tracking Control: The error space Approach\n",
    "<a name=\"section_4_3\"></a>\n",
    "\n",
    "The problem of tracking $r$ and rejecting the disturbance can be seen as an exercise in design a control law to provide *regulation of the error*, which is to say that the error $e$ tends to zero as time gets large. The control must also be **structurally stable** or **robust**, in the sense that regulation of $e$ to zero in the steady-state occurs even in the presence of \"small\" perturbations of the original system parameters. Note that, in practice, it's impossible to have a perfect model of the plant, and the values of parameters are virtually always subject to some change, so robustness is always very important.\n",
    "\n",
    "Suppose we have a system equations"
   ]
  },
  {
   "cell_type": "markdown",
   "metadata": {},
   "source": [
    "\\begin{align}\n",
    "\\dot{\\pmb x} &= \\pmb{Fx} + \\pmb G u + \\pmb G_1 w \\label{eq:state-system} \\\\\n",
    "y &= \\pmb H \\pmb x \\label{eq:output-system}\n",
    "\\end{align}"
   ]
  },
  {
   "cell_type": "markdown",
   "metadata": {},
   "source": [
    "and a reference signal that is known to satisfy a specific differential equation. Plant disturbances of the same class may also be present. The goal is to design a controller for this system so that the close-loop system will have specified poles, and can also track input command signals, and reject disturbances of the type described without steady-state error. A solution is developed only for second order differential equation. Let's define the reference input to satisfy the relation "
   ]
  },
  {
   "cell_type": "markdown",
   "metadata": {},
   "source": [
    "\\begin{equation}\\label{eq:eq-input}\n",
    "\\ddot r + \\alpha_1 \\dot r + \\alpha_2 r = 0\n",
    "\\end{equation}"
   ]
  },
  {
   "cell_type": "markdown",
   "metadata": {},
   "source": [
    "and the disturbance to satisfy exactly the same equation:\n",
    "\\begin{equation}\\label{eq:eq-disturbance}\n",
    "\\ddot w +\\alpha_1 \\dot w +\\alpha_2 w = 0\n",
    "\\end{equation}\n"
   ]
  },
  {
   "cell_type": "markdown",
   "metadata": {},
   "source": [
    "Defining the tracking error as $e = y - r$, enclosing the second order equations for $\\pmb x$ and $\\pmb u$ in two new variables $\\xi$ and $\\mu$, it's possible to write new standard state variable equation into the state-space error:"
   ]
  },
  {
   "cell_type": "markdown",
   "metadata": {},
   "source": [
    "\\begin{equation}\\label{eq:state-z}\n",
    "\\pmb{\\dot z} = \\pmb A \\pmb z + \\pmb B \\mu\n",
    "\\end{equation}"
   ]
  },
  {
   "cell_type": "markdown",
   "metadata": {},
   "source": [
    "where $\\pmb z = \\begin{bmatrix}e & \\dot e & \\xi^T \\end{bmatrix}^{T}$ and :"
   ]
  },
  {
   "cell_type": "markdown",
   "metadata": {},
   "source": [
    "\\begin{equation}\\label{eq:matrices}\n",
    "\\pmb A = \\begin{bmatrix}\n",
    "0 & 1 & \\mathbf{0}\\\\\n",
    "-\\alpha_2 & -\\alpha_1 & \\pmb H\\\\\n",
    "\\mathbf{0} & \\mathbf{0} & \\pmb F\n",
    "\\end{bmatrix}, \\pmb B = \\begin{bmatrix}\n",
    "0\\\\\n",
    "0\\\\\n",
    "\\pmb G\n",
    "\\end{bmatrix}\n",
    "\\end{equation}"
   ]
  },
  {
   "cell_type": "markdown",
   "metadata": {},
   "source": [
    "Having back the system into a canonical form it may be asked about the controllability. It turns out that the plant $(\\pmb F, \\pmb G)$ is controllable and does not have a zero at any of the roots of the reference-signal characteristic equation\n",
    "\n",
    "\\begin{equation}\\label{eq:reference-signal-ch-eq}\n",
    "\\alpha_r(s) = s^2 + \\alpha_1 s + \\alpha_2 \n",
    "\\end{equation}\n",
    "\n",
    "then the error system $(\\pmb A, \\pmb B)$ is controllable.\n",
    "Assuming these conditions hold, there exist a control law of the form\n",
    "\n",
    "\\begin{equation}\\label{eq:control-error-law}\n",
    "\\mu = -\\begin{bmatrix} K_2 & K_1 & \\pmb K_0 \\end{bmatrix} \\begin{bmatrix}e\\\\ \\dot e\\\\ \\xi \\end{bmatrix}=-\\pmb{Kz}\n",
    "\\end{equation}\n",
    "\n",
    "such that the error system has arbitrary dynamics by pole placement."
   ]
  },
  {
   "cell_type": "markdown",
   "metadata": {},
   "source": [
    "Combining the equations $\\eqref{eq:control-error-law}$, with $\\pmb x$ and $u$ used from the variables $\\xi$ and $\\mu$, in order to get the control law in term of $u$ and $\\pmb x$ and noting that $\\dot r = 0$ the equation becomes:"
   ]
  },
  {
   "cell_type": "markdown",
   "metadata": {},
   "source": [
    "\\begin{equation}\\label{eq:PI-diff-eq}\n",
    "\\dot u + \\pmb K_0 \\dot{\\pmb x} = -K_1e\n",
    "\\end{equation}"
   ]
  },
  {
   "cell_type": "markdown",
   "metadata": {},
   "source": [
    "Integrating for u revealing the control law and the action of integral control:\n",
    "\\begin{equation}\\label{eq:integral-control}\n",
    "u=-K_1 \\int_{}^{t}{e d\\tau} - \\pmb K_0\\pmb x\n",
    "\\end{equation}"
   ]
  },
  {
   "cell_type": "markdown",
   "metadata": {},
   "source": [
    "A block diagram of the system is shown below; in the forward controller is possible to see the presence of a pure integrator."
   ]
  },
  {
   "cell_type": "markdown",
   "metadata": {},
   "source": [
    "|      |\n",
    "|:----:|\n",
    "|![integral-control.png](images/integral-control.png)|"
   ]
  },
  {
   "cell_type": "markdown",
   "metadata": {},
   "source": [
    "<p style=\"text-align:center\"><a name=\"fig10\">Fig. 10 </a> Reference with integral control</p>"
   ]
  },
  {
   "cell_type": "markdown",
   "metadata": {},
   "source": [
    "From the nature of the pole placement problem, the state $\\pmb z$ in Eq.$\\eqref{eq:state-z}$ will tend toward zero for all perturbations in the system parameters as long as $\\pmb{A-BK}$ remains stable. It's clear that the signals rejected are those satisfy the equations with values $\\alpha_i$ implemented in the model. Error values means a steady state error also. "
   ]
  }
 ],
 "metadata": {
  "hide_input": false,
  "kernelspec": {
   "display_name": "Python 3 (ipykernel)",
   "language": "python",
   "name": "python3"
  },
  "language_info": {
   "codemirror_mode": {
    "name": "ipython",
    "version": 3
   },
   "file_extension": ".py",
   "mimetype": "text/x-python",
   "name": "python",
   "nbconvert_exporter": "python",
   "pygments_lexer": "ipython3",
   "version": "3.7.3"
  },
  "latex_envs": {
   "LaTeX_envs_menu_present": true,
   "autoclose": false,
   "autocomplete": true,
   "bibliofile": "biblio.bib",
   "cite_by": "apalike",
   "current_citInitial": 1,
   "eqLabelWithNumbers": true,
   "eqNumInitial": 1,
   "hotkeys": {
    "equation": "Ctrl-E",
    "itemize": "Ctrl-I"
   },
   "labels_anchors": false,
   "latex_user_defs": false,
   "report_style_numbering": false,
   "user_envs_cfg": false
  },
  "nbTranslate": {
   "displayLangs": [
    "*"
   ],
   "hotkey": "alt-t",
   "langInMainMenu": true,
   "sourceLang": "en",
   "targetLang": "fr",
   "useGoogleTranslate": true
  },
  "toc": {
   "base_numbering": 1,
   "nav_menu": {},
   "number_sections": true,
   "sideBar": true,
   "skip_h1_title": false,
   "title_cell": "Table of Contents",
   "title_sidebar": "Contents",
   "toc_cell": false,
   "toc_position": {},
   "toc_section_display": true,
   "toc_window_display": false
  }
 },
 "nbformat": 4,
 "nbformat_minor": 2
}
