{
 "cells": [
  {
   "cell_type": "markdown",
   "metadata": {},
   "source": [
    "# Control-law design for full-state feedback\n",
    "\n",
    "The purpose of the control law is to allow the designer to assign as set of poles locations for the close-loop system that will correspond to satisfactory dynamic response in term of rise time and other measures of transient response. It's assumed for feedback purpose that all the elements of the state vector are at our disposal. In practice this assumption is ridiculous because it's known from design methods that rarely there are so many sensors. The assumption that all the state variables are available allows to proceed with this first step. When there will be introduced the reference in the system control, it will be used again in didactic purpose to shown the finality of tracking it, but the results will be almost identical by introducing noise inside the system to approach the reality. "
   ]
  },
  {
   "cell_type": "markdown",
   "metadata": {},
   "source": [
    "## Finding the control law\n",
    "\n",
    "How does it change the state equation when the system is inside a control loop? Below it's show the figure of a design block scheme:"
   ]
  },
  {
   "cell_type": "markdown",
   "metadata": {},
   "source": [
    "|          | \n",
    "|:----------:|\n",
    "|![control law\\label{controllaw}](images/control-law.png)|"
   ]
  },
  {
   "cell_type": "markdown",
   "metadata": {},
   "source": [
    "<p style=\"text-alignment=left;\"><a name=\"fig7\">Fig. 7</a> - Assumed system for control law design</p>"
   ]
  },
  {
   "cell_type": "markdown",
   "metadata": {},
   "source": [
    "\\begin{equation}\n",
    "u = -\\pmb{Kx} = \\begin{bmatrix}K_1 & K_2 & ... K_n \\end{bmatrix} \\begin{bmatrix} x_1 \\\\ x2 \\\\ . \\\\.\\\\.\\\\x_n\\end{bmatrix} \\label{eq:K} \n",
    "\\end{equation}"
   ]
  },
  {
   "cell_type": "markdown",
   "metadata": {},
   "source": [
    "Equation $\\eqref{eq:K}$ tell us that the system has a constant matrix in the state-vector feedback path gains, $K1,K2,....K_n$, and because there are n roots of the system, it's possible that there are enough degree of freedom to select arbitrarily and desired root location by choosing the proper value of $K_i$. Substituting the feedback law given in $\\eqref{eq:K}$ into the system described by $\\eqref{eq:stat-form}$ yields:  "
   ]
  },
  {
   "cell_type": "markdown",
   "metadata": {},
   "source": [
    "\\begin{equation}\n",
    "\\dot{\\pmb{x}} = \\pmb{Fx - GKx} = (\\pmb{F - GK}) \\pmb x\n",
    "\\end{equation}"
   ]
  },
  {
   "cell_type": "markdown",
   "metadata": {},
   "source": [
    "It turns out an eigenvalues problem that it can be solved if and only if "
   ]
  },
  {
   "cell_type": "markdown",
   "metadata": {},
   "source": [
    "\\begin{equation}\n",
    "det[s \\pmb I - (\\pmb{F-GK})] = 0 \\label{eq:dete} \n",
    "\\end{equation}"
   ]
  },
  {
   "cell_type": "markdown",
   "metadata": {},
   "source": [
    "When evaluate, this yield an nth order polynomial in s containing the gains **K** so the roots of $\\eqref{eq:dete}$ are in the *desirable* locations. We assume that desired locations are known, say,"
   ]
  },
  {
   "cell_type": "markdown",
   "metadata": {},
   "source": [
    "\\begin{equation}s=s_1,s_2,....,s_n\\end{equation}"
   ]
  },
  {
   "cell_type": "markdown",
   "metadata": {},
   "source": [
    "Then the corresponding desired (control) characteristic equation is"
   ]
  },
  {
   "cell_type": "markdown",
   "metadata": {},
   "source": [
    "\\begin{equation}\n",
    "\\alpha_c(s) = (s-s_1)(s-s2)....(s-s_n) = 0 \\label{eq:alpha} \n",
    "\\end{equation}"
   ]
  },
  {
   "cell_type": "markdown",
   "metadata": {},
   "source": [
    "Hence the required elements of **K** are obtained by matching coefficients $\\eqref{eq:dete}$ and $\\eqref{eq:alpha}$ ,forcing the systems's characteristic equation to be identical to the desired characteristic equation and the closed loop poles at the desired locations.\n",
    "\n",
    "Calculating the gains by using this technique becomes rather tedious when the order of the system is higher than 3. However there is an alternative to this method called **Ackerman's formula** divided in three steps process of converting to $(\\pmb F_c \\pmb G_c)$ solving for the gains, and converting back again into the very compact form:  "
   ]
  },
  {
   "cell_type": "markdown",
   "metadata": {},
   "source": [
    "\\begin{equation}\n",
    "\\pmb K = [0,0,.....0,1]{\\mathcal{C}}^{-1} \\alpha_c({\\pmb F})\n",
    "\\end{equation}"
   ]
  },
  {
   "cell_type": "markdown",
   "metadata": {},
   "source": [
    "where $\\mathcal C$ is the controllability matrix in $\\eqref{eq:C}$, n gives the order of the system and the dimension of the state variables and : "
   ]
  },
  {
   "cell_type": "markdown",
   "metadata": {},
   "source": [
    "\\begin{equation}\n",
    "\\alpha_c (\\pmb F) = \\pmb F^n + \\alpha_1 \\pmb F^{n-1} + ..... + \\alpha_n \\pmb I\n",
    "\\end{equation}"
   ]
  },
  {
   "cell_type": "markdown",
   "metadata": {},
   "source": [
    "where the $\\alpha_i$ are the coefficient corresponding to the desired poles locations."
   ]
  },
  {
   "cell_type": "markdown",
   "metadata": {},
   "source": [
    "## How to select pole locations for a good design\n",
    "As shown before, when selecting pole location it is always useful to keep in mind that control effort required is related to how far the open loop poles are moved by the feedback. Furthermore, when a zero is near a pole, the system may be nearly uncontrollable. The designer philosophy will take in account to fix only the undesirable aspects of the open loop response and avoids either large increases bandwidth or efforts to move poles that are near zeros will typically allow smaller gains, and thus smaller controls actuators.\n",
    "There are 2 main ways to overcome the problem. First deals dominant second order poles, second is Linear Quadratic Regulator; in this paper it will be show the second because more suited with state variables in feedback controls for higher dimension, for further reading <cite data-cite=\"franklin2015feedback\"></cite> explains a technique with dominant second order."
   ]
  },
  {
   "cell_type": "markdown",
   "metadata": {},
   "source": [
    "### Linear quadratic regulator\n",
    "\n",
    "We have seen in the previous sections that if $(F, G)$ is controllable, then it is possible to arbitrarily manipulate the eigenvalues of the closed-loop system $(\\pmb{F − GK})$ through the choice of a full-state feedback control law $u = −\\pmb{Kx}$. This implicitly assumes that full-state measurements are available (i.e., $H = I$ and $J = 0$, so that $\\pmb y = \\pmb x$). Given a controllable system, and either measurements of the full-state or an observable system with a full-state estimate, there are many choices of stabilizing control laws $u = −\\pmb{Kx}$. It is possible to make the eigenvalues of the closed-loop system ($\\pmb F − \\pmb{GK})$ arbitrarily stable, placing them as far as desired in the left-half of the complex plane. However, overly stable eigenvalues may require exceedingly expensive control expenditure and might also result in actuation signals that exceed maximum allowable values. Choosing very stable eigenvalues may also cause the control system to over-react to noise and disturbances, much as a new driver will over-react to vibrations in the steering wheel, causing the closed-loop system to jitter. Over stabilization can counter-intuitively degrade robustness and may lead to instability if there are small time delays or unmodeled dynamics. Choosing the best gain matrix $\\pmb K$ to stabilize the system without expending too much control effort is an important goal in optimal control. A balance must be struck between the stability of the closed-loop system and the aggressiveness of control. It is important to take control expenditure into account:\n",
    "\n",
    " 1. to prevent the controller from over-reacting to high-frequency noise and disturbances\n",
    " 2. that actuation does not exceed maximum allowed amplitudes\n",
    " 3. that control is not prohibitively expensive. \n",
    "\n",
    "In particular, the cost function"
   ]
  },
  {
   "cell_type": "markdown",
   "metadata": {},
   "source": [
    "\\begin{equation}\n",
    "J(t) = \\int\\limits_{0}^{t} {\\pmb x(\\tau)^* \\pmb Q x(\\tau) + \\pmb u(\\tau)^* \\pmb R u(\\tau) d\\tau}\n",
    "\\label{eq:costfunc} \n",
    "\\end{equation}"
   ]
  },
  {
   "cell_type": "markdown",
   "metadata": {},
   "source": [
    "balances the cost of effective regulation of the state with the cost of control. The matrices **Q** and **R** weight the cost of deviations of the state from zero and the cost of actuation, respectively. The matrix **Q** is positive semi-definite, and **R** is positive definite; these matrices are often diagonal, and the diagonal elements may be tuned to change the relative importance of the control objectives.\n",
    "Adding such a cost function makes choosing the control law a well-posed optimization problem. The linear-quadratic-regulator (LQR) control law $u = −\\pmb K_r \\pmb x$ is designed to minimize $J = \\lim\\limits_{t \\to \\infty}{J(t)}$. LQR is so-named because it is a linear control law, designed for a linear system, minimizing a quadratic cost function, that regulates the state of the system to $J = \\lim\\limits_{t \\to \\infty}{\\pmb x(t) = \\pmb 0}$. Because the cost-function in $\\eqref{eq:costfunc}$ is quadratic, there is an analytical solution for the optimal controller gains $K_r$ , given by"
   ]
  },
  {
   "cell_type": "markdown",
   "metadata": {},
   "source": [
    "\\begin{equation}\n",
    "    \\pmb K_r = \\pmb R^{-1} \\pmb G^* \\pmb X\n",
    "\\end{equation}"
   ]
  },
  {
   "cell_type": "markdown",
   "metadata": {},
   "source": [
    "where $\\pmb X$ is the solution to an algebraic Riccati equation:"
   ]
  },
  {
   "cell_type": "markdown",
   "metadata": {},
   "source": [
    "\\begin{equation}\n",
    "    \\pmb{F^*X + XF - XGR^{-1}G^*X + Q} = \\pmb 0\n",
    "\\end{equation}"
   ]
  }
 ],
 "metadata": {
  "hide_input": false,
  "kernelspec": {
   "display_name": "Python 3",
   "language": "python",
   "name": "python3"
  },
  "language_info": {
   "codemirror_mode": {
    "name": "ipython",
    "version": 3
   },
   "file_extension": ".py",
   "mimetype": "text/x-python",
   "name": "python",
   "nbconvert_exporter": "python",
   "pygments_lexer": "ipython3",
   "version": "3.7.3"
  },
  "latex_envs": {
   "LaTeX_envs_menu_present": true,
   "autoclose": false,
   "autocomplete": true,
   "bibliofile": "biblio.bib",
   "cite_by": "apalike",
   "current_citInitial": 1,
   "eqLabelWithNumbers": true,
   "eqNumInitial": 1,
   "hotkeys": {
    "equation": "Ctrl-E",
    "itemize": "Ctrl-I"
   },
   "labels_anchors": false,
   "latex_user_defs": false,
   "report_style_numbering": false,
   "user_envs_cfg": false
  },
  "nbTranslate": {
   "displayLangs": [
    "*"
   ],
   "hotkey": "alt-t",
   "langInMainMenu": true,
   "sourceLang": "en",
   "targetLang": "fr",
   "useGoogleTranslate": true
  },
  "toc": {
   "base_numbering": 1,
   "nav_menu": {},
   "number_sections": true,
   "sideBar": true,
   "skip_h1_title": false,
   "title_cell": "Table of Contents",
   "title_sidebar": "Contents",
   "toc_cell": false,
   "toc_position": {},
   "toc_section_display": true,
   "toc_window_display": false
  }
 },
 "nbformat": 4,
 "nbformat_minor": 2
}
