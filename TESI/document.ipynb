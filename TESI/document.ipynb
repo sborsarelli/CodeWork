{
 "cells": [
  {
   "cell_type": "markdown",
   "metadata": {},
   "source": [
    "# Preliminary fundamentals\n",
    "\n",
    "A state variable is one of the set of variables that are used to describe the mathematical *state* of a dynamical system. Intuitively, the state of a system describes enough about the system to determine its future behaviour in the absence of any external forces affecting the system. Models that consist of coupled first-order differential equations are said to be in state-variable form.\n",
    "There are some examples where state variables are used:\n",
    " - In mechanical systems, the position coordinates and velocities of mechanical parts are typical state variables\n",
    " - In thermodynamics, a state variable is an independent variable of a state function like internal energy, enthalpy, and entropy.\n",
    " - In electronic/electrical circuits, the voltages of the nodes and the currents through components in the circuit are usually the state variables.\n",
    " - In ecosystem models, population sizes (or concentrations) of plants, animals, and resources (nutrients, organic material) are typical state variables.\n",
    " - In pandemic models, restrictions(i.e. masks, lock-down, vaxines), percentage of cases, number of hospital beds, are used like state variables to create a control system.  \n",
    "\n",
    "In particular of last point feedbacks are part of Control Engineering (or control systems engineering), a discipline that deals with control systems, applying control theory to design equipment and systems with desired behaviors in control environments. The practice uses sensors and detectors to measure the output performance of the process being controlled; these measurements are used to provide corrective feedback helping to achieve the desired performance. Systems designed to perform without requiring human input are called automatic control systems (such as cruise control for regulating the speed of a car). Multi-disciplinary in nature, control systems engineering activities focus on implementation of control systems mainly derived by mathematical modeling of a diverse range of systems. \n",
    "There are two major divisions in control theory, namely, classical and modern, which have direct implications for the control engineering applications:\n",
    " - **Classical SISO System Design**. The scope of classical control theory is limited to single-input and single-output system design, except when analyzing for disturbance rejection using a second input. The system analysis is carried out in the time domain using differential equations, in the complex-s domain with the Laplace transform, or in the frequency domain by transforming from the complex-s domain. Many systems may be assumed to have a second order and single variable system response in the time domain. The most common controllers designed using classical control theory are PID controllers. The ultimate end goal is to meet requirements typically provided in the time-domain called the step response, or at times in the frequency domain called the open-loop response. The step response characteristics applied in a specification are typically percent overshoot, settling time, etc. \n",
    " - **Modern MIMO system Design**. Modern control theory is carried out in the state space, and can deal with multiple-input and multiple-output (MIMO) systems. This overcomes the limitations of classical control theory in more sophisticated design problems, such as fighter aircraft control, with the limitation that no frequency domain analysis is possible. In modern design, a system is represented to the greatest advantage as a set of decoupled first order differential equations defined using state variables. Nonlinear, multivariable, adaptive and robust control theories come under this division.\n",
    "\n",
    "In state-space design, the control engineer designs a dynamic compensation by working directly  with the state-variable description of the system.\n",
    "Because it is particularly well suited to the use of the computer techniques, state-space design is increasingly studied and used today by control engineers.\n",
    "\n",
    "The discussion of this paper starts from describing a dynamic system through an example passing to the state variable model, then the focus passes to the development of a state-variable equations and studying its block diagrams. Next steps are the way follow for a designer of feedback control:\n",
    " 1. Select closed-loop pole and develop the control law of the closed-loop system to satisfactory dynamics response.\n",
    " 2. Design an estimator\n",
    " 3. Combine the control law and the estimator\n",
    " 4. Introduce a reference input\n",
    "\n",
    "In a way to describe the goals of feedbacks:\n",
    " - obtain stability by the design\n",
    " - reduce the uncertainity by the compensation\n",
    " - resolve the disturbance also known as rejection\n",
    " - attenuating the sensor noise \n",
    " \n",
    "The main idea of state space comes of describing differential equations in a different method. By this way the dynamic is organized as a set of first order differential equations transformed in a vector-valued state of the system and the solution is visualized as a trajectory of this state vector space. State space control design is the technique in which the control engineer designs a dynamic compensation by working directly with the state variable description of the system.\n",
    "\n",
    "There are several reason for studying equations in this form:\n",
    "\n",
    " - To study more general models: The ODE do not have to be linear or stationary\n",
    " - To introduce the ideas of geometry into differential equations: in physics the plane of position versus velocity of a particle is called the phase plane and the trajectory of the motion can be plotted as a curve in this plane. The main idea is to include inside the state more than two dimensions.\n",
    " - To connect internal and external description: the state of dynamics system often directly describes the distribution of internal energy in the system. The internal energy can always be computed from the state variables. In contrast, the transfer function relates only the input to the output and does not show the internal behavior \n",
    " - Advantage of state space design are especially apparent when the system to be controlled has more than one control input or more than one sensed output (MIMO system).\n"
   ]
  },
  {
   "cell_type": "markdown",
   "metadata": {},
   "source": [
    "## System description with state-variables in the State Space\n",
    "The motion of any finite dynamic system can be expressed as a set of first order ordinary differential equations. This is often referred to as the state-variable representation. Consider for example the motion equations of an inverted pendulum:"
   ]
  },
  {
   "cell_type": "markdown",
   "metadata": {},
   "source": [
    "|          |\n",
    "|:----------:|\n",
    "|![invpend\\label{invpend}](images/invpendulum.png)|"
   ]
  },
  {
   "cell_type": "markdown",
   "metadata": {},
   "source": [
    "<p style=\"text-alignment=left;\"><a name=\"fig1\">Fig. 1</a> - This figure shows the inverted pendulum affected by skin friction. Free body diagram of cart and pendulum and relative frame of pendulum</p>"
   ]
  },
  {
   "cell_type": "markdown",
   "metadata": {},
   "source": [
    "Where $M$ and $m$ are the mass of cart and pendulum positioned to $L$ distance from the cart mass centrum. The cart is affected from an external force $u \\hat i$ and a skin friction speed proportional to the cart. The equation of the cart is: "
   ]
  },
  {
   "cell_type": "markdown",
   "metadata": {},
   "source": [
    "\\begin{equation}\n",
    "\\hat i: u - T sin \\theta - b \\dot x = M \\ddot x \n",
    "\\label{eq:eqcart} \n",
    "\\end{equation}"
   ]
  },
  {
   "cell_type": "markdown",
   "metadata": {},
   "source": [
    "for the pendulum:"
   ]
  },
  {
   "cell_type": "markdown",
   "metadata": {},
   "source": [
    "\\begin{equation}\n",
    "\\hat i: T sin \\theta = m a_{px}\n",
    "\\label{eq:apx} \n",
    "\\end{equation}\n",
    "\\begin{equation}\n",
    "\\hat j: -T cos \\theta - m g = m a_{py}\n",
    "\\label{eq:apy}\n",
    "\\end{equation}\n",
    "\\begin{equation}\n",
    "\\vec a_p = \\vec a_c + \\vec a_{pr} = \\ddot x \\hat i + (L \\ddot{\\theta} \\hat{e_\\theta} - L \\dot \\theta^2 \\hat{e_r})\n",
    "\\label{eq:ap}\n",
    "\\end{equation} "
   ]
  },
  {
   "cell_type": "markdown",
   "metadata": {},
   "source": [
    "Rewriting $\\vec a_p$ over the reference frame:"
   ]
  },
  {
   "cell_type": "markdown",
   "metadata": {},
   "source": [
    "\\begin{equation}\\label{eq:ap2}\n",
    "\\vec a_p = \\ddot x \\hat i - L \\dot \\theta^2 (- sin \\theta \\hat i + cos \\theta \\hat j) + L \\ddot \\theta (- cos \\theta \\hat i - sin \\theta \\hat j)\n",
    "\\end{equation}"
   ]
  },
  {
   "cell_type": "markdown",
   "metadata": {},
   "source": [
    "It is possible put the last result in $\\eqref{eq:apx}$ and $\\eqref{eq:apy}$ to obtain:"
   ]
  },
  {
   "cell_type": "markdown",
   "metadata": {},
   "source": [
    "\\begin{equation}\n",
    "\\hat i: T sin \\theta = m \\ddot x - m L \\ddot \\theta cos \\theta + m L \\dot{\\theta}^2 sin \\theta\n",
    "\\label{eq:Ti} \n",
    "\\end{equation}\n",
    "\\begin{equation}\n",
    "\\hat j: -T cos \\theta - mg = -mL \\ddot \\theta sin \\theta - m L \\dot{\\theta}^2 cos \\theta\n",
    "\\label{eq:Tj} \n",
    "\\end{equation}"
   ]
  },
  {
   "cell_type": "markdown",
   "metadata": {},
   "source": [
    " then,rearranging Eqs. $\\eqref{eq:eqcart}$,$\\eqref{eq:Ti}$,$\\eqref{eq:Tj}$ to remove tension and it's obtained:"
   ]
  },
  {
   "cell_type": "markdown",
   "metadata": {},
   "source": [
    "\\begin{equation}\n",
    "-m g sin \\theta = m \\ddot x cos \\theta - m L \\ddot \\theta\n",
    "\\label{eq:ddotx}\n",
    "\\end{equation}\n",
    "\\begin{equation}\n",
    "u + m L \\ddot \\theta cos \\theta - m L \\dot{\\theta}^2 sin \\theta = (m + M) \\ddot x + b \\dot x\n",
    "\\label{eq:ddottheta}\n",
    "\\end{equation}"
   ]
  },
  {
   "cell_type": "markdown",
   "metadata": {},
   "source": [
    "The final step is to set $\\dot x = v, \\ddot x = \\dot v, \\dot \\theta = \\omega, \\ddot \\theta = \\dot \\omega$ and show 4 differential linear equations "
   ]
  },
  {
   "cell_type": "markdown",
   "metadata": {},
   "source": [
    "\\begin{align}\\label{eq:set-diff-eq}\n",
    "\\dot x =& v\\\\\n",
    "\\dot v =& \\frac{-m^2 L^2 gcos(\\theta)sin(\\theta)+mL^2(mL \\omega^2 sin(\\theta) - bv) +mL^2u}\n",
    "{mL^2(M+m(1-cos(\\theta)^2))}\\\\\n",
    "\\dot \\theta =& \\omega\\\\\n",
    "\\dot \\omega =& \\frac{(m+M)m g L sin(\\theta)-mLcos(\\theta)(mL \\omega^2 sin(\\theta)- bv)+ mLcos(\\theta)u}\n",
    "{mL^2(M+m(1-cos(\\theta)^2))}\\\\\n",
    "\\end{align}"
   ]
  },
  {
   "cell_type": "markdown",
   "metadata": {},
   "source": [
    "where $x$ is the cart position, $v$ is the velocity, $\\theta$ is the pendulum angle, $\\omega$ is\n",
    "the angular velocity, $m$ is the pendulum mass, $M$ is the cart mass, $L$ is the\n",
    "pendulum arm, $g$ is the gravitational acceleration, $b$ is a friction damping on\n",
    "the dart, and $u$ is a control force applied to the cart.\n",
    "If we linearize the equations over a point of equilibrium ($\\theta = \\pi,0$) we can express them in a standard form:"
   ]
  },
  {
   "cell_type": "markdown",
   "metadata": {},
   "source": [
    "\\begin{equation}\n",
    "\\frac{d}{dt} \\pmb x = \\pmb F \\pmb x + \\pmb G u\n",
    "\\label{eq:stat-form} \n",
    "\\end{equation}"
   ]
  },
  {
   "cell_type": "markdown",
   "metadata": {},
   "source": [
    "where"
   ]
  },
  {
   "cell_type": "markdown",
   "metadata": {},
   "source": [
    "\\begin{equation}\\label{eq:2-matricies}\n",
    "F = \\begin{bmatrix}\n",
    "0 & 1 & 0 & 0\\\\ \n",
    "0 & -b/M & mg/M & 0\\\\ \n",
    "0 & 0 & 0 & 1\\\\ \n",
    "0 & \\frac{b}{ML} & \\frac{(m+M)g}{ML} & 0\\\\\n",
    "\\end{bmatrix} \\text{, } \\pmb G = \\begin{bmatrix}\n",
    "0\\\\ \n",
    "\\frac{1}{M}\\\\ \n",
    "0\\\\ \n",
    "\\frac{1}{ML}\n",
    "\\end{bmatrix} \\text{, } \\begin{bmatrix}\n",
    "x_1\\\\ \n",
    "x_2\\\\ \n",
    "x_3\\\\ \n",
    "x_4\\\\\n",
    "\\end{bmatrix} = \\begin{bmatrix}\n",
    "x\\\\ \n",
    "v\\\\ \n",
    "\\theta\\\\ \n",
    "\\omega\\\\\n",
    "\\end{bmatrix}\n",
    "\\end{equation}"
   ]
  },
  {
   "cell_type": "markdown",
   "metadata": {},
   "source": [
    "The output of the system is, for example, the cart position $y = x_1 = x$ which is expressed in matrix form as "
   ]
  },
  {
   "cell_type": "markdown",
   "metadata": {},
   "source": [
    "\\begin{equation}\n",
    "y = \\begin{bmatrix}\n",
    "1 & 0 & 0 & 0\n",
    "\\end{bmatrix}  \n",
    "\\begin{bmatrix}\n",
    "x_1 \\\\ x_2 \\\\ x_3 \\\\ x_4\n",
    "\\end{bmatrix}\n",
    "\\end{equation} "
   ]
  },
  {
   "cell_type": "markdown",
   "metadata": {},
   "source": [
    "or,"
   ]
  },
  {
   "cell_type": "markdown",
   "metadata": {},
   "source": [
    "\\begin{equation}\n",
    "y = \\pmb H \\pmb x\n",
    "\\end{equation}"
   ]
  },
  {
   "cell_type": "markdown",
   "metadata": {},
   "source": [
    "The equation $\\eqref{eq:stat-form}$ is called **state-variable form** where u is the input (the Force in this example), and the output is "
   ]
  },
  {
   "cell_type": "markdown",
   "metadata": {},
   "source": [
    "\\begin{equation}\n",
    "y = \\pmb H \\pmb x + Ju\n",
    "\\label{eq:output} \n",
    "\\end{equation}"
   ]
  },
  {
   "cell_type": "markdown",
   "metadata": {},
   "source": [
    "The column vector $\\pmb x$ is called **state of of the system** and contain *n* elements for *n*th-order system.\n",
    "The quantity $\\pmb F$ is an *n x n* **system matrix** called transition matrix, $\\pmb G$ is an *n x 1* **input matrix**, $\\pmb H$ is a *1 x n* row matrix referred to as the **output matrix**, and $J$ is a scalar called **direct transmission term**. "
   ]
  },
  {
   "cell_type": "markdown",
   "metadata": {},
   "source": [
    "Using MATLAB code to check a situation when the pendulum is in the \"up\" position (unstable equilibrium) and the initial condition is $y[t=0] = [x=0;\\dot x=0;\\theta=pi;\\dot \\theta=.5]$. It would be produced a periodic oscillation of $\\theta$ because acceleration of pendulum put it out of its position of equilibrium (unstable). Think the cart pendulum over a railway and the pendulum-leg can rotate over its up down position freely without falling down a physical ground. Multi-oscillation are dumped for the cart-friction represented by a \"d\" parameter.  "
   ]
  },
  {
   "cell_type": "markdown",
   "metadata": {},
   "source": [
    "So the function cartpend define the unlinear differential equations:\n",
    "```\n",
    "function dy = cartpend(y,m,M,L,g,d,u)\n",
    "\n",
    "Sy = sin(y(3));\n",
    "Cy = cos(y(3));\n",
    "D = m*L*L*(M+m*(1-Cy^2));\n",
    "\n",
    "dy(1,1) = y(2);\n",
    "dy(2,1) = (1/D)*(-m^2*L^2*g*Cy*Sy + m*L^2*(m*L*y(4)^2*Sy - d*y(2))) + \n",
    "m*L*L*(1/D)*u;\n",
    "dy(3,1) = y(4);\n",
    "dy(4,1) = (1/D)*((m+M)*m*g*L*Sy - m*L*Cy*(m*L*y(4)^2*Sy - d*y(2))) - \n",
    "m*L*Cy*(1/D)*u +.01*randn;\n",
    "```"
   ]
  },
  {
   "cell_type": "markdown",
   "metadata": {},
   "source": [
    "The rest of the code\n",
    "```\n",
    "m = 1;\n",
    "M = 5;\n",
    "L = 2;\n",
    "g = -10;\n",
    "d = 1;\n",
    "\n",
    "tspan = 0:.1:30;\n",
    "y0 = [0; 0; pi; .5];\n",
    "% solve ode\n",
    "[t,y] = ode45(@(t,y)cartpend(y,m,M,L,g,d,0),tspan,y0);\n",
    "% plot theta(t)\n",
    "plot(t,y(:,3))\n",
    "```"
   ]
  },
  {
   "cell_type": "markdown",
   "metadata": {},
   "source": [
    "|          |     \n",
    "|:----------:|\n",
    "|![thetapen\\label{thetapend}](images/thetapend.png)|"
   ]
  },
  {
   "cell_type": "markdown",
   "metadata": {},
   "source": [
    "<p style=\"text-alignment=left;\"><a name=\"fig2\">Fig. 2</a> - Imposing boundary condition to put the pendulum out of its unstable equilibrium and showing the evolution </p>"
   ]
  },
  {
   "cell_type": "markdown",
   "metadata": {},
   "source": [
    "## Building Block Diagrams with state-variables and State Space\n",
    "\n",
    "The most effective way to understanding the state variable equations is via block-diagram representation. The fundamental structure of the representation is integrator, which is quite suitable for first-order, state variable representation of equations of motion for a system. Because an integrator is a device whose input is the derivative of its output, as shown in <a href=\"#fig3\">figure 3</a>, if we identify the output of the integrator as the state, we will then automatically have the equations in state-variable form. Conversely, if a system is described by state variables, we can construct an analog-computer simulation of that system by taking one integrator for each state variable and connecting its input according to the given equation for that state state variable as expressed in the state variable equations.  "
   ]
  },
  {
   "cell_type": "markdown",
   "metadata": {},
   "source": [
    "|          |\n",
    "|:----------:|\n",
    "|![thetapen\\label{thetapend}](images/block.png)|"
   ]
  },
  {
   "cell_type": "markdown",
   "metadata": {},
   "source": [
    "<p style=\"text-alignment=left;\"><a name=\"fig3\">Fig. 3</a> - Block diagram of the system $\\dddot y = -6 \\ddot y -11 \\dot y -6 y + 6 u$ using only integrators as dynamic elements. </p>"
   ]
  },
  {
   "cell_type": "markdown",
   "metadata": {},
   "source": [
    "In addiction of above mention it's known how to pass in Laplace domain to obtain a transfer function. In particular for the example of <a href=\"fig3\">figure 3</a> :"
   ]
  },
  {
   "cell_type": "markdown",
   "metadata": {},
   "source": [
    "\\begin{equation}\\label{eq:laplace-1}\n",
    "s^3 Y(s) + 6 s^2 Y(s) + 11 s Y(s) + 6 Y(s) = 6 U(s)\n",
    "\\end{equation}"
   ]
  },
  {
   "cell_type": "markdown",
   "metadata": {},
   "source": [
    "Rearranging the terms:\n",
    "\\begin{equation}\\label{eq:transfer-function-1}\n",
    "    G(s) = \\frac{Y(s)}{U(s)} = \\frac{6}{s^3 + 6s^2 + 11s + 6}\n",
    "\\end{equation}"
   ]
  },
  {
   "cell_type": "markdown",
   "metadata": {},
   "source": [
    "More in general, Linear Invariant Systems are studied via impulse response, state space and transfer functions because have the same meaning in different domains like shown above. The figure below shows the relationship."
   ]
  },
  {
   "cell_type": "markdown",
   "metadata": {},
   "source": [
    "|         | \n",
    "|:---------:|\n",
    "|![EquivRapp](images/equivalentrapp.png)|"
   ]
  },
  {
   "cell_type": "markdown",
   "metadata": {},
   "source": [
    " <a name=\"fig4\">Fig. 4 </a>- Three equivalent representations of Linear Invariant Systems"
   ]
  },
  {
   "cell_type": "markdown",
   "metadata": {},
   "source": [
    "## Block Diagrams and Canonical Forms\n"
   ]
  },
  {
   "cell_type": "markdown",
   "metadata": {},
   "source": [
    "Transfer functions can be represented by block diagram and vice versa; we begin with a simple example:"
   ]
  },
  {
   "cell_type": "markdown",
   "metadata": {},
   "source": [
    "\\begin{equation}\n",
    "G(s) = \\frac{b(s)}{a(s)}=\\frac{s+2}{s^2 + 7s + 12} = \\frac{2}{s+4} + \\frac{-1}{s+3}\n",
    "\\label{eq:gs}\n",
    "\\end{equation}"
   ]
  },
  {
   "cell_type": "markdown",
   "metadata": {},
   "source": [
    "The roots of the numerator $b(s)$ are the zeros of the transfer function, and the roots of the dominator $a(s)$ are the poles. Noting that $G(s)$ has been written in two form, it's possible construct a block diagram that corresponds to the transfer function using only isolated integrators as the dynamic elements. Here in <a href=\"#fig5\">figure</a> is drawn a structure in **canonical form** "
   ]
  },
  {
   "cell_type": "markdown",
   "metadata": {},
   "source": [
    "|          |         \n",
    "|:----------:|\n",
    "|![controlblock\\label{controlblock}](images/controlblock.png)|"
   ]
  },
  {
   "cell_type": "markdown",
   "metadata": {},
   "source": [
    "<p style=\"text-alignment=left;\"><a name=\"fig5\">Fig. 5</a> - Control Block diagram of the system $\\eqref{eq:gs}$</p>"
   ]
  },
  {
   "cell_type": "markdown",
   "metadata": {},
   "source": [
    "It's worthwhile to mention the equation for the first,second and output state variables:"
   ]
  },
  {
   "cell_type": "markdown",
   "metadata": {},
   "source": [
    "\\begin{align}\\label{eq:set-diff-eq-2}\n",
    "\\begin{split}\n",
    "\\dot x_1 &= -7x_1 -12 x_2 + u\\\\\n",
    "\\dot x_2 &= x_1\\\\\n",
    "y &= x_1 + 2x_2\n",
    "\\end{split}\n",
    "\\end{align}"
   ]
  },
  {
   "cell_type": "markdown",
   "metadata": {},
   "source": [
    "These three equation can be rewritten in the matrix form:"
   ]
  },
  {
   "cell_type": "markdown",
   "metadata": {},
   "source": [
    "\\begin{equation}\\label{eq:control-canonical-form}\n",
    "\\begin{aligned}\n",
    "\\dot{\\pmb x} &= \\pmb A_c \\pmb x + \\pmb B_c u\\\\\n",
    "y &= \\pmb C_c \\pmb x\n",
    "\\end{aligned}\n",
    "\\end{equation}"
   ]
  },
  {
   "cell_type": "markdown",
   "metadata": {},
   "source": [
    "where"
   ]
  },
  {
   "cell_type": "markdown",
   "metadata": {},
   "source": [
    "\\begin{align}\\label{eq:set-matrices}\n",
    "\\pmb A_c = \\begin{bmatrix}\n",
    "-7 & -12\\\\\n",
    "1 & 0\n",
    "\\end{bmatrix}&\\text{, }\n",
    "\\pmb B_c = \\begin{bmatrix}\n",
    "1\\\\\n",
    "0\n",
    "\\end{bmatrix}\\text{,}\\\\ \n",
    "\\pmb C_c = \\begin{bmatrix}\n",
    "1 & 2\n",
    "\\end{bmatrix}&\\text{, } \\pmb D_c = 0 \\nonumber\n",
    "\\end{align}"
   ]
  },
  {
   "cell_type": "markdown",
   "metadata": {},
   "source": [
    "and where the subscript $c$ refer to control canonical form. There are 2 facts significant here: the first $A_c$ row appear in $a(s)$ and the second one is that $b(s)$ is in $C_c$ vector. By inspection when it's known the transfer function it's possible write the matrices in canonical form"
   ]
  },
  {
   "cell_type": "markdown",
   "metadata": {},
   "source": [
    "\\begin{align}\\label{eq:matrix-control-3}\n",
    "\\pmb A_c = \\begin{bmatrix}\n",
    "-a_1 & -a_2 & .. & .. & -a_n\\\\ \n",
    "1 & 0 & .. & .. & 0\\\\ \n",
    "0 & 1 & .. & .. & 0\\\\ \n",
    ".. & .. & .. & .. & .. \\\\\n",
    ".. & .. & .. & .. & ..\\\\\n",
    "0 & 0 & .. & 1 & 0\\\\\n",
    "\\end{bmatrix} & \\text{, }\n",
    "\\pmb B =\n",
    "\\begin{bmatrix}\n",
    "1\\\\ \n",
    "0\\\\ \n",
    "..\\\\ \n",
    "..\\\\\n",
    "0\\\\\n",
    "\\end{bmatrix} \\text{, }\\\\\n",
    "\\pmb C_c = \\begin{bmatrix}\n",
    "b_1 &\n",
    "b_2 & \n",
    ".. & \n",
    ".. &\n",
    "b_n\n",
    "\\end{bmatrix} & \\text{, } D_c = 0 \\nonumber\n",
    "\\end{align}"
   ]
  },
  {
   "cell_type": "markdown",
   "metadata": {},
   "source": [
    "Because $\\eqref{eq:gs}$ is written in 2 ways when it is in a partial-fraction expansion the relative block diagram form is:"
   ]
  },
  {
   "cell_type": "markdown",
   "metadata": {},
   "source": [
    "|          |\n",
    "|:----------:|\n",
    "|![modalblock\\label{modalblock}](images/modalblock.png)|"
   ]
  },
  {
   "cell_type": "markdown",
   "metadata": {},
   "source": [
    "<p style=\"text-alignment=left;\"><a name=\"fig6\">Fig. 6</a> - Modal Block diagram of the system</p>"
   ]
  },
  {
   "cell_type": "markdown",
   "metadata": {},
   "source": [
    "Using the same technique the matrix directly from the block diagram:"
   ]
  },
  {
   "cell_type": "markdown",
   "metadata": {},
   "source": [
    "\\begin{equation}\\label{eq:canonical-modal-eq}\n",
    "\\begin{aligned}\n",
    "\\dot{\\pmb z} &= \\pmb A_m \\pmb z + \\pmb B_m u\\\\\n",
    "y &= \\pmb C_m \\pmb z + D_m u\n",
    "\\end{aligned}\n",
    "\\end{equation}"
   ]
  },
  {
   "cell_type": "markdown",
   "metadata": {},
   "source": [
    "where "
   ]
  },
  {
   "cell_type": "markdown",
   "metadata": {},
   "source": [
    "\\begin{align}\\label{eq:matrices-modal-form}\n",
    "\\pmb A_m = \\begin{bmatrix}\n",
    "-4 & 0\\\\\n",
    "0 & -3\n",
    "\\end{bmatrix}&\\text{, }\n",
    "\\pmb B_m = \\begin{bmatrix}\n",
    "1\\\\\n",
    "1\n",
    "\\end{bmatrix}\\text{,}\\\\ \n",
    "\\pmb C_m = \\begin{bmatrix}\n",
    "2 & -1\n",
    "\\end{bmatrix}&\\text{, } \\pmb D_m = 0 \\nonumber\n",
    "\\end{align}"
   ]
  },
  {
   "cell_type": "markdown",
   "metadata": {},
   "source": [
    "and subscript m refers to **modal canonical form**. The important fact is that the system poles $(-4,-3)$ appear as the elements along the diagonal of the $\\pmb A_m$ matrix and the residues, the numerator terms in the partial fraction expansion $(2,-1)$, appear in the $C_m$ matrix. It's worthwhile to mention that expressing a system in modal form can be harder  because whenever the elements of the matrices will be complex, the poles of the system will be complex. In addiction the system matrix cannot be diagonal when the partial fraction expansion has repeated poles."
   ]
  },
  {
   "cell_type": "markdown",
   "metadata": {},
   "source": [
    "The control form is important because is connected with the controllability of a system: suppose it's known a set of state equations that describe some physical system. Is it possible to calculate the desired canonical form without obtaining the transfer functions first? It turns out this statement:\n",
    "\n",
    "<p style=\"font-weight: bold;padding:35px;background-color:azure\">One can always transform a given state description to control canonical form if and only if the controllability matrix $C$ is nonsingular</p>\n",
    "\n",
    "where the controllability matrix is:"
   ]
  },
  {
   "cell_type": "markdown",
   "metadata": {},
   "source": [
    "\\begin{equation}\\label{eq:C}\n",
    "\\pmb{\\mathcal{C}} = \\begin{bmatrix}\n",
    "\\pmb G & \\pmb{FG} & ... \\pmb{F}^{n-1}\\pmb G\n",
    "\\end{bmatrix}\n",
    "\\end{equation}"
   ]
  },
  {
   "cell_type": "markdown",
   "metadata": {},
   "source": [
    "When **$\\mathcal{C}$** is non singular, the corresponding **F** and **G** matrices are said to be controllable. This is a technical property that usually holds for physical systems and will be important when it's considered the study of feedback. It is possible list a procedure to obtain new matrix in modal control form:\n",
    " - From **F** and **G**, form the controllability matrix $\\eqref{eq:C}$\n",
    " - Compute the last row of the inverse of the transformation matrix as "
   ]
  },
  {
   "cell_type": "markdown",
   "metadata": {},
   "source": [
    "\\begin{equation}\\label{eq:tn}\n",
    "  \\pmb{t}_n = [0 \\space 0 \\space ..... \\space 1] \\pmb{\\mathcal C}^{-1}\n",
    "\\end{equation}"
   ]
  },
  {
   "cell_type": "markdown",
   "metadata": {},
   "source": [
    "- Construct the entire transformation matrix as \n",
    "\\begin{equation}\\label{eq:T-1}\n",
    " \\pmb T^{-1} = \\begin{bmatrix} \n",
    " \\pmb t_n \\pmb F^{n-1}\\\\ \n",
    " \\pmb t_n \\pmb F^{n-2}\\\\\n",
    " ...\\\\\n",
    " \\pmb t_n \n",
    " \\end{bmatrix}\n",
    "\\end{equation}"
   ]
  },
  {
   "cell_type": "markdown",
   "metadata": {},
   "source": [
    "- Compute the new matrices $\\pmb A, \\pmb B, \\pmb C$ from $\\pmb T^{-1}$ using:"
   ]
  },
  {
   "cell_type": "markdown",
   "metadata": {},
   "source": [
    "\\begin{align}\n",
    "\\pmb A &= \\pmb{T^{-1} F T} \\nonumber \\\\\n",
    "\\pmb B &= \\pmb{T^{-1}G} \\label{eq:new_Trsf} \\\\\n",
    "\\pmb C &= \\pmb{HT} \\nonumber \\\\\n",
    "D_c &= J \\nonumber\n",
    "\\end{align}"
   ]
  },
  {
   "cell_type": "markdown",
   "metadata": {},
   "source": [
    "Also state variables are changed in cause of a non singular matrix $\\pmb T$:"
   ]
  },
  {
   "cell_type": "markdown",
   "metadata": {},
   "source": [
    "\\begin{align}\n",
    "\\pmb x = \\pmb{T} \\pmb z \\nonumber\n",
    "\\newline\n",
    "\\pmb{\\dot x} = \\pmb{T \\dot z} = \\pmb{FTz} + \\pmb Gu \n",
    "\\newline\n",
    "\\pmb{\\dot z} = \\pmb{T}^{-1}\\pmb{FTz} + \\pmb T^{-1}\\pmb{G}u \\nonumber\n",
    "\\newline\n",
    "\\pmb{\\dot z} = \\pmb{Az} + \\pmb B u \\nonumber\n",
    "\\end{align}"
   ]
  },
  {
   "cell_type": "markdown",
   "metadata": {},
   "source": [
    "Another question is the effect of a state transformation. After the transformations $\\eqref{eq:new_Trsf}$ it's possible calculate the new controllability matrix $\\pmb{\\mathcal{C}}_z$"
   ]
  },
  {
   "cell_type": "markdown",
   "metadata": {},
   "source": [
    "\\begin{align} \\label{eq:Cz}\n",
    "\\pmb{\\mathcal{C}_z} = & \\begin{bmatrix}\n",
    "                      \\pmb B & \\pmb{AB}& ... \\pmb{A}^{n-1}\\pmb B\n",
    "                      \\end{bmatrix}\\\\\n",
    " = & \\begin{bmatrix}\n",
    "         \\pmb{T}^{-1} \\pmb G & \\pmb{T}^{-1} \\pmb{FT} \\pmb{T}^{-1} \\pmb G & ... & \\pmb{T}^{-1} \\pmb{F}^{n-1} \\pmb{T} \\pmb{T}^{-1} \\pmb G\n",
    "     \\end{bmatrix} \\nonumber \\\\\n",
    " = & \\pmb{T}^{-1} \\pmb{\\mathcal{C}} \\nonumber\n",
    "\\end{align}\n"
   ]
  },
  {
   "cell_type": "markdown",
   "metadata": {},
   "source": [
    "$\\pmb{\\mathcal{C}_z}$ is non singular if and only if  $\\pmb{\\mathcal{C}}$ is non singular so:\n",
    "<p style=\"font-weight: bold;padding:35px;background-color:azure\">A change of state by a non singular linear transformation does not change controllability</p>"
   ]
  },
  {
   "cell_type": "markdown",
   "metadata": {},
   "source": [
    "There is a third canonical form called **observer**.\n",
    "Transfer function $\\eqref{eq:gs}$ for this form are:\n",
    "\n",
    "\n",
    "\\begin{align}\\label{eq:matrix-observer}\n",
    "\\pmb A_o = \\begin{bmatrix}\n",
    "-7 & 1\\\\\n",
    "-12 & -03\n",
    "\\end{bmatrix}&\\text{, }\n",
    "\\pmb B_o = \\begin{bmatrix}\n",
    "1\\\\\n",
    "2\n",
    "\\end{bmatrix}\\text{,}\\\\ \n",
    "\\pmb C_o = \\begin{bmatrix}\n",
    "1 & 0\n",
    "\\end{bmatrix}&\\text{, } \\pmb D_o = 0 \\nonumber\n",
    "\\end{align}"
   ]
  },
  {
   "cell_type": "markdown",
   "metadata": {},
   "source": [
    "It may be considered what's to the controllability of this system as the zero at -2 is varied. For this purpose, we replace the second element 2 of $\\pmb B_o$ with the variable zero location $-z_0$ and form the controllability matrix: "
   ]
  },
  {
   "cell_type": "markdown",
   "metadata": {},
   "source": [
    "\\begin{equation}\\label{eq:Cx}\n",
    "\\pmb{\\mathcal{C}_x} = \\begin{bmatrix} \\pmb B_0 & \\pmb A_0 \\pmb B_0 \\end{bmatrix}\\\\\n",
    "                   = \\begin{bmatrix} \n",
    "                   1 & -7 - z_0\\\\\n",
    "                   -z_0 & -12                  \n",
    "                   \\end{bmatrix}\\\\\n",
    "\\end{equation}"
   ]
  },
  {
   "cell_type": "markdown",
   "metadata": {},
   "source": [
    "The determinant is zero for $z_0 = -3,-4$, implying that the controllability **is lost** for these values. What does this mean? The transfer function may help:  "
   ]
  },
  {
   "cell_type": "markdown",
   "metadata": {},
   "source": [
    "\\begin{equation}\\label{eq:newG}\n",
    "G(s) = \\frac{s-z_0}{(s+3)(s+4)}\n",
    "\\end{equation}"
   ]
  },
  {
   "cell_type": "markdown",
   "metadata": {},
   "source": [
    "If $z_0 = -3,-4$ there is a pole cancellation; when $z_0 = -3$ for example, the mode at -3 is decoupled from the input and the control is lost.   "
   ]
  },
  {
   "cell_type": "markdown",
   "metadata": {},
   "source": [
    "The take away of this observer canonical form are two:\n",
    " - in the diagram block form, all the feedback is from the output to the state variable (see <a href=\"#fig7\">figure 7</a> )\n",
    " - the control form is always controllable for any value of the zero, while the observer form loses the controllability if the zero cancels either of the poles. These two form may represent the same transfer function, **but it may not be possible to transform the state of one to the state of the other** "
   ]
  },
  {
   "cell_type": "markdown",
   "metadata": {},
   "source": [
    "|          |      \n",
    "|:----------:|\n",
    "|![obsblock](images/obsblock.png)|"
   ]
  },
  {
   "cell_type": "markdown",
   "metadata": {},
   "source": [
    "<p style=\"text-alignment=left;\"><a name=\"fig7\">Fig. 7</a> - Observer canonical form of the system $\\eqref{eq:gs}$</p>"
   ]
  },
  {
   "cell_type": "markdown",
   "metadata": {},
   "source": [
    "Using matlab canon function it's possible to show the canonical modal form. In particular A matrix has poles over its diagonal. T is the transformation between these two representation that using different state variables describe the same physical system.  \n",
    "```\n",
    "[modal_sys,T] = canon(sys, 'modal')\n",
    "\n",
    "modal_sys =\n",
    " \n",
    "  A = \n",
    "            x1       x2       x3       x4\n",
    "   x1        0        0        0        0\n",
    "   x2        0    2.434        0        0\n",
    "   x3        0        0   -2.467        0\n",
    "   x4        0        0        0  -0.1665\n",
    " \n",
    "  B = \n",
    "            u1\n",
    "   x1        1\n",
    "   x2   0.2424\n",
    "   x3  -0.2807\n",
    "   x4   -1.052\n",
    " \n",
    "  C = \n",
    "              x1         x2         x3         x4\n",
    "   y1          1    0.02457    0.02786     0.9486\n",
    "   y2          0    0.05981   -0.06874    -0.1579\n",
    "   y3          0    0.07876    0.07793  -0.002645\n",
    "   y4          0     0.1917    -0.1923  0.0004404\n",
    " \n",
    "  D = \n",
    "       u1\n",
    "   y1   0\n",
    "   y2   0\n",
    "   y3   0\n",
    "   y4   0\n",
    " \n",
    "Continuous-time state-space model.\n",
    "\n",
    "\n",
    "T =\n",
    "\n",
    "    1.0000    6.0000   -0.0000   -2.0000\n",
    "         0   -0.0996    6.3858    2.6237\n",
    "         0   -0.1138    6.3656   -2.5799\n",
    "         0   -6.3195   -0.3524    2.1163\n",
    "```\n",
    "We know that poles on the right half-plane means unstable systems. It's a confirmation of instability when the pendulum is in the top position (look at the <a href=\"#fig2\">figure 2</a> $\\theta$ when the pendulum comes out of its unstable position i.e. few cents of degree off its top position) "
   ]
  },
  {
   "cell_type": "markdown",
   "metadata": {},
   "source": [
    "The canonical modal form is not the only way to find out the poles of the transfer function: if it's multiplied the first equation of $\\eqref{eq:new_Trsf}$ by $\\pmb T$ (transformation to modal form) the result is:"
   ]
  },
  {
   "cell_type": "markdown",
   "metadata": {},
   "source": [
    "\\begin{equation}\n",
    "\\label{eq:TAFT}\n",
    "\\pmb{TA} = \\pmb{FT}\n",
    "\\end{equation}"
   ]
  },
  {
   "cell_type": "markdown",
   "metadata": {},
   "source": [
    "Assuming in a third order problem that $\\pmb A$ is a diagonal matrix and $\\pmb T$ is composed of the columns $\\pmb t_1, \\pmb t_2, \\pmb t_3$ the result is an **eigenvector/eigenvalues problem**:"
   ]
  },
  {
   "cell_type": "markdown",
   "metadata": {},
   "source": [
    "\\begin{equation}\n",
    "\\label{eq:eigenval-problem}\n",
    "\\begin{bmatrix}\n",
    "\\pmb t_1 & \\pmb t_2 & \\pmb t_3\n",
    "\\end{bmatrix}  \n",
    "\\begin{bmatrix}\n",
    "p_1 & 0 & 0\\\\\n",
    "0 & p_2 & 0\\\\\n",
    "0 & 0 & p_3\n",
    "\\end{bmatrix} = \\pmb F\n",
    "\\begin{bmatrix}\n",
    "\\pmb t_1 & \\pmb t_2 & \\pmb t_3\n",
    "\\end{bmatrix}\n",
    "\\end{equation}"
   ]
  },
  {
   "cell_type": "markdown",
   "metadata": {},
   "source": [
    "It turns out that the transformation matrix that will convert the state description matrices to modal form has its columns the eigenvectors of **F**. The eigenvalues of cart-pendulum are directly findable solving for **F**\n",
    "```\n",
    ">> eig(F)\n",
    "\n",
    "ans =\n",
    "\n",
    "         0\n",
    "   -2.4674\n",
    "   -0.1665\n",
    "    2.4339\n",
    "```"
   ]
  },
  {
   "cell_type": "markdown",
   "metadata": {},
   "source": [
    "Backing to $\\eqref{eq:C}$ it's time to check the controllability of the card pendulum system:\n",
    "```\n",
    ">> ctrb(A,B)\n",
    "\n",
    "ans =\n",
    "\n",
    "         0    0.2000   -0.0400    0.2080\n",
    "    0.2000   -0.0400    0.2080   -0.0816\n",
    "         0    0.1000   -0.0200    0.6040\n",
    "    0.1000   -0.0200    0.6040   -0.1408\n",
    "\n",
    ">> rank(ctrb(A,B))\n",
    "\n",
    "ans =\n",
    "\n",
    "     4\n",
    "```\n",
    "The rank of $\\mathcal C$ is full and it's possible to control the **full state system** by looping **x**.  "
   ]
  },
  {
   "cell_type": "markdown",
   "metadata": {},
   "source": [
    "## Dynamic response from the state equations\n",
    "Having considered the structure of the state-variables equations, now it's the turn to finding the dynamic response from the state description and the relationship with poles and zeros of the transfer function.\n",
    "Considering $\\eqref{eq:stat-form}$ and $\\eqref{eq:output}$ in a frequency domain it's possible to write by Laplace transform:"
   ]
  },
  {
   "cell_type": "markdown",
   "metadata": {},
   "source": [
    "\\begin{align}\\label{Laplace-transform}\n",
    "\\begin{split}\n",
    "\\dot{\\pmb x} &= \\pmb F \\pmb x + \\pmb G u \\\\\n",
    "s \\pmb X(s) - \\pmb x(0) &= \\pmb F \\pmb X(s) + \\pmb G U(s)\n",
    "\\end{split}\n",
    "\\end{align}"
   ]
  },
  {
   "cell_type": "markdown",
   "metadata": {},
   "source": [
    "which is now an algebraic equation. If we rearranging the terms and pre-multiply both sides by the inverse of $(s\\pmb I -\\pmb F)$, then:"
   ]
  },
  {
   "cell_type": "markdown",
   "metadata": {},
   "source": [
    "\\begin{equation}\\label{Xs}\n",
    "\\pmb X(s) = (s\\pmb I -\\pmb F)^{-1} \\pmb G U(s) + (s\\pmb I -\\pmb F)^{-1} \\pmb x(0)\n",
    "\\end{equation}"
   ]
  },
  {
   "cell_type": "markdown",
   "metadata": {},
   "source": [
    "the output system is"
   ]
  },
  {
   "cell_type": "markdown",
   "metadata": {},
   "source": [
    "\\begin{align}\n",
    "Y(s) &= \\pmb H \\pmb X(s) + J U(s) \\nonumber\\\\\n",
    "     &= \\pmb H(s\\pmb I - \\pmb F)^{-1} \\pmb G U(s) +\\pmb H (s\\pmb I - \\pmb F)^{-1} \\pmb x(0) + JU(s)\n",
    "\\end{align}"
   ]
  },
  {
   "cell_type": "markdown",
   "metadata": {},
   "source": [
    "This equation express the output response to both initial condition and external forcing input. The coefficient of the external input is the transfer function of the system, which in this case is given by\n",
    "\n",
    "\\begin{equation}\n",
    "G(s) = \\frac{Y(s)}{U(s)} =  \\pmb H(s\\pmb I - \\pmb F)^{-1} \\pmb G + J\n",
    "\\label{eq:G}\n",
    "\\end{equation}"
   ]
  },
  {
   "cell_type": "markdown",
   "metadata": {},
   "source": [
    "Because $\\eqref{eq:G}$ expresses the transfer function in terms of the general state-space descriptor matrices $\\pmb F, \\pmb G, \\pmb H, J$, it's possible to express poles and zeros in term of these matrices. If taking $\\eqref{eq:stat-form}$ and $\\eqref{eq:output}$ and set the forcing u to zero, then,\n",
    "\n",
    "\\begin{align}\n",
    "\\label{eq:stat-form-u}\n",
    "\\dot{\\pmb x} &= \\pmb F \\pmb x\\\\\n",
    "\\pmb x(0)    &= \\pmb x_0\n",
    "\\end{align}"
   ]
  },
  {
   "cell_type": "markdown",
   "metadata": {},
   "source": [
    "and assuming the entire motion behaves according to the same natural frequency, then the state can be written as \n",
    "$\\pmb x(t)= e^{p_i t}\\pmb x_0$. It follows from $\\eqref{eq:stat-form-u}$ that"
   ]
  },
  {
   "cell_type": "markdown",
   "metadata": {},
   "source": [
    "\\begin{equation}\n",
    "\\dot{\\pmb x}(t) = p_i e^{p_i t}\\pmb x_0 = \\pmb F \\pmb x = \\pmb F  e^{p_i t}\\pmb x_0\n",
    "\\end{equation}"
   ]
  },
  {
   "cell_type": "markdown",
   "metadata": {},
   "source": [
    "or"
   ]
  },
  {
   "cell_type": "markdown",
   "metadata": {},
   "source": [
    "\\begin{equation}\n",
    "\\pmb F \\pmb x_0 = p_i \\pmb x_0\n",
    "\\label{eq:eigenval-eq}\n",
    "\\end{equation}"
   ]
  },
  {
   "cell_type": "markdown",
   "metadata": {},
   "source": [
    "Rewriting $\\eqref{eq:eigenval-eq}$ as"
   ]
  },
  {
   "cell_type": "markdown",
   "metadata": {},
   "source": [
    "\\begin{equation}\n",
    "(p_i \\pmb I - \\pmb F)\\pmb x_0 = 0\n",
    "\\label{eq:eigenval-eq2}\n",
    "\\end{equation}"
   ]
  },
  {
   "cell_type": "markdown",
   "metadata": {},
   "source": [
    "Equations $\\eqref{eq:eigenval-eq}$ and $\\eqref{eq:eigenval-eq2}$ constitute the eigenvector problem with eigenvalues $p_i$ and, in this case, eigenvectors $\\pmb x_0$ of the $\\pmb F$ matrix. Equation $\\eqref{eq:eigenval-eq2}$ has a solution if and only if "
   ]
  },
  {
   "cell_type": "markdown",
   "metadata": {},
   "source": [
    "\\begin{equation}\n",
    "det(p_i \\pmb I -\\pmb F) = 0\n",
    "\\label{eq:det}\n",
    "\\end{equation}"
   ]
  },
  {
   "cell_type": "markdown",
   "metadata": {},
   "source": [
    "These equations show again that the *poles* of the transfer function are the eigenvalues of the system matrix $\\pmb F$. The determinant $\\eqref{eq:det}$ is known as the **characteristic equation** "
   ]
  },
  {
   "cell_type": "markdown",
   "metadata": {},
   "source": [
    "We can also determine the zeros of a system from the state variable description matrices $\\pmb F, \\pmb G, \\pmb H, J$ using a system theory point of view. From this perspective, a zero is a value of a generalized frequency *s* such that the system can have a non-zero input and state yet have an output of zero. If the input at zero frequency $z_i$ is given by\n",
    "\n",
    "\\begin{equation}\n",
    "u(t) = u_0 e^{z_i t}\n",
    "\\end{equation}\n",
    "\n",
    "then the output is identically zero : $y(t) \\equiv 0$"
   ]
  },
  {
   "cell_type": "markdown",
   "metadata": {},
   "source": [
    "The state-space description of above equations would be: \n",
    "\\begin{equation}\n",
    "u=u_0 e^{z_i t}, \\pmb x(t) = \\pmb x_0 e^{z_i t}\n",
    "\\end{equation}\n",
    "\n",
    "Thus\n",
    "\n",
    "\\begin{equation}\n",
    "\\dot{\\pmb x} = z_i e^{z_i t} \\pmb x_0 = \\pmb F e^{z_i t} \\pmb x_0 + \\pmb G u_0 e^{z_i t}\n",
    "\\end{equation}"
   ]
  },
  {
   "cell_type": "markdown",
   "metadata": {},
   "source": [
    "or \n",
    "\n",
    "\\begin{equation}\n",
    "\\begin{bmatrix}\n",
    "z_i\\pmb I - \\pmb F - \\pmb G\n",
    "\\end{bmatrix}\n",
    "\\begin{bmatrix}\n",
    "\\pmb x_0\\\\\n",
    "u_0\n",
    "\\end{bmatrix} = \\mathbf 0\n",
    "\\end{equation}"
   ]
  },
  {
   "cell_type": "markdown",
   "metadata": {},
   "source": [
    "and\n",
    "\n",
    "\\begin{equation}\n",
    "y = \\pmb H \\pmb x + Ju = \\pmb H e^{z_i t} \\pmb x_0 + J u_0 e^{z_i t} = 0\n",
    "\\end{equation}\n",
    "\n",
    "Combining the above equations it's possible obtain a state vector equation similar for the poles problem:\n",
    "\n",
    "\\begin{equation}\n",
    "\\begin{bmatrix}\n",
    "z_i \\pmb I - \\pmb F & - \\pmb G\\\\\n",
    "\\pmb H              & J\n",
    "\\end{bmatrix}\n",
    "\\begin{bmatrix}\n",
    "\\pmb x_0\\\\\n",
    "u_0\n",
    "\\end{bmatrix} = \n",
    "\\begin{bmatrix}\n",
    "\\mathbf{0}\\\\\n",
    "0\n",
    "\\end{bmatrix}\n",
    "\\label{eq_state-vector-eq}\n",
    "\\end{equation}"
   ]
  },
  {
   "cell_type": "markdown",
   "metadata": {},
   "source": [
    "In SISO system the equation just mentioned has a square matrix and the solution is equivalent to :\n",
    "\n",
    "\\begin{equation}\n",
    "det\\begin{bmatrix}\n",
    "z_i \\pmb I - \\pmb F & -\\pmb G\\\\\n",
    "\\pmb H & J\n",
    "\\end{bmatrix} = 0\n",
    "\\label{eq:zerodet}\n",
    "\\end{equation}"
   ]
  },
  {
   "cell_type": "markdown",
   "metadata": {},
   "source": [
    "Equations $\\eqref{eq:det}$ and $\\eqref{eq:zerodet}$ can be conbined to express the transfer function in a compact form from state-description matrices:\n",
    "\n",
    "\\begin{equation}\n",
    "G(s) = \\frac{det\\begin{bmatrix}\n",
    "s \\pmb I - \\pmb F & - \\pmb G\\\\\n",
    "\\pmb H & J\n",
    "\\end{bmatrix}}\n",
    "{det \\begin{bmatrix}s \\pmb I - \\pmb F \\end{bmatrix}}\n",
    "\\label{eq:G-in-matrix-form}\n",
    "\\end{equation}"
   ]
  },
  {
   "cell_type": "markdown",
   "metadata": {},
   "source": [
    "# Control-law design for full-state feedback\n",
    "\n",
    "The purpose of the control law is to allow us to assign as set of poles locations for the close-loop system that will correspond to satisfactory dynamic response in term of rise time and other measures of transient response. "
   ]
  },
  {
   "cell_type": "markdown",
   "metadata": {},
   "source": [
    "## Finding the control law\n",
    "\n",
    "How does it change the state equation when the system is inside a control loop? Below it's show the figure of a design block scheme:"
   ]
  },
  {
   "cell_type": "markdown",
   "metadata": {},
   "source": [
    "|          | \n",
    "|:----------:|\n",
    "|![control law\\label{controllaw}](images/control-law.png)|"
   ]
  },
  {
   "cell_type": "markdown",
   "metadata": {},
   "source": [
    "<p style=\"text-alignment=left;\"><a name=\"fig8\">Fig. 8</a> - Assumed system for control law design</p>"
   ]
  },
  {
   "cell_type": "markdown",
   "metadata": {},
   "source": [
    "\\begin{equation}\n",
    "u = -\\pmb{Kx} = \\begin{bmatrix}K_1 & K_2 & ... K_n \\end{bmatrix} \\label{eq:K} \n",
    "\\end{equation}"
   ]
  },
  {
   "cell_type": "markdown",
   "metadata": {},
   "source": [
    "Equation $\\eqref{eq:K}$ tell us that the system has a constant matrix in the state-vector feedback path gains, $K1,K2,....K_n$, and because there are n roots of the system, it's possible that there are enough degree of freedom to select arbitrarily and desired root location by choosing the proper value of $K_i$. Substituting the feedback law given in $\\eqref{eq:K}$ into the system described by $\\eqref{eq:stat-form}$ yields:  "
   ]
  },
  {
   "cell_type": "markdown",
   "metadata": {},
   "source": [
    "\\begin{equation}\n",
    "\\dot{\\pmb{x}} = \\pmb{Fx - GKx} = (\\pmb{F - GK}) \\pmb x\n",
    "\\end{equation}"
   ]
  },
  {
   "cell_type": "markdown",
   "metadata": {},
   "source": [
    "Now writing:\n",
    "\\begin{equation}\n",
    "\\dot{\\pmb x}(t) = p_i e^{p_i t} \\pmb x_0 = (\\pmb{F-GK}) \\pmb x = (\\pmb{F-GK}) e^{p_i t} \\pmb x_0\n",
    "\\end{equation}\n",
    "\\begin{equation}\n",
    "\\pmb x(0) = \\pmb x_0\n",
    "\\end{equation}"
   ]
  },
  {
   "cell_type": "markdown",
   "metadata": {},
   "source": [
    "or"
   ]
  },
  {
   "cell_type": "markdown",
   "metadata": {},
   "source": [
    "\\begin{equation}\n",
    "(\\pmb{F-GK}) \\pmb x_0 = p_i \\pmb{x}_0\n",
    "\\end{equation}"
   ]
  },
  {
   "cell_type": "markdown",
   "metadata": {},
   "source": [
    "This is an eigenvalues problem that it can be solved if and only if "
   ]
  },
  {
   "cell_type": "markdown",
   "metadata": {},
   "source": [
    "\\begin{equation}\n",
    "det {[ s \\pmb I - (\\pmb{F-GK})]}  = 0  \n",
    "\\end{equation}"
   ]
  },
  {
   "cell_type": "markdown",
   "metadata": {},
   "source": [
    "When evaluate, this yield an nth order polynomial in s containing the gains **K** so the roots of $\\eqref{eq:det}$ are in the *desirable* locations. We assume that desired locations are known, say,"
   ]
  },
  {
   "cell_type": "markdown",
   "metadata": {},
   "source": [
    "\\begin{equation}s=s_1,s_2,....,s_n\\end{equation}"
   ]
  },
  {
   "cell_type": "markdown",
   "metadata": {},
   "source": [
    "Then the corresponding desired (control) characteristic equation is"
   ]
  },
  {
   "cell_type": "markdown",
   "metadata": {},
   "source": [
    "\\begin{equation}\n",
    "\\alpha_c(s) = (s-s_1)(s-s2)....(s-s_n) = 0 \\label{eq:alpha} \n",
    "\\end{equation}"
   ]
  },
  {
   "cell_type": "markdown",
   "metadata": {},
   "source": [
    "Hence the required elements of **K** are obtained by matching coefficients $\\eqref{eq:det}$ and $\\eqref{eq:alpha}$ ,forcing the systems's characteristic equation to be identical to the desired characteristic equation and the closed loop poles at the desired locations.\n",
    "\n",
    "Calculating the gains by using this technique becomes rather tedious when the order of the system is higher than 3. There are another technique that use the control canonical form to simplify the matrix and finishing with the match between the above equations. However there is an alternative to this method called **Ackerman's formula** divided in three steps process of converting to $(\\pmb F_c \\pmb G_c)$ solving for the gains, and converting back again into the very compact form:  "
   ]
  },
  {
   "cell_type": "markdown",
   "metadata": {},
   "source": [
    "\\begin{equation}\n",
    "\\pmb K = [0,0,.....0,1]{\\mathcal{C}}^{-1} \\alpha_c({\\pmb F})\n",
    "\\end{equation}"
   ]
  },
  {
   "cell_type": "markdown",
   "metadata": {},
   "source": [
    "where $\\mathcal C$ is the controllability matrix in $\\eqref{eq:C}$, n gives the order of the system and the number of the state variables and : "
   ]
  },
  {
   "cell_type": "markdown",
   "metadata": {},
   "source": [
    "\\begin{equation}\n",
    "\\alpha_c (\\pmb F) = \\pmb F^n + \\alpha_1 \\pmb F^{n-1} + ..... + \\alpha_n \\pmb I\n",
    "\\end{equation}"
   ]
  },
  {
   "cell_type": "markdown",
   "metadata": {},
   "source": [
    "where the $\\alpha_i$ are the coefficient corresponding to the desired poles locations."
   ]
  },
  {
   "cell_type": "markdown",
   "metadata": {},
   "source": [
    "As an example it's simulated a control-law with different pole placement to show how the cart pendulum change the overshoot and robustness. \n",
    "```\n",
    "clear all, close all, clc\n",
    "\n",
    "m = 1;\n",
    "M = 5;\n",
    "L = 2;\n",
    "g = -10;\n",
    "d = 1;\n",
    "\n",
    "s = 1; % pendulum up (s=1)\n",
    "\n",
    "A = [0 1 0 0;\n",
    "    0 -d/M -m*g/M 0;\n",
    "    0 0 0 1;\n",
    "    0 -s*d/(M*L) -s*(m+M)*g/(M*L) 0];\n",
    "\n",
    "B = [0; 1/M; 0; s*1/(M*L)];\n",
    "eig(A)\n",
    "\n",
    "rank(ctrb(A,B))  % is it controllable\n",
    "\n",
    "%%  Pole placement\n",
    "% For more complex case a more reliable formula is available with \n",
    "% function place\n",
    "% p is a vector of desired eigenvalues\n",
    "p0 = [-.01; -.02; -.03; -.04]; % not enough\n",
    "p1 = [-.3; -.4; -.5; -.6];  % just barely\n",
    "p2 = [-1; -1.1; -1.2; -1.3]; % good\n",
    "p3 = [-2; -2.1; -2.2; -2.3]; % aggressive\n",
    "p4 = [-3; -3.1; -3.2; -3.3]; % aggressive\n",
    "%p = [-3.5; -3.6; -3.7; -3.8]; % breaks\n",
    "% create a list of vectors\n",
    "list_p = {p1,p2,p3,p4};\n",
    "% K = lqr(A,B,Q,R);\n",
    "\n",
    "% Plot a list of non-minimum phase zero \n",
    "for k = 1:numel(list_p)\n",
    "    tspan = 0:.001:30;\n",
    "    vec_p = list_p{k};\n",
    "    % Used place instead acker function\n",
    "    K = place(A,B,vec_p)\n",
    "    y0 = [-3; 0; pi+.1; 0];\n",
    "    [t,y] = ode45(@(t,y)cartpend(y,m,M,L,g,d,-K*(y-[1; 0; pi; 0])),tspan,y0);    \n",
    "    plot(t,y(:,1)); hold on;\n",
    "end\n",
    "```\n",
    "Print out the K values:\n",
    "```\n",
    "K =\n",
    "\n",
    "   -0.0360   -1.3420   71.9720   18.6840\n",
    "\n",
    "\n",
    "K =\n",
    "\n",
    "   -1.7160   -7.0260  142.5320   58.0520\n",
    "\n",
    "\n",
    "K =\n",
    "\n",
    "  -21.2520  -40.6460  379.6040  165.2920\n",
    "\n",
    "\n",
    "K =\n",
    "\n",
    "  -98.2080 -125.8660  851.5160  375.7320\n",
    "```"
   ]
  },
  {
   "cell_type": "markdown",
   "metadata": {},
   "source": [
    "|          |\n",
    "|:----------:|\n",
    "|![modalblock\\label{modalblock}](images/poleplacement.png)|"
   ]
  },
  {
   "cell_type": "markdown",
   "metadata": {},
   "source": [
    "<p style=\"text-alignment=left;\"><a name=\"fig9\">Fig. 9</a> - Some $K$ values based on different pole placement. The start position is x = -3 and $\\theta= \\pi +0.1$. Finale reference position is x = 1 $\\theta = \\pi$. It's worthwhile to note than more aggressively is equal to require more energy and less robustness </p>"
   ]
  },
  {
   "cell_type": "markdown",
   "metadata": {},
   "source": [
    "It should be to note the system has to work harder to move pole long way (large gains) and reduce the control effort. In addition it's necessary to mention that the more aggressive will be my control the less robust the system will be because non linearity comes out respect the approximation done."
   ]
  },
  {
   "cell_type": "markdown",
   "metadata": {},
   "source": [
    "## How to select pole locations for a good design\n",
    "As shown before, when selecting pole location it is always useful to keep in mind that control effort required is related to how far the open loop poles are moved by the feedback. Furthermore, when a zero is near a pole, the system may be nearly uncontrollable. The designer philosophy will take in account to fix only the undesirable aspects of the open loop response and avoids either large increases bandwidth or efforts to move poles that are near zeros will typically allow smaller gains, and thus smaller controls actuators.\n",
    "There are 2 main ways to overcome the problem. First deals dominant second order poles, second is Linear Quadratic Regulator; in this paper it will be show the second because more suited with state variables in feedback controls for higher dimension."
   ]
  },
  {
   "cell_type": "markdown",
   "metadata": {},
   "source": [
    "### Linear quadratic regulator\n",
    "\n",
    "We have seen in the previous sections that if $(F, G)$ is controllable, then it is possible to arbitrarily manipulate the eigenvalues of the closed-loop system $(\\pmb{A − BK})$ through choice of a full-state feedback control law $u = −\\pmb{Kx}$. This implicitly assumes that full-state measurements are available (i.e., $H = I$ and $J = 0$, so that $\\pmb y = \\pmb x$). Given a controllable system, and either measurements of the full-state or an observable system with a full-state estimate, there are many choices of stabilizing control laws $u = −\\pmb{Kx}$. It is possible to make the eigenvalues of the closed-loop system ($\\pmb A − \\pmb{BK})$ arbitrarily stable, placing them as far as desired in the left-half of the complex plane. However, overly stable eigenvalues may require exceedingly expensive control expenditure and might also result in actuation signals that exceed maximum allowable values. Choosing very stable eigenvalues may also cause the control system to over-react to noise and disturbances, much as a new driver will over-react to vibrations in the steering wheel, causing the closed-loop system to jitter. Over stabilization can counter-intuitively degrade robustness and may lead to instability if there are small time delays or unmodeled dynamics. Choosing the best gain matrix $\\pmb K$ to stabilize the system without expending too much control effort is an important goal in optimal control. A balance must be struck between the stability of the closed-loop system and the aggressiveness of control. It is important to take control expenditure into account:\n",
    " 1. to prevent the controller from over-reacting to high-frequency noise and disturbances\n",
    " 2. that actuation does not exceed maximum allowed amplitudes\n",
    " 3. that control is not prohibitively expensive. \n",
    "\n",
    "In particular, the cost function"
   ]
  },
  {
   "cell_type": "markdown",
   "metadata": {},
   "source": [
    "\\begin{equation}\n",
    "J(t) = \\int\\limits_{0}^{t} {\\pmb x(\\tau)^* \\pmb Q x(\\tau) + \\pmb u(\\tau)^* \\pmb R u(\\tau) d\\tau}\n",
    "\\label{eq:costfunc} \n",
    "\\end{equation}"
   ]
  },
  {
   "cell_type": "markdown",
   "metadata": {},
   "source": [
    "balances the cost of effective regulation of the state with the cost of control. The matrices **Q** and **R** weight the cost of deviations of the state from zero and the cost of actuation, respectively. The matrix **Q** is positive semi-definite, and **R** is positive definite; these matrices are often diagonal, and the diagonal elements may be tuned to change the relative importance of the control objectives.\n",
    "Adding such a cost function makes choosing the control law a well-posed optimization problem. The linear-quadratic-regulator (LQR) control law $u = −\\pmb K_r \\pmb x$ is designed to minimize $J = \\lim\\limits_{t \\to \\infty}{J(t)}$. LQR is so-named because it is a linear control law, designed for a linear system, minimizing a quadratic cost function, that regulates the state of the system to $J = \\lim\\limits_{t \\to \\infty}{\\pmb x(t) = \\pmb 0}$. Because the cost-function in $\\eqref{eq:costfunc}$ is quadratic, there is an analytical solution for the optimal controller gains $K_r$ , given by"
   ]
  },
  {
   "cell_type": "markdown",
   "metadata": {},
   "source": [
    "\\begin{equation}\n",
    "    \\pmb K_r = \\pmb R^{-1} \\pmb G^* \\pmb X\n",
    "\\end{equation}"
   ]
  },
  {
   "cell_type": "markdown",
   "metadata": {},
   "source": [
    "where $\\pmb X$ is the solution to an algebraic Riccati equation:"
   ]
  },
  {
   "cell_type": "markdown",
   "metadata": {},
   "source": [
    "\\begin{equation}\n",
    "    \\pmb{F^*X + XF - XGR^{-1}G^*X + Q}\n",
    "\\end{equation}"
   ]
  },
  {
   "cell_type": "markdown",
   "metadata": {},
   "source": [
    "Solving the above Riccati equation for $\\pmb X$, and hence for $\\pmb K_r$ , is numerically robust and already implemented in many programming languages. In Matlab, $K_r$ is obtained via :\n",
    "```\n",
    ">> Kr = lqr(F,G,Q,R);\n",
    "```"
   ]
  },
  {
   "cell_type": "markdown",
   "metadata": {},
   "source": [
    "Here picture LQR"
   ]
  },
  {
   "cell_type": "markdown",
   "metadata": {},
   "source": [
    "|           |\n",
    "|-----------|\n",
    "|![fig1.4](images/LQR.png)|"
   ]
  },
  {
   "cell_type": "markdown",
   "metadata": {},
   "source": [
    "<p><a name=\"LQR\"> Fig. 10 </a>- Solution for Linear Quadratic Regulator; full state system</p>"
   ]
  },
  {
   "cell_type": "markdown",
   "metadata": {},
   "source": [
    "# Estimator design with state variables\n",
    "The control law assumes that all the state variables are available for feed back. In most cases, not all the state variables are measured. The cost of the required sensors may be prohibitive, or it may be physically impossible to measure all of the state variables.\n",
    "One method of estimating the state is to construct a full order model of the plant dynamics:"
   ]
  },
  {
   "cell_type": "markdown",
   "metadata": {},
   "source": [
    "\\begin{equation}\n",
    "\\dot{\\hat{\\pmb x}} = \\pmb F \\pmb{\\hat x} + \\pmb G u\n",
    "\\label{eq:xhat} \n",
    "\\end{equation}"
   ]
  },
  {
   "cell_type": "markdown",
   "metadata": {},
   "source": [
    "where $\\pmb{\\hat x}$ is the estimate of the actual state $\\pmb x$. To study the dynamics of this estimator, we define the error in the estimate to be:"
   ]
  },
  {
   "cell_type": "markdown",
   "metadata": {},
   "source": [
    "\\begin{equation}\n",
    "\\tilde{\\pmb x} = \\pmb x - \\pmb{\\hat x}\n",
    "\\end{equation}"
   ]
  },
  {
   "cell_type": "markdown",
   "metadata": {},
   "source": [
    "Then the dynamics of this error system are given by:"
   ]
  },
  {
   "cell_type": "markdown",
   "metadata": {},
   "source": [
    "\\begin{equation}\n",
    "\\dot{\\tilde{\\pmb x}} = \\pmb F \\tilde{\\pmb x}, \\space  \\tilde{\\pmb x}(0)= \\pmb x(0) - \\hat{\\pmb x}(0)\n",
    "\\end{equation}"
   ]
  },
  {
   "cell_type": "markdown",
   "metadata": {},
   "source": [
    "The error convergences to zero for a stable system system (**F** stable), but we have no ability to influence the rate at which the state estimate converges to the true state. Furthermore, the error is converging to zero at the same rate as the natural dynamics of **F**. if this convergence rate were satisfactory, no control or estimation would be required. The golden rule is: when in trouble use feedback. Consider the feedback the difference between the measured and estimate outputs and correcting the model continuously with this error signal. The equation for this scheme is: "
   ]
  },
  {
   "cell_type": "markdown",
   "metadata": {},
   "source": [
    "\\begin{equation}\n",
    "\\dot{\\hat{\\pmb x}} = \\pmb F \\hat{\\pmb x} + \\pmb G u + \\pmb L(y - \\pmb H \\hat{\\pmb x})\n",
    "\\label{eq:dot_hat_x} \n",
    "\\end{equation}"
   ]
  },
  {
   "cell_type": "markdown",
   "metadata": {},
   "source": [
    "Here **L** is a proportional gain defined as:\n",
    "\\begin{equation}\n",
    "\\pmb L = [l_1,l_2,.....,l_n]^T\n",
    "\\end{equation}"
   ]
  },
  {
   "cell_type": "markdown",
   "metadata": {},
   "source": [
    "and is chosen to achieve satisfactory error characteristics. The dynamics of the error can be obtained by subtracting the estimate $\\eqref{eq:dot_hat_x}$ from $\\eqref{eq:stat-form}$ to get the error equation:"
   ]
  },
  {
   "cell_type": "markdown",
   "metadata": {},
   "source": [
    "\\begin{equation}\n",
    "    \\dot{\\tilde{\\pmb x}} = (\\pmb F - \\pmb LH)\\tilde{\\pmb x}\n",
    "\\end{equation}"
   ]
  },
  {
   "cell_type": "markdown",
   "metadata": {},
   "source": [
    "and the characteristic equation of the error is now given by:\n",
    "\n",
    "\\begin{equation}\n",
    "    det[s \\pmb I - (\\pmb{F - LH})] = 0\n",
    "    \\label{eq:det_est} \n",
    "\\end{equation}"
   ]
  },
  {
   "cell_type": "markdown",
   "metadata": {},
   "source": [
    "If we can choose $\\pmb L$ so that $\\pmb F - \\pmb{LH}$ has stable and reasonably fast eigenvalues, then $\\tilde{\\pmb x}$ will decay to zero and remain there independent of the known forcing function $u(t)$ and its effect on the state $x(t)$ and irrespective on the initial condition $\\tilde{\\pmb x}(0)$. This means that $\\hat{\\pmb x(t)}$ will converge to $\\pmb{x}(t)$, regardless of the value of $\\hat{\\pmb x}(0)$. However we can typically choose $\\pmb L$ so that the error system is still at least stable and the error remains acceptably small, even with modeling errors and disturbing inputs. The selection of $\\pmb L$ can be approached in exactly the same fashion as $\\pmb K$ is selected in the control law design. If we specify the desired location of the estimator error poles as:"
   ]
  },
  {
   "cell_type": "markdown",
   "metadata": {},
   "source": [
    "\\begin{equation}\n",
    "    s_i = \\beta_1, \\beta_2,....\\beta_n\n",
    "\\end{equation}"
   ]
  },
  {
   "cell_type": "markdown",
   "metadata": {},
   "source": [
    "then the desired estimator characteristic equation is:"
   ]
  },
  {
   "cell_type": "markdown",
   "metadata": {},
   "source": [
    "\\begin{equation}\n",
    "    \\alpha_e(s) = (s-\\beta_1)(s-\\beta_2)....(s-\\beta_n)\n",
    "    \\label{eq:char_eq} \n",
    "\\end{equation}"
   ]
  },
  {
   "cell_type": "markdown",
   "metadata": {},
   "source": [
    "We can then solve for $\\pmb L$ by comparing coefficients in Eqs. $\\eqref{eq:det_est}$ and $\\eqref{eq:char_eq}$."
   ]
  },
  {
   "cell_type": "markdown",
   "metadata": {},
   "source": [
    "## The observability\n",
    "As begun in the introduction it's time to spent some raw talking about the **observability** of state variables. In a development exactly parallel with the control-law case, we can find a transformation to take a given system to observer canonical form if and only if the system has structural properties that in this case we call as mention just like above. Roughly speaking, observability refers to our ability to deduce information about all the modes of the system by monitoring only the sensed outputs. Not observability results when some mode or subsystem is disconnected physically from the output and therefore no longer appears in the measurements. The mathematical test for determining observability is that the **observability matrix**:  "
   ]
  },
  {
   "cell_type": "markdown",
   "metadata": {},
   "source": [
    "\\begin{equation}\n",
    "\\mathcal{O} = \\begin{bmatrix}\n",
    "\\pmb H\\\\\n",
    "\\pmb{HF}\\\\\n",
    "..\\\\\n",
    "..\\\\\n",
    "\\pmb{HF}^{n-1}\n",
    "\\end{bmatrix}\n",
    "\\label{eq:obs_mat}\n",
    "\\end{equation}"
   ]
  },
  {
   "cell_type": "markdown",
   "metadata": {},
   "source": [
    "must have independent columns. In general, we can find a transformation to observer canonical form if and only if the observability matrix is nonsingular (full rank).Note that is analogous to our earlier conclusion for transforming system matrices to control canonical form.\n",
    "As with control law design, we could find the transformation to observer form, compute the gains from the equivalent of $\\pmb F_o - \\pmb L \\pmb H_o$ and transform back. An alternative method of computing $\\pmb L$ is to use the Ackermann's formula in estimator form: "
   ]
  },
  {
   "cell_type": "markdown",
   "metadata": {},
   "source": [
    "\\begin{equation}\n",
    "\\pmb L = \\alpha_e(\\pmb F)\\mathcal{O}^{-1}\n",
    "\\begin{bmatrix}\n",
    "0 \\\\\n",
    "0 \\\\\n",
    ".. \\\\\n",
    ".. \\\\\n",
    "1 \\\\\n",
    "\\end{bmatrix} \n",
    "\\end{equation}"
   ]
  },
  {
   "cell_type": "markdown",
   "metadata": {},
   "source": [
    "where $\\mathcal{O}$ is the observability matrix given in $\\eqref{eq:obs_mat}$."
   ]
  },
  {
   "cell_type": "markdown",
   "metadata": {},
   "source": [
    "### Hand-on labs of observability of the cart-pendulum\n",
    "This code snippet goes to calculate the observability matrix when our measurement matrix **H** (in the code is C) select a sensor related to x cart position and then reply the calculation for $\\theta$ measurement. It can be note the determinant is nonzero (full rank) in the first trial and zero in the second one. in particular  tuns out that in the second is impossible to reconstruct the x position because that coordinate does not affect the others; equations of cart pendulum are invariant for translations in x position. It's important reconstruct the cart position to have full estimate of state variable putting them in the LQR block for resulting compensator placed in the feed back (as it will see later).\n",
    "\n",
    "```\n",
    "clear all, close all, clc\n",
    "\n",
    "m = 1;\n",
    "M = 5;\n",
    "L = 2;\n",
    "g = -10;\n",
    "d = 1;\n",
    "\n",
    "s = -1; % pendulum up (s=1)\n",
    "\n",
    "A = [0 1 0 0;\n",
    "    0 -d/M -m*g/M 0;\n",
    "    0 0 0 1;\n",
    "    0 -s*d/(M*L) -s*(m+M)*g/(M*L) 0];\n",
    "\n",
    "B = [0; 1/M; 0; s*1/(M*L)];\n",
    "\n",
    "C = [1 0 0 0]; \n",
    "\n",
    "obsv(A,C)\n",
    "det(obsv(A,C))\n",
    "\n",
    "%%  only observable if x measured... because x can't be\n",
    "%% reconstructed\n",
    "C = [0 0 1 0];\n",
    "\n",
    "obsv(A,C)\n",
    "det(obsv(A,C))\n",
    "```\n",
    "The terminal result:\n",
    "```\n",
    "ans =\n",
    "\n",
    "    1.0000         0         0         0\n",
    "         0    1.0000         0         0\n",
    "         0   -0.2000    2.0000         0\n",
    "         0    0.0400   -0.4000    2.0000\n",
    "\n",
    "\n",
    "ans =\n",
    "\n",
    "     4\n",
    "\n",
    "\n",
    "ans =\n",
    "\n",
    "         0         0    1.0000         0\n",
    "         0         0         0    1.0000\n",
    "         0    0.1000   -6.0000         0\n",
    "         0   -0.0200    0.2000   -6.0000\n",
    "\n",
    "\n",
    "ans =\n",
    "\n",
    "     0\n",
    "```\n",
    "---"
   ]
  },
  {
   "cell_type": "markdown",
   "metadata": {},
   "source": [
    "## Estimator pole selection. The optimal full-state estimation \n",
    "In comparison with the selection of controllers poles, estimator pole selection require us to be concerned with a much different relationship than with control effort. As in controller, there is a feedback term in the estimator that grows in magnitude as the requested speed of response increases. However this feedback is in the form of an electronic signal or a digital word in a computer, so its growth causes no special difficulty. The important consequence of increasing the speed of response of an estimator is that the bandwidth of the estimator becomes higher, thus causing more sensor noise to pass on to the control actuator. Like the controller the estimator design (and the poles selection) is a balance between good transient response and low-enough bandwidth that sensor noise does not significantly impair the actuator activity.   \n",
    "When deriving the optimal full-state estimator, it is necessary to re-introduce disturbances to the state, $\\pmb w_d$ , and sensor noise, $\\pmb w_n$ :"
   ]
  },
  {
   "cell_type": "markdown",
   "metadata": {},
   "source": [
    "\\begin{align}\\label{eq:augsys} \n",
    "\\dot{\\pmb x} &= \\pmb{Fx} + \\pmb{Gu} + \\pmb{w}_d\\\\\n",
    "\\pmb y &= \\pmb Hx + \\pmb Ju + \\pmb{w}_n \n",
    "\\end{align}"
   ]
  },
  {
   "cell_type": "markdown",
   "metadata": {},
   "source": [
    "By hypothesis is assumed that disturbance and noise are zero-mean Gaussian processes with known covariances:"
   ]
  },
  {
   "cell_type": "markdown",
   "metadata": {},
   "source": [
    "\\begin{align}\n",
    "E(\\pmb{w}_d(t) \\pmb{w}_d(\\tau)^*) &= Q \\delta (t - \\tau)\\\\\n",
    "E(\\pmb{w}_n(t) \\pmb{w}_n(\\tau)^*) &= R \\delta (t - \\tau)\n",
    "\\end{align}"
   ]
  },
  {
   "cell_type": "markdown",
   "metadata": {},
   "source": [
    "Here $E$ is the expected value and $\\delta (.)$ is the Dirac delta function. The matrices $Q$ and $R$ are positive semi-definite with entries containing the covariances of the disturbance and noise terms. It is possible to obtain an estimate $\\hat{\\pmb x}$ of the full-state $\\pmb x$ from measurements of the input $\\pmb u$ and output $\\pmb y$, via the following estimator dynamical system:"
   ]
  },
  {
   "cell_type": "markdown",
   "metadata": {},
   "source": [
    "\\begin{align}\\label{eq:estimator}\n",
    "\\dot{\\hat{\\pmb x}} &= \\pmb F \\hat{\\pmb x} + \\pmb Gu + \\pmb L (\\pmb y - \\hat{\\pmb y})\\\\\n",
    "\\hat{\\pmb y} &= \\pmb H \\hat{\\pmb x} + \\pmb Ju\n",
    "\\end{align}"
   ]
  },
  {
   "cell_type": "markdown",
   "metadata": {},
   "source": [
    "The matrices $\\pmb F, \\pmb G, \\pmb H, \\pmb J$ are obtained from the system model and the filter\n",
    "gain $\\pmb L$ f is determined via a similar procedure as in LQR. $\\pmb L$ is given by:"
   ]
  },
  {
   "cell_type": "markdown",
   "metadata": {},
   "source": [
    "\\begin{equation}\n",
    "\\pmb L = \\pmb Y \\pmb H^* \\pmb R\n",
    "\\end{equation}"
   ]
  },
  {
   "cell_type": "markdown",
   "metadata": {},
   "source": [
    "where $\\pmb Y$ is the solution to another algebraic Riccati equation:"
   ]
  },
  {
   "cell_type": "markdown",
   "metadata": {},
   "source": [
    "\\begin{equation}\n",
    "    \\pmb YF^* + \\pmb FY - \\pmb{YH}^* \\pmb R^{-1} \\pmb H \\pmb Y + \\pmb Q = \\pmb 0\n",
    "\\end{equation}"
   ]
  },
  {
   "cell_type": "markdown",
   "metadata": {},
   "source": [
    "This solution is commonly referred to as the Kalman filter, and it is the optimal full-state estimator with respect to the following cost function:"
   ]
  },
  {
   "cell_type": "markdown",
   "metadata": {},
   "source": [
    "\\begin{equation}\n",
    "    J = \\lim\\limits_{t \\to \\infty} {E[\\tilde x(t)^* \\tilde x(t)]}\n",
    "\\end{equation}"
   ]
  },
  {
   "cell_type": "markdown",
   "metadata": {},
   "source": [
    "This cost function implicitly includes the effects of disturbance and noise, which are required to determine the optimal balance between aggressive estimation and noise attenuation. Thus, the Kalman filter is referred to as linear quadratic estimation (LQE), and has a dual formulation to the LQR optimization.\n",
    "The estimator dynamical system is expressed in terms of the estimate $\\hat{\\pmb x}$ with inputs $\\pmb y$ and $\\pmb u$. If the system is observable it is possible to place the eigenvalues of $\\pmb F − \\pmb L \\pmb H$ arbitrarily with choice of $\\pmb L$ . When the eigenvalues of the estimator are stable, then the state estimate $\\hat{\\pmb x}$ converges to the full-state $\\pmb x$ asymptotically, as long as the model faithfully captures the true system dynamics. To see this convergence, consider the dynamics of the estimation error $\\pmb{\\epsilon} = \\pmb x − \\pmb{\\hat x}$:"
   ]
  },
  {
   "cell_type": "markdown",
   "metadata": {},
   "source": [
    "\\begin{align}\n",
    "\\dot{\\pmb{\\epsilon}} &= {\\pmb{x}} - \\hat{\\pmb{x}} \\nonumber\\\\\n",
    "                     &= [\\pmb{Fx} + \\pmb{Gu} + \\pmb{w}_d] - [(\\pmb F - \\pmb{LH}) \\hat{\\pmb x} + \\pmb{Ly} + (\\pmb G - \\pmb{LJ})\\pmb u]\\\\\n",
    "                     &= (\\pmb F - \\pmb{LH}) \\epsilon + \\pmb w_d - \\pmb L \\pmb w_n \\nonumber\n",
    "\\end{align}"
   ]
  },
  {
   "cell_type": "markdown",
   "metadata": {},
   "source": [
    "Therefore, the estimate $\\hat{\\pmb x}$ will converge to the true full state when $\\pmb F − \\pmb L \\pmb H$ has stable eigenvalues. As with LQR, there is a trade-off between over-stabilization of these eigenvalues and the amplification of sensor noise. This is similar to the behavior of an inexperienced driver who may hold the steering wheel too tightly and will overreact to every minor bump and disturbance on the road."
   ]
  },
  {
   "cell_type": "markdown",
   "metadata": {},
   "source": [
    "### Plant disturbance and Noise measurement. Hand-on labs\n",
    "To give a demostration of best choise of $L \\equiv K_f$ it's considered a system with $J=0$ in $\\eqref{eq:augsys}$ and pendulum in bottom position. It's better create a practical solution around a stable equilibrium point because the algebra is the same. The system represented in the <a href=#fig5>picture</a> shows the linearized system with input $u$ to be the force applied to the cart pendulum, $w_d$ the gaussian zero-mean disturbance applied to the model and the cart position ($\\pmb H=[1 0 0 0]$) noised as output of state variable observed. The goal is reconstruct the full state estimate. To do it is necessary to re-represent the system like 4 *augmented* blocks to feed in Matlab functions:     "
   ]
  },
  {
   "cell_type": "markdown",
   "metadata": {},
   "source": [
    "\\begin{align}\n",
    "\\pmb Q &= 0.1 \\pmb{I} & \\pmb x = \\begin{bmatrix} x\\\\ \\dot x\\\\ \\theta\\\\      \\dot{\\theta} \\end{bmatrix}\\\\\n",
    "R &= 1   \n",
    "\\end{align}"
   ]
  },
  {
   "cell_type": "markdown",
   "metadata": {},
   "source": [
    "\\begin{equation} \\label{eq:aug-eqs}\n",
    "\\begin{split}\n",
    "\\pmb{G}_A & = \\begin{bmatrix}\\pmb G & \\pmb Q & \\pmb{\\underline{0}}x \\pmb B\\end{bmatrix}\\\\\n",
    "\\pmb{F}_A & = \\pmb{F}\\\\\n",
    "\\pmb{H}_A & = \\pmb H\\\\\n",
    "\\pmb{J}_A & = \\begin{bmatrix} 0 & 0 & 0 & 0 & 0 & R \\end{bmatrix}\n",
    "\\end{split}\n",
    "\\end{equation}"
   ]
  },
  {
   "cell_type": "markdown",
   "metadata": {},
   "source": [
    "---"
   ]
  },
  {
   "cell_type": "markdown",
   "metadata": {},
   "source": [
    "|       | \n",
    "|:-------:|\n",
    "|![fig5](images/kfscheme.png)|"
   ]
  },
  {
   "cell_type": "markdown",
   "metadata": {},
   "source": [
    "<p><a name=\"fig11\">Fig 11</a> A scheme of Kalman Filter; d and n are disturbance of state system and noise measurement introduced in the simulation</p>"
   ]
  },
  {
   "cell_type": "markdown",
   "metadata": {},
   "source": [
    "According to the equations $\\eqref{eq:estimator}$, by inspecting $\\eqref{eq:stat-form}$ and $\\eqref{eq:output}$ the *new* estimator-system matrices are:"
   ]
  },
  {
   "cell_type": "markdown",
   "metadata": {},
   "source": [
    "\\begin{equation}\n",
    "\\label{eq:kalman-system}\n",
    "\\begin{split}\n",
    "\\pmb{F}_k &= \\pmb F - \\pmb{K}_f \\pmb H\\\\\n",
    "\\pmb{G}_k &= \\begin{bmatrix}\\pmb G \\pmb{K}_f \\end{bmatrix}\\\\\n",
    "\\pmb{H}_k &= \\pmb I\\\\\n",
    "\\pmb{J}_k &= \\pmb{0}\n",
    "\\end{split}\n",
    "\\end{equation}"
   ]
  },
  {
   "cell_type": "markdown",
   "metadata": {},
   "source": [
    "The input $u$ is augmented also to taking into account of disturbance plant and noise measurement:"
   ]
  },
  {
   "cell_type": "markdown",
   "metadata": {},
   "source": [
    "\\begin{equation}\n",
    "\\label{eq:u_noise}\n",
    "\\pmb{u}_{aug} = \\begin{bmatrix} u & {Q}^2 * \\pmb{u}_{dist} & u_{noise}\\end{bmatrix}\n",
    "\\end{equation}"
   ]
  },
  {
   "cell_type": "markdown",
   "metadata": {},
   "source": [
    "The code:\n",
    "```\n",
    "clear all, close all, clc\n",
    "\n",
    "m = 1;\n",
    "M = 5;\n",
    "L = 2;\n",
    "g = -10;\n",
    "d = 1;\n",
    "\n",
    "s = -1; % pendulum up (s=1)\n",
    "\n",
    "% y = [x; dx; theta; dtheta];\n",
    "F = [0 1 0 0;\n",
    "    0 -d/M -m*g/M 0;\n",
    "    0 0 0 1;\n",
    "    0 -s*d/(M*L) -s*(m+M)*g/(M*L) 0];\n",
    "\n",
    "G = [0; 1/M; 0; s*1/(M*L)];\n",
    "\n",
    "H = [1 0 0 0];  \n",
    "\n",
    "J = zeros(size(H,1),size(G,2));\n",
    "\n",
    "%%  Augment system with disturbances and noise\n",
    "Q = .1*eye(4);  % disturbance covariance\n",
    "R = 1;       % noise covariance\n",
    "\n",
    "GA = [G Q 0*G];  % augment inputs to include disturbance and noise\n",
    "\n",
    "sysH = ss(F,GA,H,[0 0 0 0 0 R]);  % build big state space system... with single output\n",
    "\n",
    "% system with full state output, disturbance, no noise\n",
    "sysFullOutput = ss(F,GA,eye(4),zeros(4,size(GA,2)));  \n",
    "\n",
    "%%  Build Kalman filter\n",
    "[L,P,E] = lqe(F,Q,H,Q,R);  % design Kalman filter\n",
    "Kf = (lqr(F',H',Q,R))';   % alternatively, possible to design using \"LQR\" code\n",
    "\n",
    "sysKF = ss(F-L*H,[G L],eye(4),0*[G L]);  % Kalman filter estimator\n",
    "\n",
    "%%  Estimate linearized system in \"down\" position (Gantry crane)\n",
    "dt = .01;\n",
    "t = dt:dt:50;\n",
    "\n",
    "uDIST = randn(4,size(t,2));\n",
    "uNOISE = randn(size(t));\n",
    "u = 0*t;\n",
    "u(100:120) = 100;     % impulse\n",
    "u(1500:1520) = -100;  % impulse\n",
    "\n",
    "uAUG = [u; Q*Q*uDIST; uNOISE];\n",
    "\n",
    "[y,t] = lsim(sysC,uAUG,t);\n",
    "[xtrue,t] = lsim(sysFullOutput,uAUG,t);\n",
    "\n",
    "\n",
    "[x,t] = lsim(sysKF,[u; y'],t);\n",
    "\n",
    "plot(t,xtrue,'-',t,x,'--','LineWidth',2)\n",
    "\n",
    "figure\n",
    "plot(t,y)\n",
    "hold on\n",
    "plot(t,xtrue(:,1),'r')\n",
    "plot(t,x(:,1),'k--')\n",
    "```\n",
    "---"
   ]
  },
  {
   "cell_type": "markdown",
   "metadata": {},
   "source": [
    "|         |\n",
    "|:---------:|\n",
    "|![graph](images/cartpendxpos.png)|\n",
    "<p> <a name=\"simnoise\"> Fig. 12 </a> Simulation of a noise position from an impulse system. Estimate position \"cover\" the true</p>\n",
    "\n",
    "|         |\n",
    "|:---------:|\n",
    "|![graph-est](images/true-estimate.png)|\n",
    "<p> <a name=\"true-estimate\"> Fig. 13 </a> Showing the state variable \"true\" and estimate</p>"
   ]
  },
  {
   "cell_type": "markdown",
   "metadata": {},
   "source": [
    "With the estimate state, it's the time to \"*feedback*\" it in a Linear Quadratic Regulator to combine control and estimation together. "
   ]
  },
  {
   "cell_type": "markdown",
   "metadata": {},
   "source": [
    "## Optimal sensor-based control: Linear quadratic Gaussian (LQG)\n",
    "The full-state estimate from the Kalman filter is generally used in conjunction\n",
    "with the full-state feedback control law from LQR, resulting in optimal sensor-\n",
    "based feedback. Remarkably, the LQR gain $K_r$ and the Kalman filter gain $K_f$\n",
    "may be designed separately, and the resulting sensor-based feedback will re-\n",
    "main optimal and retain the closed-loop eigenvalues when combined.\n",
    "Combining the LQR full-state feedback with the Kalman filter full-state estimator results in the linear-quadratic Gaussian (LQG) controller. The LQG controller is a dynamical system with input y, output u, and internal state $\\hat{\\pmb x}$:"
   ]
  },
  {
   "cell_type": "markdown",
   "metadata": {},
   "source": [
    "\\begin{equation} \\label{eq:LQGsys}\n",
    "\\begin{split}\n",
    "\\frac{d}{dt}\\hat{\\pmb x} =& (\\pmb F - \\pmb{K}_f \\pmb H - \\pmb G \\pmb{K}_r) \\hat{\\pmb x} + \\pmb{K}_f \\pmb y\\\\\n",
    "\\pmb u =& -\\pmb K_r \\hat{\\pmb x} \n",
    "\\end{split}\n",
    "\\end{equation}"
   ]
  },
  {
   "cell_type": "markdown",
   "metadata": {},
   "source": [
    "The LQG controller is optimal with respect to the following ensemble-averaged\n",
    "version of the cost function from $\\eqref{eq:costfunc}$:"
   ]
  },
  {
   "cell_type": "markdown",
   "metadata": {},
   "source": [
    "\\begin{equation}\n",
    "\\label{eq:costfunc2}\n",
    "J(t) = \\left\\langle \n",
    "\\int\\limits_0^{t} [\\pmb x(\\tau)^* \\pmb Q \\pmb x(\\tau) + \\pmb u(\\tau)^* \\pmb R \\pmb u(\\tau)  d\\tau]  \n",
    "\\right\\rangle.\n",
    "\\end{equation}"
   ]
  },
  {
   "cell_type": "markdown",
   "metadata": {},
   "source": [
    "The controller $\\pmb u = \\pmb K_r \\hat{\\pmb x}$ is in terms of the state estimate, and so this cost\n",
    "function must be averaged over many realizations of the disturbance and noise.\n",
    "Applying LQR to x̂ results in the following state dynamics:"
   ]
  },
  {
   "cell_type": "markdown",
   "metadata": {},
   "source": [
    "\\begin{equation}\n",
    "\\begin{split}\n",
    "\\frac{d}{dt} \\pmb x =& \\pmb F \\pmb x - \\pmb G \\pmb K_r \\hat{\\pmb x} + \\pmb w_d\\\\\n",
    "                    =& \\pmb F \\pmb x - \\pmb G \\pmb K_r {\\pmb x} + \\pmb G \\pmb K_r(\\pmb{x-\\hat x}) + \\pmb w_d\\\\\n",
    "                    =& \\pmb F \\pmb x - \\pmb G \\pmb K_r {\\pmb x} + \\pmb G \\pmb K_r \\pmb \\epsilon + \\pmb w_d\n",
    "\\end{split}\n",
    "\\end{equation}"
   ]
  },
  {
   "cell_type": "markdown",
   "metadata": {},
   "source": [
    "Again $\\pmb \\epsilon = \\pmb{x - \\hat x}$ as before. Finally the closed-loop system may be written as"
   ]
  },
  {
   "cell_type": "markdown",
   "metadata": {},
   "source": [
    "\\begin{align}\n",
    "\\label{eq:clsys}\n",
    "\\frac{d}{dt}\n",
    "\\begin{bmatrix} \n",
    "\\pmb x\\\\\n",
    "\\pmb \\epsilon   \n",
    "\\end{bmatrix} = \n",
    "\\begin{bmatrix}\n",
    "\\pmb F - \\pmb G \\pmb K_r & \\pmb{GK}_r\\\\\n",
    "\\pmb 0 & \\pmb F - \\pmb K_f \\pmb H\n",
    "\\end{bmatrix}\n",
    "\\begin{bmatrix}\n",
    "\\pmb x\\\\\n",
    "\\pmb \\epsilon \n",
    "\\end{bmatrix}\n",
    "+\n",
    "\\begin{bmatrix}\n",
    "\\pmb I & \\pmb 0\\\\\n",
    "\\pmb I & -\\pmb K_f\n",
    "\\end{bmatrix}\n",
    "\\begin{bmatrix}\n",
    "\\pmb w_d\\\\\n",
    "\\pmb w_n\n",
    "\\end{bmatrix}\n",
    "\\end{align}\n"
   ]
  },
  {
   "cell_type": "markdown",
   "metadata": {},
   "source": [
    "Thus, the closed-loop eigenvalues of the LQG regulated system are given by\n",
    "the **eigenvalues** of $\\pmb F − \\pmb{GK}_r$ and $\\pmb F − \\pmb K_f \\pmb H$, which were optimally chosen by the\n",
    "LQR and Kalman filter gain matrices, respectively. This in control theory is called **the separation principle** which essentially means it's possible design the LQR and LQE separately and when they are combined together the system retains the desirable properties of each of them.  "
   ]
  },
  {
   "cell_type": "markdown",
   "metadata": {},
   "source": [
    "|           |\n",
    "|:---------:|\n",
    "|![Here LQG](images/LQGblock.png)|\n",
    "\n",
    "<p><a name=\"LQG\">Fig 14</a> Schematic illustrating the linear quadratic Gaussian (LQG) controller for optimal closed-loop feedback based on noisy measurements y. The optimal LQR and Kalman filter gain matrices $K_r$ and $K_f$ may be designed independently, based on two different algebraic Riccati equations. When combined,the resulting sensor-based feedback remains optimal.</p>"
   ]
  },
  {
   "cell_type": "markdown",
   "metadata": {},
   "source": [
    "It's worthwhile to mention that LQG framework relies on an accurate model of the system and knowledge of the magnitudes of the disturbances and measurement noise, which are assumed to be Gaussian processes. In real-world\n",
    "systems, each of these assumptions may be invalid, and even small time delays and model uncertainty may destroy the robustness of LQG and result in instability. The lack of robustness of LQG regulators to model uncertainty\n",
    "motivates the introduction of *robust control*. For example, it is possible to robustify LQG regulators through a process known as *loop-transfer recovery*. However, despite robustness issues, LQG control is extremely effective\n",
    "for many systems, and is among the most common control paradigms."
   ]
  },
  {
   "cell_type": "markdown",
   "metadata": {},
   "source": [
    "### Apply LQG to put all togheter. Hand-on lab\n",
    "\n",
    "To apply an LQG regulator to the inverted pendulum on a cart, we will simulate the full nonlinear system in Simulink, as shown in <a href=\"#LQG\">figure 9</a>.\n",
    "The non-linear cart pendulum is connected by the force $u$ and a gaussian random noise disturbance that affected the model. The output of the cart-pendulum is the state-variable vector connected with $\\pmb H$ matrix to go input in the estimator block only with the position-cart sensor noise measurement gaussian distributed also; the relation is $y = \\pmb H \\pmb x + w_n$. The Kalman filter reconstruct the full state variable for the compensator block.  "
   ]
  },
  {
   "cell_type": "markdown",
   "metadata": {},
   "source": [
    "|           |\n",
    "|:---------:|\n",
    "|![fig9](images/LQG.png)|\n",
    "\n",
    "<p><a id=\"LQG\">Fig. 15 </a> Matlab Simulink model for sensor-based LQG feedback control.</p>"
   ]
  },
  {
   "cell_type": "markdown",
   "metadata": {},
   "source": [
    "The system starts near the vertical equilibrium, at $\\pmb x_0 = [0, 0, 3.14, 0]$, and **it's commanded a step** in the cart position from x = 0 to x = 1 at t = 10. The resulting response is shown in <a href=\"#stateLQG\">figure 16</a>. Despite noisy measurements (<a href=\"#positionLQG\">figure 17</a>) and disturbances (<a href=\"#noiseLQG\">figure 18</a>), the controller is able to effectively track the reference cart position while stabilizing the inverted pendulum."
   ]
  },
  {
   "cell_type": "markdown",
   "metadata": {},
   "source": [
    "|           |\n",
    "|:---------:|\n",
    "|![figure10](images/stateLQG.png)|\n",
    "<p><a id=\"stateLQG\">Fig. 16</a> Output response using LQG feedback control.</p>\n",
    "\n",
    "|           |\n",
    "|:---------:|\n",
    "|![figure11](images/positionLQG.png)|\n",
    "<p><a id=\"positionLQG\">Fig. 17</a> Noisy measurement used for the Kalman filter, along with the underlying noiseless signal and the Kalman filter estimate.</p>\n",
    "\n",
    "|           |\n",
    "|:---------:|\n",
    "|![figure12](images/noiseLQG.png)|\n",
    "<p><a id=\"noiseLQG\">Fig. 18</a> Noisy measurement used for the Kalman filter, along with the underlying noiseless signal and the Kalman filter estimate</p>"
   ]
  },
  {
   "cell_type": "markdown",
   "metadata": {},
   "source": [
    "The m-code set some values needed for the simulation\n",
    "```\n",
    "clear all, close all, clc\n",
    "\n",
    "%% Set cart-pendulum parameters\n",
    "m = 1;\n",
    "M = 5;\n",
    "L = 2;\n",
    "g = -10;\n",
    "d = 1;\n",
    "\n",
    "s = 1; % pendulum up (s=1)\n",
    "%% Base system Matrices\n",
    "F = [0 1 0 0;\n",
    "    0 -d/M -m*g/M 0;\n",
    "    0 0 0 1;\n",
    "    0 -s*d/(M*L) -s*(m+M)*g/(M*L) 0];\n",
    "\n",
    "G = [0; 1/M; 0; s*1/(M*L)];\n",
    "\n",
    "% Set cart-position\n",
    "H = [1 0 0 0];  \n",
    "\n",
    "J = zeros(size(H,1),size(G,2));\n",
    "\n",
    "%% Linear Quadratic Regulator\n",
    "Q = [1 0 0 0;\n",
    "    0 1 0 0;\n",
    "    0 0 1 0;\n",
    "    0 0 0 1];\n",
    "R = .000001;\n",
    "K = lqr(F,G,Q,R);  % design controller u = -K*x\n",
    "\n",
    "\n",
    "%% Augmented system\n",
    "%  Augment system with disturbances and noise\n",
    "Vdmag = .04;\n",
    "Vd = Vdmag*eye(4);  % disturbance covariance\n",
    "Vn = .0002;       % noise covariance\n",
    "\n",
    "% GF sysC sysFulloutput not used in Simulink\n",
    "GF = [G Vd 0*G];  % augment inputs to include disturbance and noise\n",
    "sysC = ss(F,GF,H,[0 0 0 0 0 Vn]);  % build big state space system... with single output\n",
    " % system with full state output, disturbance, no noise\n",
    "sysFullOutput = ss(F,GF,eye(4),zeros(4,size(GF,2))); \n",
    "\n",
    "%  Build Kalman filter 2 alternatives\n",
    "[L,P,E] = lqe(F,eye(4),H,Vd,Vn);  % design Kalman filter\n",
    "Kf = (lqr(F',H',Vd,Vn))';   % alternatively, possible to design using \"LQR\" code\n",
    "\n",
    "% The system matrices for LQE. Used in Simulink\n",
    "sysKF = ss(F-Kf*H,[G Kf],eye(4),0*[G Kf]);  % Kalman filter estimator\n",
    "\n",
    "```"
   ]
  },
  {
   "cell_type": "markdown",
   "metadata": {},
   "source": [
    "# Reference input and robust tracking control with state-variables\n",
    "\n",
    "## Introducing a reference input with full state feedback\n",
    "\n",
    "In order to study the transient response of the pole placement designs to input commands, it's necessary to introduce the reference input into the system. An obvious way to do this is to change the control to $u = -\\pmb K \\pmb x + r$. However, the system will now almost surely have a non zero steady-state error to a step input.\n",
    "If the desired final values of the state and the control input are $\\pmb x_{ss}$ and $u_{ss}$ respectively, then the new control formula should be "
   ]
  },
  {
   "cell_type": "markdown",
   "metadata": {},
   "source": [
    "\\begin{equation}\n",
    "u = u_{ss} - \\pmb K(\\pmb x - \\pmb x_{ss})\n",
    "\\label{eq:u-steady-state}\n",
    "\\end{equation}"
   ]
  },
  {
   "cell_type": "markdown",
   "metadata": {},
   "source": [
    "so that when $\\pmb x = \\pmb x_{ss}$ (no error), $u = u_{ss}$. To pick the correct final values, we must solve the equations so that the system will have zero steady-state error to any constant input. The system differential equations are defined by $\\eqref{eq:stat-form}$ and $\\eqref{eq:output}$; in the constant steady state they are reduced to the pair:\n",
    "\n",
    "\n",
    "\\begin{align}\n",
    "\\mathbf{0} &= \\pmb F \\pmb x_{ss} + \\pmb G u_{ss}\\\\\n",
    "y_{ss} &= \\pmb H \\pmb x_{ss} + J u_{ss}\n",
    "\\label{eq:ss-equations}\n",
    "\\end{align}\n",
    "\n",
    "\n",
    "\n",
    "\n"
   ]
  },
  {
   "cell_type": "markdown",
   "metadata": {},
   "source": [
    "We wnat to solve for values for which $y_{ss} = r_{ss}$. To do this, we make $\\pmb{x_{ss}} = \\pmb N_x r_{ss}$ and ${u_{ss}} = N_u r_{ss}$. With these substitutions we can write $\\eqref{eq:ss-equations}$ as a matrix equation:\n",
    "\n",
    "\\begin{equation}\n",
    "\\begin{bmatrix}\n",
    "\\pmb F & \\pmb G\\\\\n",
    "\\pmb H & J\n",
    "\\end{bmatrix}=\n",
    "\\begin{bmatrix}\n",
    "\\pmb N_x\\\\\n",
    "N_u\n",
    "\\end{bmatrix} =\n",
    "\\begin{bmatrix}\n",
    "\\mathbf{0}\\\\\n",
    "1\n",
    "\\end{bmatrix}\n",
    "\\label{eq:ss-vector-form}\n",
    "\\end{equation}"
   ]
  },
  {
   "cell_type": "markdown",
   "metadata": {},
   "source": [
    "This equation can be solved for $\\pmb N_x$ and $N_u$ to get:\n",
    "\n",
    "\\begin{equation}\n",
    "\\begin{bmatrix}\n",
    "\\pmb N_x\\\\\n",
    "N_u\n",
    "\\end{bmatrix} =\n",
    "\\begin{bmatrix}\n",
    "\\pmb F & \\pmb G\\\\\n",
    "\\pmb H & J\n",
    "\\end{bmatrix}^{-1}\n",
    "\\begin{bmatrix}\n",
    "\\mathbf{0}\\\\\n",
    "1\n",
    "\\end{bmatrix}\n",
    "\\label{eq:ss-vector-sol}\n",
    "\\end{equation}"
   ]
  },
  {
   "cell_type": "markdown",
   "metadata": {},
   "source": [
    "With these values, we finally have the basis for introducing the reference input so as to get zero steady-state error to a step input:\n",
    "\n",
    "\\begin{equation}\n",
    "u =  N_u - \\pmb K(\\pmb x - \\pmb N_x r) = -\\pmb K \\pmb x + (N_u + \\pmb K \\pmb N_x)r\n",
    "\\label{eq:reference-input1}\n",
    "\\end{equation}"
   ]
  },
  {
   "cell_type": "markdown",
   "metadata": {},
   "source": [
    "The coefficient of r in parentheses is a constant that can be computed beforehand. We give it the symbol $\\bar{N}$ so\n",
    "\n",
    "\\begin{equation}\n",
    "u = -\\pmb K \\pmb x + \\bar N r\n",
    "\\label{eq:reference-input2}\n",
    "\\end{equation}"
   ]
  },
  {
   "cell_type": "markdown",
   "metadata": {},
   "source": []
  },
  {
   "cell_type": "markdown",
   "metadata": {},
   "source": [
    "With the reference input in place, the close loop system has input $r$ and output $y$. From the state description we know that the system poles are at the eigenvalues of the close loop system matrix $\\pmb{F-GK}$. In order to compute the close loop transient response, it's necessary to know where the close loop zeros of the transfer function from r to y are.They are to be found applying $\\eqref{eq:zerodet}$ to the close loop description, which it's assumed don't have direct path from input $u$ to output $y$, so that $J=0$. The zeros are values of $s$ such that \n",
    "\n",
    "\\begin{equation}\n",
    "det\\begin{bmatrix}\n",
    "s\\pmb I - (\\pmb F - \\pmb G \\pmb K) & -\\bar N \\pmb G\\\\\n",
    "\\pmb H & 0\n",
    "\\end{bmatrix} = 0\n",
    "\\label{eq:zeros}\n",
    "\\end{equation}"
   ]
  },
  {
   "cell_type": "markdown",
   "metadata": {},
   "source": [
    "It's possible assume two elementary facts about determinants to simplify $\\eqref{eq:zeros}$: in the first place if we divide the last column by $\\bar N$, then the point where the determinant is zero remains unchanged. The second is that the determinant also not change if it's multiplied the last column by $\\pmb K$ and ad it to the first block column; the result is that the $\\pmb{GK}$ term is cancelled out. Thus the matrix equation for zeros reduces to\n",
    "\n",
    "\\begin{equation}\n",
    "det\\begin{bmatrix}\n",
    "s\\pmb I - \\pmb F & -\\pmb G\\\\\n",
    "\\pmb H & 0\n",
    "\\end{bmatrix} = 0\n",
    "\\label{eq:zeros-simplified}\n",
    "\\end{equation}\n",
    "The above equation is the same as $\\eqref{eq:zerodet}$ for the zeros of the plant *before* the feedback was applied. The important conclusion is:\n",
    "\n",
    "<p style=\"font-weight:bold;padding:35px;background-color:azure;text-align:center\"> When full-state feedback is used as in $\\eqref{eq:reference-input1}$ or $\\eqref{eq:reference-input2}$, the zeros remain unchanged by the feedback</p>"
   ]
  },
  {
   "cell_type": "markdown",
   "metadata": {},
   "source": [
    "## Hand on lab for cart pendulum with reference input\n",
    "Having described how to obtain precise result it's shown below the block scheme *without* a gain reference. It's expected to obtain an output error."
   ]
  },
  {
   "cell_type": "markdown",
   "metadata": {},
   "source": [
    "|                        |\n",
    "|:----------------------:|\n",
    "|![HL1.png](images/HL1.png)|"
   ]
  },
  {
   "cell_type": "markdown",
   "metadata": {},
   "source": [
    "<p style=\"text-align:center\"><a name=\"fig19\">Fig. 19 </a> Block scheme of reference system with Linear Quadratic Regulator</p>"
   ]
  },
  {
   "cell_type": "markdown",
   "metadata": {},
   "source": [
    "The design criteria for this system with the cart receiving a 0.2 m step input are as follows:\n",
    " - Settling time for x and theta of less than 5 seconds.\n",
    " - Rise time for x of less than 1 second\n",
    " - Overshoot of $\\theta$ less than 20 degree (0.35 radians). Please note in this lab the up position is 0 degree and down position is $\\pi$\n",
    " - Steady-state error within 2%\n",
    "\n",
    "For an inverted pendulum it is unrealistic to consider just the single output system. Using state-space/state variables methods it is relatively simple to work with a multi-output system, so in this hand-on lab it will design a controller with both the pendulum angle and the cart position in mind.\n",
    " "
   ]
  },
  {
   "cell_type": "markdown",
   "metadata": {},
   "source": [
    "|                                                    |\n",
    "|:--------------------------------------------------:|\n",
    "|![1stepresponse.png](images/1stepresponse.png)      |"
   ]
  },
  {
   "cell_type": "markdown",
   "metadata": {},
   "source": [
    "<p style=\"text-align:left\"><a name=\"fig20\">Fig. 20 </a> The curve in red represents the pendulum's angle, in radians and the curve in blue represents the cart's position in meters. As you can see, this plot is not satisfactory. The pendulum and cart's overshoot appear fine, but their settling times need improvement and the cart's rise time needs to go down.In addition the cart is not near the desired location but has in fact moved in the other direction. This error will be dealt with in the next section and right now we will focus on the settling and rise times.</p>"
   ]
  },
  {
   "cell_type": "markdown",
   "metadata": {},
   "source": [
    "A piece of code\n",
    "```\n",
    "%% Set cart-pendulum parameters\n",
    "m = 1;\n",
    "M = 5;\n",
    "L = 2;\n",
    "g = -10;\n",
    "d = 1;\n",
    "\n",
    "s = 1; % pendulum up (s=1)\n",
    "%% Base system Matrices\n",
    "F = [0 1 0 0;\n",
    "    0 -d/M -m*g/M 0;\n",
    "    0 0 0 1;\n",
    "    0 -s*d/(M*L) -s*(m+M)*g/(M*L) 0];\n",
    "\n",
    "G = [0; 1/M; 0; s*1/(M*L)];\n",
    "\n",
    "% Set cart-position\n",
    "H = [1 0 0 0; \n",
    "        0 0 1 0];  \n",
    "\n",
    "J = zeros(size(H,1),size(G,2))\n",
    "```"
   ]
  },
  {
   "cell_type": "markdown",
   "metadata": {},
   "source": [
    "The Matlab command window should output the following text as a result:\n",
    "\n",
    "```\n",
    ">> eig(F)\n",
    "\n",
    "ans =\n",
    "\n",
    "         0\n",
    "   -2.4674\n",
    "   -0.1665\n",
    "    2.4339\n",
    "```"
   ]
  },
  {
   "cell_type": "markdown",
   "metadata": {},
   "source": [
    "The next step in the design process is to assume to have full-state feedback (i.e. that we can measure all four states), and find the vector $K$ which determines the feedback control law. This can be done in a number of ways. If it's known the desired closed-loop poles, it's possible to use the *place* or *acker* command. Another option is to use the *lqr* function; this will give you the optimal controller (under certain assumptions. The lqr function allows to choose two parameters, R and Q, which will balance the relative importance of the input and state in the cost function to optimize the trade-off. The simplest case is to assume R=1, and Q=H'*H. It's worthwhile to note that it's possible using both outputs (the pendulum's angle and the cart's position). Essentially, the lqr method allows to control both outputs. In this case, it is pretty easy to do. The controller can be tuned by changing the nonzero elements in the Q matrix to get a desirable response.\n",
    "To find the structure of Q it's possible use the matlab command:\n",
    "```\n",
    ">> H'*H\n",
    "\n",
    "ans =\n",
    "\n",
    "     1     0     0     0\n",
    "     0     0     0     0\n",
    "     0     0     1     0\n",
    "     0     0     0     0\n",
    "```\n",
    "The element in the 1,1 position will be used to weight the cart's position and the element in the 3,3 position will be used to weight the pendulum's angle. The input weighting R will remain at 1. Now that we know what the Q matrix should look like we can experiment to find the K matrix that will give a good controller. Then it's the time to find the K matrix and plot the response all in one step so that changes can be made in the control and be seen automatically in the response. Enter the following text into your m-file: \n",
    "```\n",
    "%% Linear Quadratic Regulator\n",
    "%% try different value of Q\n",
    "Q = [1 0 0 0;\n",
    "    0 0 0 0;\n",
    "    0 0 1 0;\n",
    "    0 0 0 0];\n",
    "R = 1;\n",
    "K = lqr(F,G,Q,R);  % design controller u = -K*x\n",
    "```\n",
    "```\n",
    ">> K\n",
    "\n",
    "K =\n",
    "\n",
    "   -1.0000   -5.4325  153.2343   63.8985\n",
    "```"
   ]
  },
  {
   "cell_type": "markdown",
   "metadata": {},
   "source": [
    "As noted in <a href=\"#fig20\">figure 20</a> the curve in red represents the pendulum's angle, in radians and the curve in blue represents the cart's position in meters. As you can see, this plot is not satisfactory. The pendulum and cart's overshoot appear fine, but their settling times need improvement and the cart's rise time needs to go down. The cart is not near the desired location but has in fact moved in the other direction. This error will be dealt with in the next section and right now we will focus on the settling and rise times. Go back to your m-file and change the x and y variables to see if you can get a better response. Increasing x makes the settling and rise times go down, and lowers the angle the pendulum moves. Using x=5000 and y=100, the following value of K and step response were found: \n",
    "```\n",
    "%% Linear Quadratic Regulator\n",
    "%% try different value of Q\n",
    "Q = [5000 0 0 0;\n",
    "    0 0 0 0;\n",
    "    0 0 100 0;\n",
    "    0 0 0 0];\n",
    "R = 1;\n",
    "K = lqr(F,G,Q,R);  % design controller u = -K*x\n",
    "```\n",
    "```\n",
    ">> K\n",
    "\n",
    "K =\n",
    "\n",
    "  -70.7107  -91.3062  636.5903  280.1483\n",
    "```"
   ]
  },
  {
   "cell_type": "markdown",
   "metadata": {},
   "source": [
    "|                                            |\n",
    "|:------------------------------------------:|\n",
    "|![2stepresponse.png](images/2stepresponse.png)|"
   ]
  },
  {
   "cell_type": "markdown",
   "metadata": {},
   "source": [
    "<p style=\"text-align:center\"><a name=\"fig21\">Fig. 21 </a> Different set of Q parameters </p>"
   ]
  },
  {
   "cell_type": "markdown",
   "metadata": {},
   "source": [
    "If it's increased $Q_x$ and $Q_{\\theta}$ even higher, it's possible to improve the response even more. The reason this plot was chosen was because it satisfied the design requirements while keeping x and y as small as possible. In this problem, $Q_x$ and $Q_{\\theta}$ have been used to describe the relative weight of the tracking error in the cart's position and pendulum's angle versus the control effort. The higher these 2 parameters are, the more control effort is used, but the smaller the tracking error. The system response has a settling time under 3 seconds."
   ]
  },
  {
   "cell_type": "markdown",
   "metadata": {},
   "source": [
    " In contrast to the other design methods, where it's feedback the output and compare it to the reference input to compute an error, with a full-state feedback controller it's feeding back all the states. It necessary to compute what the steady-state value of the states should be, multiply that by the chosen gain $K$, and use a new value as our reference for computing the input. This can be done by adding a constant gain $\\bar{N}$ after the reference. The schematic below shows this relationship: "
   ]
  },
  {
   "cell_type": "markdown",
   "metadata": {},
   "source": [
    "|             |\n",
    "|:-----------:|\n",
    "|![systemwithreference2.png](images/systemwithreference2.png)|"
   ]
  },
  {
   "cell_type": "markdown",
   "metadata": {},
   "source": [
    "<p style=\"text-align:center\"><a name=\"fig22\">Fig. 22 </a> Adding a gain in a reference input</p>"
   ]
  },
  {
   "cell_type": "markdown",
   "metadata": {},
   "source": [
    "Nbar can be found using the user-defined function rscale. A different H had to be used because the rscale function will not work for multiple outputs. However, the Nbar found is correct, as you can see from the output below:"
   ]
  },
  {
   "cell_type": "markdown",
   "metadata": {},
   "source": [
    "|         |\n",
    "|:-------:|\n",
    "|![3stepinput.png](images/3stepinput.png)|"
   ]
  },
  {
   "cell_type": "markdown",
   "metadata": {},
   "source": [
    "<p style=\"text-align:center\"><a name=\"fig23\">Fig. 23 </a> Step response with LQR and $\\bar{N}$ control</p>"
   ]
  },
  {
   "cell_type": "markdown",
   "metadata": {},
   "source": [
    "Here the matlab code:\n",
    "```\n",
    "%% Set augmented system\n",
    "Ac = [(F - G*K)];\n",
    "Bc = [G];\n",
    "Cc = [H];\n",
    "Dc = [J];\n",
    "\n",
    "%% Plot system with reference\n",
    "T=0:0.01:25;\n",
    "U=0.2*ones(size(T));\n",
    "[Y,X]=lsim(Ac,Bc,Cc,Dc,U,T);\n",
    "%plot(T,Y)\n",
    "%legend('Cart','Pendulum')\n",
    "\n",
    "\n",
    "%% Set gain reference\n",
    "Cn = [1 0 0 0];\n",
    "Nbar = rscale(F,G,Cn,0,K);\n",
    "Bcn = [Nbar*G];\n",
    "[Y,X] = lsim(Ac,Bcn,Cc,Dc,U,T);\n",
    "plot(T,Y)\n",
    "legend('Cart position','pendulum angle')\n",
    "```\n",
    "```\n",
    "function[Nbar]=rscale(A,B,C,D,K)\n",
    "\n",
    "s = size(A,1);\n",
    "Z = [zeros([1,s]) 1];\n",
    "N = inv([A,B;C,D])*Z';\n",
    "Nx = N(1:s);\n",
    "Nu = N(1+s);\n",
    "Nbar=Nu + K*Nx;\n",
    "```\n",
    "Note that rscale function implements the equation $\\eqref{eq:ss-vector-sol}$"
   ]
  },
  {
   "cell_type": "markdown",
   "metadata": {},
   "source": [
    "## Robust Tracking Control: The error space Approach\n",
    "\n",
    "The proble of tracking $r$ and rejecting the disturbance can be seen as an exercise in design a control law to provide *regulation of the error*, which is to say that the error $e$ tends to zero as time gets large. The control must also be **structurally stable** or **robust**, in the sense that regulation of $e$ to zero in the steady-state occurs even in the presence of \"small\" perturbations of the original system parameters. Note that, in practice, it's impossible to have a perfect model of the plant, and the values of parameters are virtually always subject to some change, so robustness is always very important.\n",
    "\n",
    "Suppose we have a system equations"
   ]
  },
  {
   "cell_type": "markdown",
   "metadata": {},
   "source": [
    "\\begin{align}\n",
    "\\dot{\\pmb x} &= \\pmb{Fx} + \\pmb G u + \\pmb G_1 w \\label{eq:state-system} \\\\\n",
    "y &= \\pmb H \\pmb x \\label{eq:output-system}\n",
    "\\end{align}"
   ]
  },
  {
   "cell_type": "markdown",
   "metadata": {},
   "source": [
    "and a reference signal that is known to satisfy a specific differential equation. Plant disturbances of the same class may also be present. The goal is to design a controller for this system so that the close-loop system will have specified poles, and can also track input command signals, and reject disturbances of the type described without steady-state error. A solution is developed only for second order differential equation. Let's define the reference input to satisfy the relation "
   ]
  },
  {
   "cell_type": "markdown",
   "metadata": {},
   "source": [
    "\\begin{equation}\\label{eq:eq-input}\n",
    "\\ddot r + \\alpha_1 \\dot r + \\alpha_2 r = 0\n",
    "\\end{equation}"
   ]
  },
  {
   "cell_type": "markdown",
   "metadata": {},
   "source": [
    "and the disturbance to satisfy exactly the same equation:\n",
    "\\begin{equation}\\label{eq:eq-disturbance}\n",
    "\\ddot w +\\alpha_1 \\dot w +\\alpha_2 w = 0\n",
    "\\end{equation}\n"
   ]
  },
  {
   "cell_type": "markdown",
   "metadata": {},
   "source": [
    "The tracking error is defined as\n",
    "\\begin{equation}\\label{eq:error}\n",
    "e = y - r\n",
    "\\end{equation}"
   ]
  },
  {
   "cell_type": "markdown",
   "metadata": {},
   "source": [
    "The strategy is eliminate the reference from the equations in favor of the error. Replacing $r$ in $\\eqref{eq:eq-input}$ with the error of $\\eqref{eq:error}$ then it's possible to note that reference cancels because of Eq. $\\eqref{eq:eq-input}$ obtaining the below result\n"
   ]
  },
  {
   "cell_type": "markdown",
   "metadata": {},
   "source": [
    "\\begin{align}\n",
    "\\ddot e + \\alpha_1 \\dot e + \\alpha_2 e &= \\ddot y + \\alpha_1 \\dot y + \\alpha_2 y \\label{eq:no-input} \\\\\n",
    "                                       &= \\pmb H \\pmb{\\ddot x} + \\alpha_1 \\pmb H \\pmb{\\dot x}+ \\alpha_2 \\pmb H     \\pmb{x} \\nonumber\n",
    "\\end{align}\n"
   ]
  },
  {
   "cell_type": "markdown",
   "metadata": {},
   "source": [
    "Now it's possible replace the plant state vector with the error space state, defined by\n",
    "\n",
    "\\begin{equation}\\label{eq:xi}\n",
    "\\xi \\equiv \\pmb{\\ddot x} + \\alpha_1 \\pmb{\\dot x} + \\alpha_2 \\pmb{x}\n",
    "\\end{equation}\n",
    "\n",
    "and similarly replace the control with *the control in error space* defined by\n",
    "\n",
    "\\begin{equation}\\label{eq:control-error}\n",
    "\\mu \\equiv {\\ddot u} + \\alpha_1 {\\dot u} + \\alpha_2 {u}\n",
    "\\end{equation}\n",
    "\n",
    "The error differential equation becomes:\n",
    "\n",
    "\\begin{equation}\\label{eq:eq-error2}\n",
    "\\ddot e + \\alpha_1 \\dot e + \\alpha_2 e = \\pmb H \\xi\n",
    "\\end{equation}\n",
    "\n",
    "and the state equation for $\\xi$ is given by\n",
    "\n",
    "\\begin{equation}\\label{eq:xi-state-eq}\n",
    "\\dot \\xi = \\pmb{\\dddot x} + \\alpha_1 \\pmb{\\ddot x} + \\alpha_2 \\pmb{\\dot x}\n",
    "\\end{equation}\n"
   ]
  },
  {
   "cell_type": "markdown",
   "metadata": {},
   "source": [
    "Notice that the disturbance, as well the reference, cancels from $\\eqref{eq:xi-state-eq}$. In standard state-variable form, the equations are :\n",
    "\n",
    "\\begin{equation}\\label{eq:state-z}\n",
    "\\pmb{\\dot z} = \\pmb A \\pmb z + \\pmb B \\mu\n",
    "\\end{equation}"
   ]
  },
  {
   "cell_type": "markdown",
   "metadata": {},
   "source": [
    "where $\\pmb z = \\begin{bmatrix}e & \\dot e & \\xi^T \\end{bmatrix}^{T}$ and :"
   ]
  },
  {
   "cell_type": "markdown",
   "metadata": {},
   "source": [
    "\\begin{equation}\\label{eq:matrices}\n",
    "\\pmb A = \\begin{bmatrix}\n",
    "0 & 1 & \\mathbf{0}\\\\\n",
    "-\\alpha_2 & -\\alpha_1 & \\pmb H\\\\\n",
    "\\mathbf{0} & \\mathbf{0} & \\pmb F\n",
    "\\end{bmatrix}, \\pmb B = \\begin{bmatrix}\n",
    "0\\\\\n",
    "0\\\\\n",
    "\\pmb G\n",
    "\\end{bmatrix}\n",
    "\\end{equation}"
   ]
  },
  {
   "cell_type": "markdown",
   "metadata": {},
   "source": [
    "Having back the system into a canonical form it may be asked about the controllability. It turns out that the plant $(\\pmb F, \\pmb G)$ is controllable and does not have a zero at any of the roots of the reference-signal characteristic equation\n",
    "\n",
    "\\begin{equation}\\label{eq:reference-signal-ch-eq}\n",
    "\\alpha_r(s) = s^2 + \\alpha_1 s + \\alpha_2 \n",
    "\\end{equation}\n",
    "\n",
    "then the error system $(\\pmb A, \\pmb B)$ is controllable.\n",
    "Assuming these conditions hold, there exist a control law of the form\n",
    "\n",
    "\\begin{equation}\\label{eq:control-error-law}\n",
    "\\mu = -\\begin{bmatrix} K_2 & K_1 & \\pmb K_0 \\end{bmatrix} \\begin{bmatrix}e\\\\ \\dot e\\\\ \\xi \\end{bmatrix}=-\\pmb{Kz}\n",
    "\\end{equation}\n",
    "\n",
    "such that the error system has arbitrary dynamics by pole placement."
   ]
  },
  {
   "cell_type": "markdown",
   "metadata": {},
   "source": [
    "Combining the equations $\\eqref{eq:control-error-law}$,$\\eqref{eq:xi}$ and $\\eqref{eq:control-error}$ to get the control law in term of $u$ and $\\pmb x$:\n",
    "\\begin{equation}\\label{eq:control-law-u-x}\n",
    "(u+\\pmb K_0 \\pmb x)^{(2)} + \\sum_{i=1}^{2}{\\alpha_i(u+\\pmb K_0 \\pmb x)}^{(2-i)}=-\\sum_{i=1}^{2}{K_ie^{2-1}}\n",
    "\\end{equation}\n"
   ]
  },
  {
   "cell_type": "markdown",
   "metadata": {},
   "source": [
    "It's possible to note that for $\\dot r=0$ the control law $\\eqref{eq:control-law-u-x}$ reduces to:\n",
    "\\begin{equation}\\label{eq:PI-diff-eq}\n",
    "\\dot u + \\pmb K_0 \\dot{\\pmb x} = -K_1e\n",
    "\\end{equation}"
   ]
  },
  {
   "cell_type": "markdown",
   "metadata": {},
   "source": [
    "Integrating for u revealing the control law and the action of integral control:\n",
    "\\begin{equation}\\label{eq:integral-control}\n",
    "u=-K_1 \\int_{}^{t}{e d\\tau} - \\pmb K_0\\pmb x\n",
    "\\end{equation}"
   ]
  },
  {
   "cell_type": "markdown",
   "metadata": {},
   "source": [
    "A block diagram of the system is shown below; in the forward controller is possible to see the presence of a pure integrator."
   ]
  },
  {
   "cell_type": "markdown",
   "metadata": {},
   "source": [
    "|      |\n",
    "|:----:|\n",
    "|![integral-control.png](images/integral-control.png)|"
   ]
  },
  {
   "cell_type": "markdown",
   "metadata": {},
   "source": [
    "<p style=\"text-align:center\"><a name=\"fig24\">Fig. 24 </a> Reference with integral control</p>"
   ]
  },
  {
   "cell_type": "markdown",
   "metadata": {},
   "source": [
    "From the nature of the pole placement problem, the state $\\pmb z$ in Eq.$\\eqref{eq:state-z}$ will tend toward zero for all perturbations in the system parameters as long as $\\pmb{A-BK}$ remains stable. It's clear that the signals rejected are those satisfy the equations with values $\\alpha_i$ implemented in the model. Error values means a steady state error also. "
   ]
  },
  {
   "cell_type": "markdown",
   "metadata": {},
   "source": [
    "## Hand on lab. Control integrator for inverted pendulum\n",
    "\n",
    "For the system:\n",
    "\\begin{align}\\label{eq:state-eq-control-integral}\n",
    "\\pmb{\\dot x} &= \\pmb F \\pmb x + \\pmb G u + \\pmb G_1 w \\\\\n",
    "y &= \\pmb H \\pmb x \\nonumber\n",
    "\\end{align}\n",
    "\n",
    "it's possible feed back the integral control, $e=y-r$, together the state of the plant $\\pmb x$, by augmenting the plant state with the extra integral state $x_I$ which respond to the differential equation:\n",
    "\\begin{equation}\\label{eq:integral-error}\n",
    "\\dot{x_I} = \\pmb H \\pmb x - r(=e), x_I = \\int_{}^{t}{e \\space d\\tau}\n",
    "\\end{equation}"
   ]
  },
  {
   "cell_type": "markdown",
   "metadata": {},
   "source": [
    "The augmented state equations become:\n",
    "\\begin{equation}\\label{eq:aug-state-eq}\n",
    "\\begin{bmatrix}\n",
    "\\dot x_I\\\\\n",
    "\\pmb{\\dot x}\n",
    "\\end{bmatrix}=\n",
    "\\begin{bmatrix}\n",
    "0 & \\pmb H\\\\\n",
    "\\mathbf{0} & \\pmb F\n",
    "\\end{bmatrix}\n",
    "\\begin{bmatrix}\n",
    "x_I\\\\\n",
    "\\pmb x\n",
    "\\end{bmatrix}+\n",
    "\\begin{bmatrix}\n",
    "0\\\\\n",
    "\\pmb G\n",
    "\\end{bmatrix}u -\n",
    "\\begin{bmatrix}\n",
    "1\\\\\n",
    "\\mathbf{0}\n",
    "\\end{bmatrix} r +\n",
    "\\begin{bmatrix}\n",
    "0\\\\\n",
    "\\pmb{G}_1\n",
    "\\end{bmatrix} w\n",
    "\\end{equation}"
   ]
  },
  {
   "cell_type": "markdown",
   "metadata": {},
   "source": [
    "and the feedback law is:\n",
    "\\begin{equation}\\label{eq:feedback-law}\n",
    "u = - \\begin{bmatrix}\n",
    "K_I & \\pmb K_0\n",
    "\\end{bmatrix}\n",
    "\\begin{bmatrix}\n",
    "x_I\\\\\n",
    "\\pmb x\n",
    "\\end{bmatrix}\n",
    "\\end{equation}"
   ]
  },
  {
   "cell_type": "markdown",
   "metadata": {},
   "source": [
    "The problem is traced back to a LQR system."
   ]
  },
  {
   "cell_type": "markdown",
   "metadata": {},
   "source": [
    "|           |\n",
    "|:---------:|\n",
    "|![simulink-integral-control.png](images/simulink-integral-control.png)|"
   ]
  },
  {
   "cell_type": "markdown",
   "metadata": {},
   "source": [
    "<p style=\"text-align:center\"><a name=\"fig25\">Fig. 25 </a> Simulink for integral control with reference</p>"
   ]
  },
  {
   "cell_type": "markdown",
   "metadata": {},
   "source": [
    "Building a simulation via *simulink* means recover the LQR part plus the feedback with reference, an integral control plus a random number generator to create the disturbance over the *u* line. In particular the system is under a unit step reference that cart pendulum position \"x\" has to follow.\n",
    "The matlab code follow the LQR part for the augmented system:\n",
    "```\n",
    "clear all, close all, clc\n",
    "\n",
    "%% Set cart-pendulum parameters\n",
    "m = 1;\n",
    "M = 5;\n",
    "L = 2;\n",
    "g = -10;\n",
    "d = 1;\n",
    "\n",
    "s = 1; % pendulum up (s=1)\n",
    "%% Base system Matrices\n",
    "F = [0 1 0 0;\n",
    "    0 -d/M -m*g/M 0;\n",
    "    0 0 0 1;\n",
    "    0 -s*d/(M*L) -s*(m+M)*g/(M*L) 0];\n",
    "\n",
    "G = [0; 1/M; 0; s*1/(M*L)];\n",
    "\n",
    "% Set cart-position and pendulum angle\n",
    "H = [1 0 0 0]\n",
    "        \n",
    "\n",
    "J = zeros(size(H,1),size(G,2));\n",
    "\n",
    "%% Integral control augmented system\n",
    "Fa = [0 H;0 F(1,:);0 F(2,:);0 F(3,:);0 F(4,:)];\n",
    "Ga = [0; G];\n",
    "K = lqr(Fa,Ga,eye(5),R);\n",
    "```\n",
    "printing K via command line\n",
    "\n",
    "```\n",
    ">> K\n",
    "\n",
    "K =\n",
    "\n",
    "   1.0e+03 *\n",
    "\n",
    "   -0.1000   -0.2696   -0.3145    2.0341    0.9096\n",
    "```"
   ]
  },
  {
   "cell_type": "markdown",
   "metadata": {},
   "source": [
    "Here the graphs of simulation:"
   ]
  },
  {
   "cell_type": "markdown",
   "metadata": {},
   "source": [
    "|         |\n",
    "|:-------:|\n",
    "|![integral-control-with-reference.png](images/integral-control-with-reference.png)|"
   ]
  },
  {
   "cell_type": "markdown",
   "metadata": {},
   "source": [
    "<p style=\"text-align:left\"><a name=\"fig26\">Fig. 26 </a>As noted $\\theta=\\pi$ when pendulum is in \"up\" unstable position. The feed back reject the disturbance and the cart tracks the step reference starting at time $t=10$ seconds </p>"
   ]
  }
 ],
 "metadata": {
  "hide_input": false,
  "kernelspec": {
   "display_name": "Python 3",
   "language": "python",
   "name": "python3"
  },
  "language_info": {
   "codemirror_mode": {
    "name": "ipython",
    "version": 3
   },
   "file_extension": ".py",
   "mimetype": "text/x-python",
   "name": "python",
   "nbconvert_exporter": "python",
   "pygments_lexer": "ipython3",
   "version": "3.7.3"
  },
  "latex_envs": {
   "LaTeX_envs_menu_present": true,
   "autoclose": true,
   "autocomplete": true,
   "bibliofile": "biblio.bib",
   "cite_by": "apalike",
   "current_citInitial": 1,
   "eqLabelWithNumbers": true,
   "eqNumInitial": 1,
   "hotkeys": {
    "equation": "Ctrl-E",
    "itemize": "Ctrl-I"
   },
   "labels_anchors": false,
   "latex_user_defs": false,
   "report_style_numbering": false,
   "user_envs_cfg": false
  },
  "nbTranslate": {
   "displayLangs": [
    "*"
   ],
   "hotkey": "alt-t",
   "langInMainMenu": true,
   "sourceLang": "en",
   "targetLang": "fr",
   "useGoogleTranslate": true
  },
  "toc": {
   "base_numbering": 1,
   "nav_menu": {},
   "number_sections": true,
   "sideBar": true,
   "skip_h1_title": false,
   "title_cell": "Table of Contents",
   "title_sidebar": "Contents",
   "toc_cell": false,
   "toc_position": {
    "height": "calc(100% - 180px)",
    "left": "10px",
    "top": "150px",
    "width": "288.733px"
   },
   "toc_section_display": true,
   "toc_window_display": false
  }
 },
 "nbformat": 4,
 "nbformat_minor": 2
}
